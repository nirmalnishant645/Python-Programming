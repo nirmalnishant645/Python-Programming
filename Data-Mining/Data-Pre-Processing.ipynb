{
  "nbformat": 4,
  "nbformat_minor": 0,
  "metadata": {
    "colab": {
      "name": "Introduction-To-Data-PreProcessing.ipynb",
      "provenance": []
    },
    "kernelspec": {
      "name": "python3",
      "display_name": "Python 3"
    }
  },
  "cells": [
    {
      "cell_type": "code",
      "metadata": {
        "id": "n5SffVH7WyKD",
        "colab_type": "code",
        "colab": {}
      },
      "source": [
        "%matplotlib inline\n",
        "import pandas as pd\n",
        "import numpy as np\n",
        "import matplotlib.pyplot as plt\n"
      ],
      "execution_count": 0,
      "outputs": []
    },
    {
      "cell_type": "code",
      "metadata": {
        "id": "hTx7f0phZFIR",
        "colab_type": "code",
        "colab": {
          "base_uri": "https://localhost:8080/",
          "height": 141
        },
        "outputId": "1a7a624b-42c9-4036-f939-125bf5a38802"
      },
      "source": [
        "from google.colab import drive \n",
        "drive.mount('/mntDrive') \n",
        "!ls \"/mntDrive/My Drive/Colab Notebooks\"\n"
      ],
      "execution_count": 2,
      "outputs": [
        {
          "output_type": "stream",
          "text": [
            "Go to this URL in a browser: https://accounts.google.com/o/oauth2/auth?client_id=947318989803-6bn6qk8qdgf4n4g3pfee6491hc0brc4i.apps.googleusercontent.com&redirect_uri=urn%3aietf%3awg%3aoauth%3a2.0%3aoob&response_type=code&scope=email%20https%3a%2f%2fwww.googleapis.com%2fauth%2fdocs.test%20https%3a%2f%2fwww.googleapis.com%2fauth%2fdrive%20https%3a%2f%2fwww.googleapis.com%2fauth%2fdrive.photos.readonly%20https%3a%2f%2fwww.googleapis.com%2fauth%2fpeopleapi.readonly\n",
            "\n",
            "Enter your authorization code:\n",
            "··········\n",
            "Mounted at /mntDrive\n",
            "Introduction-To-Data-PreProcessing.ipynb  pima1.csv\n"
          ],
          "name": "stdout"
        }
      ]
    },
    {
      "cell_type": "markdown",
      "metadata": {
        "id": "02ESSs6qZqXn",
        "colab_type": "text"
      },
      "source": [
        ""
      ]
    },
    {
      "cell_type": "code",
      "metadata": {
        "id": "H9cAjsktYGkV",
        "colab_type": "code",
        "colab": {}
      },
      "source": [
        "df=pd.read_csv('/mntDrive/My Drive/Colab Notebooks/pima1.csv')"
      ],
      "execution_count": 0,
      "outputs": []
    },
    {
      "cell_type": "code",
      "metadata": {
        "id": "2MUSOJOrZPmW",
        "colab_type": "code",
        "colab": {
          "base_uri": "https://localhost:8080/",
          "height": 424
        },
        "outputId": "d778bb2c-7772-42a3-e12f-6947d36aa14d"
      },
      "source": [
        "df"
      ],
      "execution_count": 4,
      "outputs": [
        {
          "output_type": "execute_result",
          "data": {
            "text/html": [
              "<div>\n",
              "<style scoped>\n",
              "    .dataframe tbody tr th:only-of-type {\n",
              "        vertical-align: middle;\n",
              "    }\n",
              "\n",
              "    .dataframe tbody tr th {\n",
              "        vertical-align: top;\n",
              "    }\n",
              "\n",
              "    .dataframe thead th {\n",
              "        text-align: right;\n",
              "    }\n",
              "</style>\n",
              "<table border=\"1\" class=\"dataframe\">\n",
              "  <thead>\n",
              "    <tr style=\"text-align: right;\">\n",
              "      <th></th>\n",
              "      <th>pregnancy</th>\n",
              "      <th>plasma_glucose</th>\n",
              "      <th>distolic_bp</th>\n",
              "      <th>skin_thick</th>\n",
              "      <th>insuline</th>\n",
              "      <th>BMI</th>\n",
              "      <th>pedigree_fn</th>\n",
              "      <th>age</th>\n",
              "      <th>Diabetes</th>\n",
              "    </tr>\n",
              "  </thead>\n",
              "  <tbody>\n",
              "    <tr>\n",
              "      <th>0</th>\n",
              "      <td>6</td>\n",
              "      <td>148</td>\n",
              "      <td>72</td>\n",
              "      <td>35</td>\n",
              "      <td>0</td>\n",
              "      <td>33.6</td>\n",
              "      <td>0.627</td>\n",
              "      <td>50</td>\n",
              "      <td>tested_positive</td>\n",
              "    </tr>\n",
              "    <tr>\n",
              "      <th>1</th>\n",
              "      <td>1</td>\n",
              "      <td>85</td>\n",
              "      <td>66</td>\n",
              "      <td>29</td>\n",
              "      <td>0</td>\n",
              "      <td>26.6</td>\n",
              "      <td>0.351</td>\n",
              "      <td>31</td>\n",
              "      <td>tested_negative</td>\n",
              "    </tr>\n",
              "    <tr>\n",
              "      <th>2</th>\n",
              "      <td>8</td>\n",
              "      <td>183</td>\n",
              "      <td>64</td>\n",
              "      <td>0</td>\n",
              "      <td>0</td>\n",
              "      <td>23.3</td>\n",
              "      <td>0.672</td>\n",
              "      <td>32</td>\n",
              "      <td>tested_positive</td>\n",
              "    </tr>\n",
              "    <tr>\n",
              "      <th>3</th>\n",
              "      <td>1</td>\n",
              "      <td>89</td>\n",
              "      <td>66</td>\n",
              "      <td>23</td>\n",
              "      <td>94</td>\n",
              "      <td>28.1</td>\n",
              "      <td>0.167</td>\n",
              "      <td>21</td>\n",
              "      <td>tested_negative</td>\n",
              "    </tr>\n",
              "    <tr>\n",
              "      <th>4</th>\n",
              "      <td>0</td>\n",
              "      <td>137</td>\n",
              "      <td>40</td>\n",
              "      <td>35</td>\n",
              "      <td>168</td>\n",
              "      <td>43.1</td>\n",
              "      <td>2.288</td>\n",
              "      <td>33</td>\n",
              "      <td>tested_positive</td>\n",
              "    </tr>\n",
              "    <tr>\n",
              "      <th>...</th>\n",
              "      <td>...</td>\n",
              "      <td>...</td>\n",
              "      <td>...</td>\n",
              "      <td>...</td>\n",
              "      <td>...</td>\n",
              "      <td>...</td>\n",
              "      <td>...</td>\n",
              "      <td>...</td>\n",
              "      <td>...</td>\n",
              "    </tr>\n",
              "    <tr>\n",
              "      <th>763</th>\n",
              "      <td>10</td>\n",
              "      <td>101</td>\n",
              "      <td>76</td>\n",
              "      <td>48</td>\n",
              "      <td>180</td>\n",
              "      <td>32.9</td>\n",
              "      <td>0.171</td>\n",
              "      <td>63</td>\n",
              "      <td>tested_negative</td>\n",
              "    </tr>\n",
              "    <tr>\n",
              "      <th>764</th>\n",
              "      <td>2</td>\n",
              "      <td>122</td>\n",
              "      <td>70</td>\n",
              "      <td>27</td>\n",
              "      <td>0</td>\n",
              "      <td>36.8</td>\n",
              "      <td>0.340</td>\n",
              "      <td>27</td>\n",
              "      <td>tested_negative</td>\n",
              "    </tr>\n",
              "    <tr>\n",
              "      <th>765</th>\n",
              "      <td>5</td>\n",
              "      <td>121</td>\n",
              "      <td>72</td>\n",
              "      <td>23</td>\n",
              "      <td>112</td>\n",
              "      <td>26.2</td>\n",
              "      <td>0.245</td>\n",
              "      <td>30</td>\n",
              "      <td>tested_negative</td>\n",
              "    </tr>\n",
              "    <tr>\n",
              "      <th>766</th>\n",
              "      <td>1</td>\n",
              "      <td>126</td>\n",
              "      <td>60</td>\n",
              "      <td>0</td>\n",
              "      <td>0</td>\n",
              "      <td>30.1</td>\n",
              "      <td>0.349</td>\n",
              "      <td>47</td>\n",
              "      <td>tested_positive</td>\n",
              "    </tr>\n",
              "    <tr>\n",
              "      <th>767</th>\n",
              "      <td>1</td>\n",
              "      <td>93</td>\n",
              "      <td>70</td>\n",
              "      <td>31</td>\n",
              "      <td>0</td>\n",
              "      <td>30.4</td>\n",
              "      <td>0.315</td>\n",
              "      <td>23</td>\n",
              "      <td>tested_negative</td>\n",
              "    </tr>\n",
              "  </tbody>\n",
              "</table>\n",
              "<p>768 rows × 9 columns</p>\n",
              "</div>"
            ],
            "text/plain": [
              "     pregnancy  plasma_glucose  distolic_bp  ...  pedigree_fn  age         Diabetes\n",
              "0            6             148           72  ...        0.627   50  tested_positive\n",
              "1            1              85           66  ...        0.351   31  tested_negative\n",
              "2            8             183           64  ...        0.672   32  tested_positive\n",
              "3            1              89           66  ...        0.167   21  tested_negative\n",
              "4            0             137           40  ...        2.288   33  tested_positive\n",
              "..         ...             ...          ...  ...          ...  ...              ...\n",
              "763         10             101           76  ...        0.171   63  tested_negative\n",
              "764          2             122           70  ...        0.340   27  tested_negative\n",
              "765          5             121           72  ...        0.245   30  tested_negative\n",
              "766          1             126           60  ...        0.349   47  tested_positive\n",
              "767          1              93           70  ...        0.315   23  tested_negative\n",
              "\n",
              "[768 rows x 9 columns]"
            ]
          },
          "metadata": {
            "tags": []
          },
          "execution_count": 4
        }
      ]
    },
    {
      "cell_type": "code",
      "metadata": {
        "id": "V0KzqDrHoSX6",
        "colab_type": "code",
        "colab": {
          "base_uri": "https://localhost:8080/",
          "height": 300
        },
        "outputId": "3c186e39-5152-420e-b97a-333c14c2caee"
      },
      "source": [
        "df.describe()"
      ],
      "execution_count": 5,
      "outputs": [
        {
          "output_type": "execute_result",
          "data": {
            "text/html": [
              "<div>\n",
              "<style scoped>\n",
              "    .dataframe tbody tr th:only-of-type {\n",
              "        vertical-align: middle;\n",
              "    }\n",
              "\n",
              "    .dataframe tbody tr th {\n",
              "        vertical-align: top;\n",
              "    }\n",
              "\n",
              "    .dataframe thead th {\n",
              "        text-align: right;\n",
              "    }\n",
              "</style>\n",
              "<table border=\"1\" class=\"dataframe\">\n",
              "  <thead>\n",
              "    <tr style=\"text-align: right;\">\n",
              "      <th></th>\n",
              "      <th>pregnancy</th>\n",
              "      <th>plasma_glucose</th>\n",
              "      <th>distolic_bp</th>\n",
              "      <th>skin_thick</th>\n",
              "      <th>insuline</th>\n",
              "      <th>BMI</th>\n",
              "      <th>pedigree_fn</th>\n",
              "      <th>age</th>\n",
              "    </tr>\n",
              "  </thead>\n",
              "  <tbody>\n",
              "    <tr>\n",
              "      <th>count</th>\n",
              "      <td>768.000000</td>\n",
              "      <td>768.000000</td>\n",
              "      <td>768.000000</td>\n",
              "      <td>768.000000</td>\n",
              "      <td>768.000000</td>\n",
              "      <td>768.000000</td>\n",
              "      <td>768.000000</td>\n",
              "      <td>768.000000</td>\n",
              "    </tr>\n",
              "    <tr>\n",
              "      <th>mean</th>\n",
              "      <td>3.845052</td>\n",
              "      <td>120.894531</td>\n",
              "      <td>69.105469</td>\n",
              "      <td>20.536458</td>\n",
              "      <td>79.799479</td>\n",
              "      <td>31.992578</td>\n",
              "      <td>0.471876</td>\n",
              "      <td>33.240885</td>\n",
              "    </tr>\n",
              "    <tr>\n",
              "      <th>std</th>\n",
              "      <td>3.369578</td>\n",
              "      <td>31.972618</td>\n",
              "      <td>19.355807</td>\n",
              "      <td>15.952218</td>\n",
              "      <td>115.244002</td>\n",
              "      <td>7.884160</td>\n",
              "      <td>0.331329</td>\n",
              "      <td>11.760232</td>\n",
              "    </tr>\n",
              "    <tr>\n",
              "      <th>min</th>\n",
              "      <td>0.000000</td>\n",
              "      <td>0.000000</td>\n",
              "      <td>0.000000</td>\n",
              "      <td>0.000000</td>\n",
              "      <td>0.000000</td>\n",
              "      <td>0.000000</td>\n",
              "      <td>0.078000</td>\n",
              "      <td>21.000000</td>\n",
              "    </tr>\n",
              "    <tr>\n",
              "      <th>25%</th>\n",
              "      <td>1.000000</td>\n",
              "      <td>99.000000</td>\n",
              "      <td>62.000000</td>\n",
              "      <td>0.000000</td>\n",
              "      <td>0.000000</td>\n",
              "      <td>27.300000</td>\n",
              "      <td>0.243750</td>\n",
              "      <td>24.000000</td>\n",
              "    </tr>\n",
              "    <tr>\n",
              "      <th>50%</th>\n",
              "      <td>3.000000</td>\n",
              "      <td>117.000000</td>\n",
              "      <td>72.000000</td>\n",
              "      <td>23.000000</td>\n",
              "      <td>30.500000</td>\n",
              "      <td>32.000000</td>\n",
              "      <td>0.372500</td>\n",
              "      <td>29.000000</td>\n",
              "    </tr>\n",
              "    <tr>\n",
              "      <th>75%</th>\n",
              "      <td>6.000000</td>\n",
              "      <td>140.250000</td>\n",
              "      <td>80.000000</td>\n",
              "      <td>32.000000</td>\n",
              "      <td>127.250000</td>\n",
              "      <td>36.600000</td>\n",
              "      <td>0.626250</td>\n",
              "      <td>41.000000</td>\n",
              "    </tr>\n",
              "    <tr>\n",
              "      <th>max</th>\n",
              "      <td>17.000000</td>\n",
              "      <td>199.000000</td>\n",
              "      <td>122.000000</td>\n",
              "      <td>99.000000</td>\n",
              "      <td>846.000000</td>\n",
              "      <td>67.100000</td>\n",
              "      <td>2.420000</td>\n",
              "      <td>81.000000</td>\n",
              "    </tr>\n",
              "  </tbody>\n",
              "</table>\n",
              "</div>"
            ],
            "text/plain": [
              "        pregnancy  plasma_glucose  ...  pedigree_fn         age\n",
              "count  768.000000      768.000000  ...   768.000000  768.000000\n",
              "mean     3.845052      120.894531  ...     0.471876   33.240885\n",
              "std      3.369578       31.972618  ...     0.331329   11.760232\n",
              "min      0.000000        0.000000  ...     0.078000   21.000000\n",
              "25%      1.000000       99.000000  ...     0.243750   24.000000\n",
              "50%      3.000000      117.000000  ...     0.372500   29.000000\n",
              "75%      6.000000      140.250000  ...     0.626250   41.000000\n",
              "max     17.000000      199.000000  ...     2.420000   81.000000\n",
              "\n",
              "[8 rows x 8 columns]"
            ]
          },
          "metadata": {
            "tags": []
          },
          "execution_count": 5
        }
      ]
    },
    {
      "cell_type": "code",
      "metadata": {
        "id": "RJX9BEBFcgh7",
        "colab_type": "code",
        "colab": {
          "base_uri": "https://localhost:8080/",
          "height": 206
        },
        "outputId": "62dc5505-9c90-4229-cfd7-36ef5d6cbead"
      },
      "source": [
        "df.head()"
      ],
      "execution_count": 6,
      "outputs": [
        {
          "output_type": "execute_result",
          "data": {
            "text/html": [
              "<div>\n",
              "<style scoped>\n",
              "    .dataframe tbody tr th:only-of-type {\n",
              "        vertical-align: middle;\n",
              "    }\n",
              "\n",
              "    .dataframe tbody tr th {\n",
              "        vertical-align: top;\n",
              "    }\n",
              "\n",
              "    .dataframe thead th {\n",
              "        text-align: right;\n",
              "    }\n",
              "</style>\n",
              "<table border=\"1\" class=\"dataframe\">\n",
              "  <thead>\n",
              "    <tr style=\"text-align: right;\">\n",
              "      <th></th>\n",
              "      <th>pregnancy</th>\n",
              "      <th>plasma_glucose</th>\n",
              "      <th>distolic_bp</th>\n",
              "      <th>skin_thick</th>\n",
              "      <th>insuline</th>\n",
              "      <th>BMI</th>\n",
              "      <th>pedigree_fn</th>\n",
              "      <th>age</th>\n",
              "      <th>Diabetes</th>\n",
              "    </tr>\n",
              "  </thead>\n",
              "  <tbody>\n",
              "    <tr>\n",
              "      <th>0</th>\n",
              "      <td>6</td>\n",
              "      <td>148</td>\n",
              "      <td>72</td>\n",
              "      <td>35</td>\n",
              "      <td>0</td>\n",
              "      <td>33.6</td>\n",
              "      <td>0.627</td>\n",
              "      <td>50</td>\n",
              "      <td>tested_positive</td>\n",
              "    </tr>\n",
              "    <tr>\n",
              "      <th>1</th>\n",
              "      <td>1</td>\n",
              "      <td>85</td>\n",
              "      <td>66</td>\n",
              "      <td>29</td>\n",
              "      <td>0</td>\n",
              "      <td>26.6</td>\n",
              "      <td>0.351</td>\n",
              "      <td>31</td>\n",
              "      <td>tested_negative</td>\n",
              "    </tr>\n",
              "    <tr>\n",
              "      <th>2</th>\n",
              "      <td>8</td>\n",
              "      <td>183</td>\n",
              "      <td>64</td>\n",
              "      <td>0</td>\n",
              "      <td>0</td>\n",
              "      <td>23.3</td>\n",
              "      <td>0.672</td>\n",
              "      <td>32</td>\n",
              "      <td>tested_positive</td>\n",
              "    </tr>\n",
              "    <tr>\n",
              "      <th>3</th>\n",
              "      <td>1</td>\n",
              "      <td>89</td>\n",
              "      <td>66</td>\n",
              "      <td>23</td>\n",
              "      <td>94</td>\n",
              "      <td>28.1</td>\n",
              "      <td>0.167</td>\n",
              "      <td>21</td>\n",
              "      <td>tested_negative</td>\n",
              "    </tr>\n",
              "    <tr>\n",
              "      <th>4</th>\n",
              "      <td>0</td>\n",
              "      <td>137</td>\n",
              "      <td>40</td>\n",
              "      <td>35</td>\n",
              "      <td>168</td>\n",
              "      <td>43.1</td>\n",
              "      <td>2.288</td>\n",
              "      <td>33</td>\n",
              "      <td>tested_positive</td>\n",
              "    </tr>\n",
              "  </tbody>\n",
              "</table>\n",
              "</div>"
            ],
            "text/plain": [
              "   pregnancy  plasma_glucose  distolic_bp  ...  pedigree_fn  age         Diabetes\n",
              "0          6             148           72  ...        0.627   50  tested_positive\n",
              "1          1              85           66  ...        0.351   31  tested_negative\n",
              "2          8             183           64  ...        0.672   32  tested_positive\n",
              "3          1              89           66  ...        0.167   21  tested_negative\n",
              "4          0             137           40  ...        2.288   33  tested_positive\n",
              "\n",
              "[5 rows x 9 columns]"
            ]
          },
          "metadata": {
            "tags": []
          },
          "execution_count": 6
        }
      ]
    },
    {
      "cell_type": "code",
      "metadata": {
        "id": "F8Yp4E8_ixNt",
        "colab_type": "code",
        "colab": {
          "base_uri": "https://localhost:8080/",
          "height": 69
        },
        "outputId": "f00ed390-af44-4f4a-b8ac-fe156b362a1e"
      },
      "source": [
        "df.columns"
      ],
      "execution_count": 7,
      "outputs": [
        {
          "output_type": "execute_result",
          "data": {
            "text/plain": [
              "Index(['pregnancy', 'plasma_glucose', 'distolic_bp', 'skin_thick', 'insuline',\n",
              "       'BMI', 'pedigree_fn', 'age', 'Diabetes'],\n",
              "      dtype='object')"
            ]
          },
          "metadata": {
            "tags": []
          },
          "execution_count": 7
        }
      ]
    },
    {
      "cell_type": "code",
      "metadata": {
        "id": "S9Eney1XZcS0",
        "colab_type": "code",
        "colab": {
          "base_uri": "https://localhost:8080/",
          "height": 34
        },
        "outputId": "283c55ab-4ea1-4741-b887-d536f18351d2"
      },
      "source": [
        "print(\"Diabetes data set dimensions : {}\".format(df.shape))"
      ],
      "execution_count": 8,
      "outputs": [
        {
          "output_type": "stream",
          "text": [
            "Diabetes data set dimensions : (768, 9)\n"
          ],
          "name": "stdout"
        }
      ]
    },
    {
      "cell_type": "code",
      "metadata": {
        "id": "ZHZ4qpaBZnda",
        "colab_type": "code",
        "colab": {
          "base_uri": "https://localhost:8080/",
          "height": 86
        },
        "outputId": "9729e39f-627e-471b-e175-d8ea88a00368"
      },
      "source": [
        "df.groupby('Diabetes').size()"
      ],
      "execution_count": 9,
      "outputs": [
        {
          "output_type": "execute_result",
          "data": {
            "text/plain": [
              "Diabetes\n",
              "tested_negative    500\n",
              "tested_positive    268\n",
              "dtype: int64"
            ]
          },
          "metadata": {
            "tags": []
          },
          "execution_count": 9
        }
      ]
    },
    {
      "cell_type": "code",
      "metadata": {
        "id": "Ihp3GdhXZqwt",
        "colab_type": "code",
        "colab": {
          "base_uri": "https://localhost:8080/",
          "height": 1000
        },
        "outputId": "c7ac93e1-f735-4205-a93a-c460b393768d"
      },
      "source": [
        "df.groupby('Diabetes').hist(figsize=(9, 9))"
      ],
      "execution_count": 10,
      "outputs": [
        {
          "output_type": "execute_result",
          "data": {
            "text/plain": [
              "Diabetes\n",
              "tested_negative    [[AxesSubplot(0.125,0.670278;0.215278x0.209722...\n",
              "tested_positive    [[AxesSubplot(0.125,0.670278;0.215278x0.209722...\n",
              "dtype: object"
            ]
          },
          "metadata": {
            "tags": []
          },
          "execution_count": 10
        },
        {
          "output_type": "display_data",
          "data": {
            "image/png": "[encoded data removed]",
            "text/plain": [
              "<Figure size 648x648 with 9 Axes>"
            ]
          },
          "metadata": {
            "tags": []
          }
        },
        {
          "output_type": "display_data",
          "data": {
            "image/png": "[encoded data removed]",
            "text/plain": [
              "<Figure size 648x648 with 9 Axes>"
            ]
          },
          "metadata": {
            "tags": []
          }
        }
      ]
    },
    {
      "cell_type": "code",
      "metadata": {
        "id": "-3PrJoY3Zteg",
        "colab_type": "code",
        "colab": {
          "base_uri": "https://localhost:8080/",
          "height": 191
        },
        "outputId": "0e74d86b-033b-4c71-dbae-f30ede189fa4"
      },
      "source": [
        "df.isnull().sum()"
      ],
      "execution_count": 11,
      "outputs": [
        {
          "output_type": "execute_result",
          "data": {
            "text/plain": [
              "pregnancy         0\n",
              "plasma_glucose    0\n",
              "distolic_bp       0\n",
              "skin_thick        0\n",
              "insuline          0\n",
              "BMI               0\n",
              "pedigree_fn       0\n",
              "age               0\n",
              "Diabetes          0\n",
              "dtype: int64"
            ]
          },
          "metadata": {
            "tags": []
          },
          "execution_count": 11
        }
      ]
    },
    {
      "cell_type": "code",
      "metadata": {
        "id": "0oCmhA-LZxLb",
        "colab_type": "code",
        "colab": {
          "base_uri": "https://localhost:8080/",
          "height": 191
        },
        "outputId": "b1e9fc0d-e670-4c5b-b0c5-f82219e68df9"
      },
      "source": [
        "df.isna().sum()"
      ],
      "execution_count": 12,
      "outputs": [
        {
          "output_type": "execute_result",
          "data": {
            "text/plain": [
              "pregnancy         0\n",
              "plasma_glucose    0\n",
              "distolic_bp       0\n",
              "skin_thick        0\n",
              "insuline          0\n",
              "BMI               0\n",
              "pedigree_fn       0\n",
              "age               0\n",
              "Diabetes          0\n",
              "dtype: int64"
            ]
          },
          "metadata": {
            "tags": []
          },
          "execution_count": 12
        }
      ]
    },
    {
      "cell_type": "code",
      "metadata": {
        "id": "WJYWx8u3Z1Uj",
        "colab_type": "code",
        "colab": {
          "base_uri": "https://localhost:8080/",
          "height": 34
        },
        "outputId": "a0faebbf-edb0-42ce-9ed6-8df9bf0920fa"
      },
      "source": [
        "df.isnull().values.any()"
      ],
      "execution_count": 13,
      "outputs": [
        {
          "output_type": "execute_result",
          "data": {
            "text/plain": [
              "False"
            ]
          },
          "metadata": {
            "tags": []
          },
          "execution_count": 13
        }
      ]
    },
    {
      "cell_type": "code",
      "metadata": {
        "id": "BiLLPsAdZ4Ii",
        "colab_type": "code",
        "colab": {
          "base_uri": "https://localhost:8080/",
          "height": 34
        },
        "outputId": "e75bcac8-bf7d-4a8f-cb14-8dd430768014"
      },
      "source": [
        "(df.pregnancy==0).sum(), (df.distolic_bp==0).sum()"
      ],
      "execution_count": 14,
      "outputs": [
        {
          "output_type": "execute_result",
          "data": {
            "text/plain": [
              "(111, 35)"
            ]
          },
          "metadata": {
            "tags": []
          },
          "execution_count": 14
        }
      ]
    },
    {
      "cell_type": "code",
      "metadata": {
        "id": "NTkXGX2HZ7RL",
        "colab_type": "code",
        "colab": {
          "base_uri": "https://localhost:8080/",
          "height": 34
        },
        "outputId": "84065432-07d0-4c80-8685-bd485c98b017"
      },
      "source": [
        "print(\"total zero in BMI :\",df[df.BMI==0].shape[0])"
      ],
      "execution_count": 16,
      "outputs": [
        {
          "output_type": "stream",
          "text": [
            "total zero in BMI : 11\n"
          ],
          "name": "stdout"
        }
      ]
    },
    {
      "cell_type": "code",
      "metadata": {
        "id": "-hHGSDViZ_Md",
        "colab_type": "code",
        "colab": {
          "base_uri": "https://localhost:8080/",
          "height": 86
        },
        "outputId": "7e3ec1b2-a7fb-43c1-e454-43fd6209fc88"
      },
      "source": [
        "print(df[df.BMI==0].groupby('Diabetes')['BMI'].count())"
      ],
      "execution_count": 17,
      "outputs": [
        {
          "output_type": "stream",
          "text": [
            "Diabetes\n",
            "tested_negative    9\n",
            "tested_positive    2\n",
            "Name: BMI, dtype: int64\n"
          ],
          "name": "stdout"
        }
      ]
    },
    {
      "cell_type": "code",
      "metadata": {
        "id": "mpEPOD9saCXz",
        "colab_type": "code",
        "colab": {
          "base_uri": "https://localhost:8080/",
          "height": 479
        },
        "outputId": "ad3a5a16-2ec2-498b-c91d-7e24f014e13d"
      },
      "source": [
        "z_field=['plasma_glucose','distolic_bp','skin_thick','insuline','BMI']\n",
        "df.non_zero=df.copy()\n",
        "df[z_field]=df[z_field].replace(0,np.nan)\n",
        "df"
      ],
      "execution_count": 18,
      "outputs": [
        {
          "output_type": "stream",
          "text": [
            "/usr/local/lib/python3.6/dist-packages/ipykernel_launcher.py:2: UserWarning: Pandas doesn't allow columns to be created via a new attribute name - see https://pandas.pydata.org/pandas-docs/stable/indexing.html#attribute-access\n",
            "  \n"
          ],
          "name": "stderr"
        },
        {
          "output_type": "execute_result",
          "data": {
            "text/html": [
              "<div>\n",
              "<style scoped>\n",
              "    .dataframe tbody tr th:only-of-type {\n",
              "        vertical-align: middle;\n",
              "    }\n",
              "\n",
              "    .dataframe tbody tr th {\n",
              "        vertical-align: top;\n",
              "    }\n",
              "\n",
              "    .dataframe thead th {\n",
              "        text-align: right;\n",
              "    }\n",
              "</style>\n",
              "<table border=\"1\" class=\"dataframe\">\n",
              "  <thead>\n",
              "    <tr style=\"text-align: right;\">\n",
              "      <th></th>\n",
              "      <th>pregnancy</th>\n",
              "      <th>plasma_glucose</th>\n",
              "      <th>distolic_bp</th>\n",
              "      <th>skin_thick</th>\n",
              "      <th>insuline</th>\n",
              "      <th>BMI</th>\n",
              "      <th>pedigree_fn</th>\n",
              "      <th>age</th>\n",
              "      <th>Diabetes</th>\n",
              "    </tr>\n",
              "  </thead>\n",
              "  <tbody>\n",
              "    <tr>\n",
              "      <th>0</th>\n",
              "      <td>6</td>\n",
              "      <td>148.0</td>\n",
              "      <td>72.0</td>\n",
              "      <td>35.0</td>\n",
              "      <td>NaN</td>\n",
              "      <td>33.6</td>\n",
              "      <td>0.627</td>\n",
              "      <td>50</td>\n",
              "      <td>tested_positive</td>\n",
              "    </tr>\n",
              "    <tr>\n",
              "      <th>1</th>\n",
              "      <td>1</td>\n",
              "      <td>85.0</td>\n",
              "      <td>66.0</td>\n",
              "      <td>29.0</td>\n",
              "      <td>NaN</td>\n",
              "      <td>26.6</td>\n",
              "      <td>0.351</td>\n",
              "      <td>31</td>\n",
              "      <td>tested_negative</td>\n",
              "    </tr>\n",
              "    <tr>\n",
              "      <th>2</th>\n",
              "      <td>8</td>\n",
              "      <td>183.0</td>\n",
              "      <td>64.0</td>\n",
              "      <td>NaN</td>\n",
              "      <td>NaN</td>\n",
              "      <td>23.3</td>\n",
              "      <td>0.672</td>\n",
              "      <td>32</td>\n",
              "      <td>tested_positive</td>\n",
              "    </tr>\n",
              "    <tr>\n",
              "      <th>3</th>\n",
              "      <td>1</td>\n",
              "      <td>89.0</td>\n",
              "      <td>66.0</td>\n",
              "      <td>23.0</td>\n",
              "      <td>94.0</td>\n",
              "      <td>28.1</td>\n",
              "      <td>0.167</td>\n",
              "      <td>21</td>\n",
              "      <td>tested_negative</td>\n",
              "    </tr>\n",
              "    <tr>\n",
              "      <th>4</th>\n",
              "      <td>0</td>\n",
              "      <td>137.0</td>\n",
              "      <td>40.0</td>\n",
              "      <td>35.0</td>\n",
              "      <td>168.0</td>\n",
              "      <td>43.1</td>\n",
              "      <td>2.288</td>\n",
              "      <td>33</td>\n",
              "      <td>tested_positive</td>\n",
              "    </tr>\n",
              "    <tr>\n",
              "      <th>...</th>\n",
              "      <td>...</td>\n",
              "      <td>...</td>\n",
              "      <td>...</td>\n",
              "      <td>...</td>\n",
              "      <td>...</td>\n",
              "      <td>...</td>\n",
              "      <td>...</td>\n",
              "      <td>...</td>\n",
              "      <td>...</td>\n",
              "    </tr>\n",
              "    <tr>\n",
              "      <th>763</th>\n",
              "      <td>10</td>\n",
              "      <td>101.0</td>\n",
              "      <td>76.0</td>\n",
              "      <td>48.0</td>\n",
              "      <td>180.0</td>\n",
              "      <td>32.9</td>\n",
              "      <td>0.171</td>\n",
              "      <td>63</td>\n",
              "      <td>tested_negative</td>\n",
              "    </tr>\n",
              "    <tr>\n",
              "      <th>764</th>\n",
              "      <td>2</td>\n",
              "      <td>122.0</td>\n",
              "      <td>70.0</td>\n",
              "      <td>27.0</td>\n",
              "      <td>NaN</td>\n",
              "      <td>36.8</td>\n",
              "      <td>0.340</td>\n",
              "      <td>27</td>\n",
              "      <td>tested_negative</td>\n",
              "    </tr>\n",
              "    <tr>\n",
              "      <th>765</th>\n",
              "      <td>5</td>\n",
              "      <td>121.0</td>\n",
              "      <td>72.0</td>\n",
              "      <td>23.0</td>\n",
              "      <td>112.0</td>\n",
              "      <td>26.2</td>\n",
              "      <td>0.245</td>\n",
              "      <td>30</td>\n",
              "      <td>tested_negative</td>\n",
              "    </tr>\n",
              "    <tr>\n",
              "      <th>766</th>\n",
              "      <td>1</td>\n",
              "      <td>126.0</td>\n",
              "      <td>60.0</td>\n",
              "      <td>NaN</td>\n",
              "      <td>NaN</td>\n",
              "      <td>30.1</td>\n",
              "      <td>0.349</td>\n",
              "      <td>47</td>\n",
              "      <td>tested_positive</td>\n",
              "    </tr>\n",
              "    <tr>\n",
              "      <th>767</th>\n",
              "      <td>1</td>\n",
              "      <td>93.0</td>\n",
              "      <td>70.0</td>\n",
              "      <td>31.0</td>\n",
              "      <td>NaN</td>\n",
              "      <td>30.4</td>\n",
              "      <td>0.315</td>\n",
              "      <td>23</td>\n",
              "      <td>tested_negative</td>\n",
              "    </tr>\n",
              "  </tbody>\n",
              "</table>\n",
              "<p>768 rows × 9 columns</p>\n",
              "</div>"
            ],
            "text/plain": [
              "     pregnancy  plasma_glucose  distolic_bp  ...  pedigree_fn  age         Diabetes\n",
              "0            6           148.0         72.0  ...        0.627   50  tested_positive\n",
              "1            1            85.0         66.0  ...        0.351   31  tested_negative\n",
              "2            8           183.0         64.0  ...        0.672   32  tested_positive\n",
              "3            1            89.0         66.0  ...        0.167   21  tested_negative\n",
              "4            0           137.0         40.0  ...        2.288   33  tested_positive\n",
              "..         ...             ...          ...  ...          ...  ...              ...\n",
              "763         10           101.0         76.0  ...        0.171   63  tested_negative\n",
              "764          2           122.0         70.0  ...        0.340   27  tested_negative\n",
              "765          5           121.0         72.0  ...        0.245   30  tested_negative\n",
              "766          1           126.0         60.0  ...        0.349   47  tested_positive\n",
              "767          1            93.0         70.0  ...        0.315   23  tested_negative\n",
              "\n",
              "[768 rows x 9 columns]"
            ]
          },
          "metadata": {
            "tags": []
          },
          "execution_count": 18
        }
      ]
    },
    {
      "cell_type": "code",
      "metadata": {
        "id": "w2q8fv2CaG7z",
        "colab_type": "code",
        "colab": {
          "base_uri": "https://localhost:8080/",
          "height": 300
        },
        "outputId": "6b3a5233-9fc7-4705-c81d-4a43aeec9b44"
      },
      "source": [
        "df[z_field]=df[z_field].fillna(df.non_zero.mean())\n",
        "df.describe()"
      ],
      "execution_count": 19,
      "outputs": [
        {
          "output_type": "execute_result",
          "data": {
            "text/html": [
              "<div>\n",
              "<style scoped>\n",
              "    .dataframe tbody tr th:only-of-type {\n",
              "        vertical-align: middle;\n",
              "    }\n",
              "\n",
              "    .dataframe tbody tr th {\n",
              "        vertical-align: top;\n",
              "    }\n",
              "\n",
              "    .dataframe thead th {\n",
              "        text-align: right;\n",
              "    }\n",
              "</style>\n",
              "<table border=\"1\" class=\"dataframe\">\n",
              "  <thead>\n",
              "    <tr style=\"text-align: right;\">\n",
              "      <th></th>\n",
              "      <th>pregnancy</th>\n",
              "      <th>plasma_glucose</th>\n",
              "      <th>distolic_bp</th>\n",
              "      <th>skin_thick</th>\n",
              "      <th>insuline</th>\n",
              "      <th>BMI</th>\n",
              "      <th>pedigree_fn</th>\n",
              "      <th>age</th>\n",
              "    </tr>\n",
              "  </thead>\n",
              "  <tbody>\n",
              "    <tr>\n",
              "      <th>count</th>\n",
              "      <td>768.000000</td>\n",
              "      <td>768.000000</td>\n",
              "      <td>768.000000</td>\n",
              "      <td>768.000000</td>\n",
              "      <td>768.000000</td>\n",
              "      <td>768.000000</td>\n",
              "      <td>768.000000</td>\n",
              "      <td>768.000000</td>\n",
              "    </tr>\n",
              "    <tr>\n",
              "      <th>mean</th>\n",
              "      <td>3.845052</td>\n",
              "      <td>121.681605</td>\n",
              "      <td>72.254807</td>\n",
              "      <td>26.606479</td>\n",
              "      <td>118.660163</td>\n",
              "      <td>32.450805</td>\n",
              "      <td>0.471876</td>\n",
              "      <td>33.240885</td>\n",
              "    </tr>\n",
              "    <tr>\n",
              "      <th>std</th>\n",
              "      <td>3.369578</td>\n",
              "      <td>30.436016</td>\n",
              "      <td>12.115932</td>\n",
              "      <td>9.631241</td>\n",
              "      <td>93.080358</td>\n",
              "      <td>6.875374</td>\n",
              "      <td>0.331329</td>\n",
              "      <td>11.760232</td>\n",
              "    </tr>\n",
              "    <tr>\n",
              "      <th>min</th>\n",
              "      <td>0.000000</td>\n",
              "      <td>44.000000</td>\n",
              "      <td>24.000000</td>\n",
              "      <td>7.000000</td>\n",
              "      <td>14.000000</td>\n",
              "      <td>18.200000</td>\n",
              "      <td>0.078000</td>\n",
              "      <td>21.000000</td>\n",
              "    </tr>\n",
              "    <tr>\n",
              "      <th>25%</th>\n",
              "      <td>1.000000</td>\n",
              "      <td>99.750000</td>\n",
              "      <td>64.000000</td>\n",
              "      <td>20.536458</td>\n",
              "      <td>79.799479</td>\n",
              "      <td>27.500000</td>\n",
              "      <td>0.243750</td>\n",
              "      <td>24.000000</td>\n",
              "    </tr>\n",
              "    <tr>\n",
              "      <th>50%</th>\n",
              "      <td>3.000000</td>\n",
              "      <td>117.000000</td>\n",
              "      <td>72.000000</td>\n",
              "      <td>23.000000</td>\n",
              "      <td>79.799479</td>\n",
              "      <td>32.000000</td>\n",
              "      <td>0.372500</td>\n",
              "      <td>29.000000</td>\n",
              "    </tr>\n",
              "    <tr>\n",
              "      <th>75%</th>\n",
              "      <td>6.000000</td>\n",
              "      <td>140.250000</td>\n",
              "      <td>80.000000</td>\n",
              "      <td>32.000000</td>\n",
              "      <td>127.250000</td>\n",
              "      <td>36.600000</td>\n",
              "      <td>0.626250</td>\n",
              "      <td>41.000000</td>\n",
              "    </tr>\n",
              "    <tr>\n",
              "      <th>max</th>\n",
              "      <td>17.000000</td>\n",
              "      <td>199.000000</td>\n",
              "      <td>122.000000</td>\n",
              "      <td>99.000000</td>\n",
              "      <td>846.000000</td>\n",
              "      <td>67.100000</td>\n",
              "      <td>2.420000</td>\n",
              "      <td>81.000000</td>\n",
              "    </tr>\n",
              "  </tbody>\n",
              "</table>\n",
              "</div>"
            ],
            "text/plain": [
              "        pregnancy  plasma_glucose  ...  pedigree_fn         age\n",
              "count  768.000000      768.000000  ...   768.000000  768.000000\n",
              "mean     3.845052      121.681605  ...     0.471876   33.240885\n",
              "std      3.369578       30.436016  ...     0.331329   11.760232\n",
              "min      0.000000       44.000000  ...     0.078000   21.000000\n",
              "25%      1.000000       99.750000  ...     0.243750   24.000000\n",
              "50%      3.000000      117.000000  ...     0.372500   29.000000\n",
              "75%      6.000000      140.250000  ...     0.626250   41.000000\n",
              "max     17.000000      199.000000  ...     2.420000   81.000000\n",
              "\n",
              "[8 rows x 8 columns]"
            ]
          },
          "metadata": {
            "tags": []
          },
          "execution_count": 19
        }
      ]
    },
    {
      "cell_type": "code",
      "metadata": {
        "id": "4UVDq1RWaKlC",
        "colab_type": "code",
        "colab": {
          "base_uri": "https://localhost:8080/",
          "height": 34
        },
        "outputId": "3ab65c64-c132-4c3f-9ccc-008bc4de5fb6"
      },
      "source": [
        "modi_df=df[(df.BMI!=0) & (df.distolic_bp!=0) & (df.plasma_glucose!=0) & (df.skin_thick!=0)]\n",
        "print(modi_df.shape)"
      ],
      "execution_count": 20,
      "outputs": [
        {
          "output_type": "stream",
          "text": [
            "(768, 9)\n"
          ],
          "name": "stdout"
        }
      ]
    },
    {
      "cell_type": "code",
      "metadata": {
        "id": "9GryFGuFZ0kt",
        "colab_type": "code",
        "colab": {}
      },
      "source": [
        "df.at[0, 'pregnancy'] = 200 #Changing the value in a particular cell"
      ],
      "execution_count": 0,
      "outputs": []
    },
    {
      "cell_type": "code",
      "metadata": {
        "id": "vUP1fYg-aco7",
        "colab_type": "code",
        "colab": {
          "base_uri": "https://localhost:8080/",
          "height": 206
        },
        "outputId": "f21655a7-7e58-4fda-bd0e-1b7f2f32f40b"
      },
      "source": [
        "df.head()"
      ],
      "execution_count": 22,
      "outputs": [
        {
          "output_type": "execute_result",
          "data": {
            "text/html": [
              "<div>\n",
              "<style scoped>\n",
              "    .dataframe tbody tr th:only-of-type {\n",
              "        vertical-align: middle;\n",
              "    }\n",
              "\n",
              "    .dataframe tbody tr th {\n",
              "        vertical-align: top;\n",
              "    }\n",
              "\n",
              "    .dataframe thead th {\n",
              "        text-align: right;\n",
              "    }\n",
              "</style>\n",
              "<table border=\"1\" class=\"dataframe\">\n",
              "  <thead>\n",
              "    <tr style=\"text-align: right;\">\n",
              "      <th></th>\n",
              "      <th>pregnancy</th>\n",
              "      <th>plasma_glucose</th>\n",
              "      <th>distolic_bp</th>\n",
              "      <th>skin_thick</th>\n",
              "      <th>insuline</th>\n",
              "      <th>BMI</th>\n",
              "      <th>pedigree_fn</th>\n",
              "      <th>age</th>\n",
              "      <th>Diabetes</th>\n",
              "    </tr>\n",
              "  </thead>\n",
              "  <tbody>\n",
              "    <tr>\n",
              "      <th>0</th>\n",
              "      <td>200</td>\n",
              "      <td>148.0</td>\n",
              "      <td>72.0</td>\n",
              "      <td>35.000000</td>\n",
              "      <td>79.799479</td>\n",
              "      <td>33.6</td>\n",
              "      <td>0.627</td>\n",
              "      <td>50</td>\n",
              "      <td>tested_positive</td>\n",
              "    </tr>\n",
              "    <tr>\n",
              "      <th>1</th>\n",
              "      <td>1</td>\n",
              "      <td>85.0</td>\n",
              "      <td>66.0</td>\n",
              "      <td>29.000000</td>\n",
              "      <td>79.799479</td>\n",
              "      <td>26.6</td>\n",
              "      <td>0.351</td>\n",
              "      <td>31</td>\n",
              "      <td>tested_negative</td>\n",
              "    </tr>\n",
              "    <tr>\n",
              "      <th>2</th>\n",
              "      <td>8</td>\n",
              "      <td>183.0</td>\n",
              "      <td>64.0</td>\n",
              "      <td>20.536458</td>\n",
              "      <td>79.799479</td>\n",
              "      <td>23.3</td>\n",
              "      <td>0.672</td>\n",
              "      <td>32</td>\n",
              "      <td>tested_positive</td>\n",
              "    </tr>\n",
              "    <tr>\n",
              "      <th>3</th>\n",
              "      <td>1</td>\n",
              "      <td>89.0</td>\n",
              "      <td>66.0</td>\n",
              "      <td>23.000000</td>\n",
              "      <td>94.000000</td>\n",
              "      <td>28.1</td>\n",
              "      <td>0.167</td>\n",
              "      <td>21</td>\n",
              "      <td>tested_negative</td>\n",
              "    </tr>\n",
              "    <tr>\n",
              "      <th>4</th>\n",
              "      <td>0</td>\n",
              "      <td>137.0</td>\n",
              "      <td>40.0</td>\n",
              "      <td>35.000000</td>\n",
              "      <td>168.000000</td>\n",
              "      <td>43.1</td>\n",
              "      <td>2.288</td>\n",
              "      <td>33</td>\n",
              "      <td>tested_positive</td>\n",
              "    </tr>\n",
              "  </tbody>\n",
              "</table>\n",
              "</div>"
            ],
            "text/plain": [
              "   pregnancy  plasma_glucose  distolic_bp  ...  pedigree_fn  age         Diabetes\n",
              "0        200           148.0         72.0  ...        0.627   50  tested_positive\n",
              "1          1            85.0         66.0  ...        0.351   31  tested_negative\n",
              "2          8           183.0         64.0  ...        0.672   32  tested_positive\n",
              "3          1            89.0         66.0  ...        0.167   21  tested_negative\n",
              "4          0           137.0         40.0  ...        2.288   33  tested_positive\n",
              "\n",
              "[5 rows x 9 columns]"
            ]
          },
          "metadata": {
            "tags": []
          },
          "execution_count": 22
        }
      ]
    },
    {
      "cell_type": "code",
      "metadata": {
        "id": "gwZmEHtJebme",
        "colab_type": "code",
        "colab": {
          "base_uri": "https://localhost:8080/",
          "height": 282
        },
        "outputId": "aaeb7cfe-12b4-4ddd-b565-49206e4fd14e"
      },
      "source": [
        "#Checking for outliers (Method 1)\n",
        "plt.boxplot(df['pregnancy'])\n",
        "plt.show"
      ],
      "execution_count": 23,
      "outputs": [
        {
          "output_type": "execute_result",
          "data": {
            "text/plain": [
              "<function matplotlib.pyplot.show>"
            ]
          },
          "metadata": {
            "tags": []
          },
          "execution_count": 23
        },
        {
          "output_type": "display_data",
          "data": {
            "image/png": "[encoded data removed]",
            "text/plain": [
              "<Figure size 432x288 with 1 Axes>"
            ]
          },
          "metadata": {
            "tags": []
          }
        }
      ]
    },
    {
      "cell_type": "code",
      "metadata": {
        "id": "2-8jcSDcg49x",
        "colab_type": "code",
        "colab": {
          "base_uri": "https://localhost:8080/",
          "height": 486
        },
        "outputId": "8d1ca3c2-57b3-4e67-d732-1c02acbd9bb6"
      },
      "source": [
        "#Method 2\n",
        "Q1, Q3 = df.quantile(0.25), df.quantile(0.75)\n",
        "IQR = Q3 - Q1\n",
        "print(Q1)\n",
        "print(Q3)\n",
        "print(IQR)"
      ],
      "execution_count": 24,
      "outputs": [
        {
          "output_type": "stream",
          "text": [
            "pregnancy          1.000000\n",
            "plasma_glucose    99.750000\n",
            "distolic_bp       64.000000\n",
            "skin_thick        20.536458\n",
            "insuline          79.799479\n",
            "BMI               27.500000\n",
            "pedigree_fn        0.243750\n",
            "age               24.000000\n",
            "Name: 0.25, dtype: float64\n",
            "pregnancy           6.00000\n",
            "plasma_glucose    140.25000\n",
            "distolic_bp        80.00000\n",
            "skin_thick         32.00000\n",
            "insuline          127.25000\n",
            "BMI                36.60000\n",
            "pedigree_fn         0.62625\n",
            "age                41.00000\n",
            "Name: 0.75, dtype: float64\n",
            "pregnancy          5.000000\n",
            "plasma_glucose    40.500000\n",
            "distolic_bp       16.000000\n",
            "skin_thick        11.463542\n",
            "insuline          47.450521\n",
            "BMI                9.100000\n",
            "pedigree_fn        0.382500\n",
            "age               17.000000\n",
            "dtype: float64\n"
          ],
          "name": "stdout"
        }
      ]
    },
    {
      "cell_type": "code",
      "metadata": {
        "id": "rYOgxaKuidx0",
        "colab_type": "code",
        "colab": {
          "base_uri": "https://localhost:8080/",
          "height": 260
        },
        "outputId": "a96b2176-134c-4d1b-b35e-ecab468d0f8d"
      },
      "source": [
        "lower, upper = Q1 - (1.5*IQR), Q3 + (1.5*IQR)\n",
        "print((df<lower) | (df>upper))"
      ],
      "execution_count": 25,
      "outputs": [
        {
          "output_type": "stream",
          "text": [
            "       BMI  Diabetes    age  ...  plasma_glucose  pregnancy  skin_thick\n",
            "0    False     False  False  ...           False       True       False\n",
            "1    False     False  False  ...           False      False       False\n",
            "2    False     False  False  ...           False      False       False\n",
            "3    False     False  False  ...           False      False       False\n",
            "4    False     False  False  ...           False      False       False\n",
            "..     ...       ...    ...  ...             ...        ...         ...\n",
            "763  False     False  False  ...           False      False       False\n",
            "764  False     False  False  ...           False      False       False\n",
            "765  False     False  False  ...           False      False       False\n",
            "766  False     False  False  ...           False      False       False\n",
            "767  False     False  False  ...           False      False       False\n",
            "\n",
            "[768 rows x 9 columns]\n"
          ],
          "name": "stdout"
        }
      ]
    },
    {
      "cell_type": "markdown",
      "metadata": {
        "id": "FX6M3Zv8b8Ym",
        "colab_type": "text"
      },
      "source": [
        "#Rescale the data\n",
        "\n",
        "scale the entire data set in the range of 0 and 1\n",
        "\n",
        "the formula is : scaled_value = (value - min) / (max - min)"
      ]
    },
    {
      "cell_type": "code",
      "metadata": {
        "id": "K7-MxbahcDAx",
        "colab_type": "code",
        "colab": {}
      },
      "source": [
        "import scipy as sc\n",
        "from sklearn.preprocessing import MinMaxScaler"
      ],
      "execution_count": 0,
      "outputs": []
    },
    {
      "cell_type": "code",
      "metadata": {
        "id": "brL6CEh5cDoN",
        "colab_type": "code",
        "colab": {
          "base_uri": "https://localhost:8080/",
          "height": 139
        },
        "outputId": "a615bfa5-b66d-4829-ad62-0bf59591a7c4"
      },
      "source": [
        "array=df.values\n",
        "array"
      ],
      "execution_count": 27,
      "outputs": [
        {
          "output_type": "execute_result",
          "data": {
            "text/plain": [
              "array([[200, 148.0, 72.0, ..., 0.627, 50, 'tested_positive'],\n",
              "       [1, 85.0, 66.0, ..., 0.35100000000000003, 31, 'tested_negative'],\n",
              "       [8, 183.0, 64.0, ..., 0.672, 32, 'tested_positive'],\n",
              "       ...,\n",
              "       [5, 121.0, 72.0, ..., 0.245, 30, 'tested_negative'],\n",
              "       [1, 126.0, 60.0, ..., 0.349, 47, 'tested_positive'],\n",
              "       [1, 93.0, 70.0, ..., 0.315, 23, 'tested_negative']], dtype=object)"
            ]
          },
          "metadata": {
            "tags": []
          },
          "execution_count": 27
        }
      ]
    },
    {
      "cell_type": "code",
      "metadata": {
        "id": "D9NqBVZYcG2p",
        "colab_type": "code",
        "colab": {
          "base_uri": "https://localhost:8080/",
          "height": 260
        },
        "outputId": "03bba631-7b4f-486f-dc6e-f5ab8488114e"
      },
      "source": [
        "x=array[:,0:8]\n",
        "x\n",
        "y=array[:,8]\n",
        "y\n",
        "s=MinMaxScaler(feature_range=(0,1))\n",
        "scaled_x=s.fit_transform(x)\n",
        "print(scaled_x)\n",
        "np.set_printoptions(precision=3)\n",
        "print(scaled_x)"
      ],
      "execution_count": 28,
      "outputs": [
        {
          "output_type": "stream",
          "text": [
            "[[1.         0.67096774 0.48979592 ... 0.31492843 0.23441503 0.48333333]\n",
            " [0.005      0.26451613 0.42857143 ... 0.17177914 0.11656704 0.16666667]\n",
            " [0.04       0.89677419 0.40816327 ... 0.10429448 0.25362938 0.18333333]\n",
            " ...\n",
            " [0.025      0.49677419 0.48979592 ... 0.16359918 0.07130658 0.15      ]\n",
            " [0.005      0.52903226 0.36734694 ... 0.24335378 0.11571307 0.43333333]\n",
            " [0.005      0.31612903 0.46938776 ... 0.24948875 0.10119556 0.03333333]]\n",
            "[[1.    0.671 0.49  ... 0.315 0.234 0.483]\n",
            " [0.005 0.265 0.429 ... 0.172 0.117 0.167]\n",
            " [0.04  0.897 0.408 ... 0.104 0.254 0.183]\n",
            " ...\n",
            " [0.025 0.497 0.49  ... 0.164 0.071 0.15 ]\n",
            " [0.005 0.529 0.367 ... 0.243 0.116 0.433]\n",
            " [0.005 0.316 0.469 ... 0.249 0.101 0.033]]\n"
          ],
          "name": "stdout"
        }
      ]
    },
    {
      "cell_type": "markdown",
      "metadata": {
        "id": "584AaUQhcQpJ",
        "colab_type": "text"
      },
      "source": [
        "#Standardize Data\n",
        "\n",
        "Convert the data such that its mean will be 0 and standard deviation will be 1\n",
        "\n",
        "The formula required are:\n",
        "\n",
        "    mean = sum(values) / total_values\n",
        "    stdev = sqrt( (value_i - mean)^2 / (total_values-1))\n",
        "    standardized_value = (value - mean) / stdev\n"
      ]
    },
    {
      "cell_type": "code",
      "metadata": {
        "id": "75uJ0MfXcXXH",
        "colab_type": "code",
        "colab": {
          "base_uri": "https://localhost:8080/",
          "height": 139
        },
        "outputId": "215c4525-78a8-4d70-a610-a5fabc051dd0"
      },
      "source": [
        "from sklearn.preprocessing import StandardScaler\n",
        "s1 = StandardScaler().fit(x)\n",
        "standard_x=s.transform(x)\n",
        "np.set_printoptions(precision=3)\n",
        "print(standard_x)"
      ],
      "execution_count": 29,
      "outputs": [
        {
          "output_type": "stream",
          "text": [
            "[[1.    0.671 0.49  ... 0.315 0.234 0.483]\n",
            " [0.005 0.265 0.429 ... 0.172 0.117 0.167]\n",
            " [0.04  0.897 0.408 ... 0.104 0.254 0.183]\n",
            " ...\n",
            " [0.025 0.497 0.49  ... 0.164 0.071 0.15 ]\n",
            " [0.005 0.529 0.367 ... 0.243 0.116 0.433]\n",
            " [0.005 0.316 0.469 ... 0.249 0.101 0.033]]\n"
          ],
          "name": "stdout"
        }
      ]
    },
    {
      "cell_type": "code",
      "metadata": {
        "id": "qwx7rojSfYB-",
        "colab_type": "code",
        "colab": {}
      },
      "source": [
        ""
      ],
      "execution_count": 0,
      "outputs": []
    },
    {
      "cell_type": "markdown",
      "metadata": {
        "id": "wR0E6OVgfa2I",
        "colab_type": "text"
      },
      "source": [
        "#Normalize data\n",
        "\n",
        "L2 Normalization\n",
        "\n",
        "where in every row, the sum of square will be 1"
      ]
    },
    {
      "cell_type": "code",
      "metadata": {
        "id": "O3KpxAeGfcrs",
        "colab_type": "code",
        "colab": {
          "base_uri": "https://localhost:8080/",
          "height": 156
        },
        "outputId": "b0dda2c3-c453-41d2-bdd3-eb35bdd37c05"
      },
      "source": [
        "from sklearn.preprocessing import Normalizer\n",
        "d=Normalizer(norm='l2').fit(x)\n",
        "normalized_x=d.transform(x)\n",
        "np.set_printoptions(precision=2)\n",
        "print(normalized_x)\n",
        "sum(np.square(normalized_x[0,0:8]))"
      ],
      "execution_count": 30,
      "outputs": [
        {
          "output_type": "stream",
          "text": [
            "[[0.71 0.53 0.26 ... 0.12 0.   0.18]\n",
            " [0.01 0.59 0.46 ... 0.19 0.   0.22]\n",
            " [0.04 0.85 0.3  ... 0.11 0.   0.15]\n",
            " ...\n",
            " [0.03 0.65 0.39 ... 0.14 0.   0.16]\n",
            " [0.01 0.74 0.35 ... 0.18 0.   0.27]\n",
            " [0.01 0.62 0.47 ... 0.2  0.   0.15]]\n"
          ],
          "name": "stdout"
        },
        {
          "output_type": "execute_result",
          "data": {
            "text/plain": [
              "0.9999999999999999"
            ]
          },
          "metadata": {
            "tags": []
          },
          "execution_count": 30
        }
      ]
    },
    {
      "cell_type": "markdown",
      "metadata": {
        "id": "nT3f2-5TfkWG",
        "colab_type": "text"
      },
      "source": [
        "#Binarize Data\n",
        "\n",
        "All values above the threshold are marked 1 and all equal to or below are marked as 0."
      ]
    },
    {
      "cell_type": "code",
      "metadata": {
        "id": "WtX_BoaQfmmN",
        "colab_type": "code",
        "colab": {
          "base_uri": "https://localhost:8080/",
          "height": 139
        },
        "outputId": "f25d1bfa-d144-4ff6-9131-15f3899d1f42"
      },
      "source": [
        "from sklearn.preprocessing import Binarizer\n",
        "b = Binarizer(threshold=0.0).fit(x)\n",
        "binary_x = b.transform(x)\n",
        "print(binary_x)"
      ],
      "execution_count": 31,
      "outputs": [
        {
          "output_type": "stream",
          "text": [
            "[[1. 1. 1. ... 1. 1. 1.]\n",
            " [1. 1. 1. ... 1. 1. 1.]\n",
            " [1. 1. 1. ... 1. 1. 1.]\n",
            " ...\n",
            " [1. 1. 1. ... 1. 1. 1.]\n",
            " [1. 1. 1. ... 1. 1. 1.]\n",
            " [1. 1. 1. ... 1. 1. 1.]]\n"
          ],
          "name": "stdout"
        }
      ]
    },
    {
      "cell_type": "code",
      "metadata": {
        "id": "pFd812-Qfodt",
        "colab_type": "code",
        "colab": {}
      },
      "source": [
        ""
      ],
      "execution_count": 0,
      "outputs": []
    }
  ]
}
