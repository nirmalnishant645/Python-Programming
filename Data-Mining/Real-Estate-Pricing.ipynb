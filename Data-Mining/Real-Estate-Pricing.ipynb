{
  "nbformat": 4,
  "nbformat_minor": 0,
  "metadata": {
    "colab": {
      "name": "Real-Estate-Pricing.ipynb",
      "provenance": []
    },
    "kernelspec": {
      "name": "python3",
      "display_name": "Python 3"
    }
  },
  "cells": [
    {
      "cell_type": "code",
      "metadata": {
        "id": "XVZF9F3F5Z94",
        "colab_type": "code",
        "outputId": "88075d52-3b2c-408e-d258-65cd006446bd",
        "colab": {
          "base_uri": "https://localhost:8080/",
          "height": 239
        }
      },
      "source": [
        "from google.colab import drive \n",
        "drive.mount('/mntDrive') \n",
        "!ls \"/mntDrive/My Drive/Colab Notebooks\""
      ],
      "execution_count": 0,
      "outputs": [
        {
          "output_type": "stream",
          "text": [
            "Go to this URL in a browser: https://accounts.google.com/o/oauth2/auth?client_id=947318989803-6bn6qk8qdgf4n4g3pfee6491hc0brc4i.apps.googleusercontent.com&redirect_uri=urn%3aietf%3awg%3aoauth%3a2.0%3aoob&response_type=code&scope=email%20https%3a%2f%2fwww.googleapis.com%2fauth%2fdocs.test%20https%3a%2f%2fwww.googleapis.com%2fauth%2fdrive%20https%3a%2f%2fwww.googleapis.com%2fauth%2fdrive.photos.readonly%20https%3a%2f%2fwww.googleapis.com%2fauth%2fpeopleapi.readonly\n",
            "\n",
            "Enter your authorization code:\n",
            "··········\n",
            "Mounted at /mntDrive\n",
            " ApacheSpark\t\t\t\t    Linear-Regression.ipynb\n",
            " Apriori-Algorithm.ipynb\t\t    Mean-Square-Method.ipynb\n",
            " Apriori-ARM-Assignment.ipynb\t\t    pima1.csv\n",
            "'car data.csv'\t\t\t\t    Real-Estate-Pricing.ipynb\n",
            " Cosmetics.xlsx\t\t\t\t    real.xlsx\n",
            " Introduction-To-Data-PreProcessing.ipynb   salary_data.csv\n"
          ],
          "name": "stdout"
        }
      ]
    },
    {
      "cell_type": "code",
      "metadata": {
        "id": "1en5gzxT6143",
        "colab_type": "code",
        "colab": {}
      },
      "source": [
        "import pandas as pd\n",
        "import numpy as np\n",
        "import matplotlib.pyplot as plt"
      ],
      "execution_count": 0,
      "outputs": []
    },
    {
      "cell_type": "code",
      "metadata": {
        "id": "LY9UF1o-7PWI",
        "colab_type": "code",
        "colab": {}
      },
      "source": [
        "df = pd.read_excel('/mntDrive/My Drive/Colab Notebooks/real.xlsx')"
      ],
      "execution_count": 0,
      "outputs": []
    },
    {
      "cell_type": "code",
      "metadata": {
        "id": "h_UT3VMf7cUJ",
        "colab_type": "code",
        "outputId": "5374edad-3f04-4236-b179-29f57b6ee167",
        "colab": {
          "base_uri": "https://localhost:8080/",
          "height": 424
        }
      },
      "source": [
        "df"
      ],
      "execution_count": 0,
      "outputs": [
        {
          "output_type": "execute_result",
          "data": {
            "text/html": [
              "<div>\n",
              "<style scoped>\n",
              "    .dataframe tbody tr th:only-of-type {\n",
              "        vertical-align: middle;\n",
              "    }\n",
              "\n",
              "    .dataframe tbody tr th {\n",
              "        vertical-align: top;\n",
              "    }\n",
              "\n",
              "    .dataframe thead th {\n",
              "        text-align: right;\n",
              "    }\n",
              "</style>\n",
              "<table border=\"1\" class=\"dataframe\">\n",
              "  <thead>\n",
              "    <tr style=\"text-align: right;\">\n",
              "      <th></th>\n",
              "      <th>street</th>\n",
              "      <th>city</th>\n",
              "      <th>zip</th>\n",
              "      <th>state</th>\n",
              "      <th>beds</th>\n",
              "      <th>baths</th>\n",
              "      <th>sq__ft</th>\n",
              "      <th>type</th>\n",
              "      <th>sale_date</th>\n",
              "      <th>price</th>\n",
              "      <th>latitude</th>\n",
              "      <th>longitude</th>\n",
              "    </tr>\n",
              "  </thead>\n",
              "  <tbody>\n",
              "    <tr>\n",
              "      <th>0</th>\n",
              "      <td>3526 HIGH ST</td>\n",
              "      <td>SACRAMENTO</td>\n",
              "      <td>95838</td>\n",
              "      <td>CA</td>\n",
              "      <td>2</td>\n",
              "      <td>1</td>\n",
              "      <td>836</td>\n",
              "      <td>Residential</td>\n",
              "      <td>Wed May 21 00:00:00 EDT 2008</td>\n",
              "      <td>59222</td>\n",
              "      <td>38.631913</td>\n",
              "      <td>-121.434879</td>\n",
              "    </tr>\n",
              "    <tr>\n",
              "      <th>1</th>\n",
              "      <td>51 OMAHA CT</td>\n",
              "      <td>SACRAMENTO</td>\n",
              "      <td>95823</td>\n",
              "      <td>CA</td>\n",
              "      <td>3</td>\n",
              "      <td>1</td>\n",
              "      <td>1167</td>\n",
              "      <td>Residential</td>\n",
              "      <td>Wed May 21 00:00:00 EDT 2008</td>\n",
              "      <td>68212</td>\n",
              "      <td>38.478902</td>\n",
              "      <td>-121.431028</td>\n",
              "    </tr>\n",
              "    <tr>\n",
              "      <th>2</th>\n",
              "      <td>2796 BRANCH ST</td>\n",
              "      <td>SACRAMENTO</td>\n",
              "      <td>95815</td>\n",
              "      <td>CA</td>\n",
              "      <td>2</td>\n",
              "      <td>1</td>\n",
              "      <td>796</td>\n",
              "      <td>Residential</td>\n",
              "      <td>Wed May 21 00:00:00 EDT 2008</td>\n",
              "      <td>68880</td>\n",
              "      <td>38.618305</td>\n",
              "      <td>-121.443839</td>\n",
              "    </tr>\n",
              "    <tr>\n",
              "      <th>3</th>\n",
              "      <td>2805 JANETTE WAY</td>\n",
              "      <td>SACRAMENTO</td>\n",
              "      <td>95815</td>\n",
              "      <td>CA</td>\n",
              "      <td>2</td>\n",
              "      <td>1</td>\n",
              "      <td>852</td>\n",
              "      <td>Residential</td>\n",
              "      <td>Wed May 21 00:00:00 EDT 2008</td>\n",
              "      <td>69307</td>\n",
              "      <td>38.616835</td>\n",
              "      <td>-121.439146</td>\n",
              "    </tr>\n",
              "    <tr>\n",
              "      <th>4</th>\n",
              "      <td>6001 MCMAHON DR</td>\n",
              "      <td>SACRAMENTO</td>\n",
              "      <td>95824</td>\n",
              "      <td>CA</td>\n",
              "      <td>2</td>\n",
              "      <td>1</td>\n",
              "      <td>797</td>\n",
              "      <td>Residential</td>\n",
              "      <td>Wed May 21 00:00:00 EDT 2008</td>\n",
              "      <td>81900</td>\n",
              "      <td>38.519470</td>\n",
              "      <td>-121.435768</td>\n",
              "    </tr>\n",
              "    <tr>\n",
              "      <th>...</th>\n",
              "      <td>...</td>\n",
              "      <td>...</td>\n",
              "      <td>...</td>\n",
              "      <td>...</td>\n",
              "      <td>...</td>\n",
              "      <td>...</td>\n",
              "      <td>...</td>\n",
              "      <td>...</td>\n",
              "      <td>...</td>\n",
              "      <td>...</td>\n",
              "      <td>...</td>\n",
              "      <td>...</td>\n",
              "    </tr>\n",
              "    <tr>\n",
              "      <th>980</th>\n",
              "      <td>9169 GARLINGTON CT</td>\n",
              "      <td>SACRAMENTO</td>\n",
              "      <td>95829</td>\n",
              "      <td>CA</td>\n",
              "      <td>4</td>\n",
              "      <td>3</td>\n",
              "      <td>2280</td>\n",
              "      <td>Residential</td>\n",
              "      <td>Thu May 15 00:00:00 EDT 2008</td>\n",
              "      <td>232425</td>\n",
              "      <td>38.457679</td>\n",
              "      <td>-121.359620</td>\n",
              "    </tr>\n",
              "    <tr>\n",
              "      <th>981</th>\n",
              "      <td>6932 RUSKUT WAY</td>\n",
              "      <td>SACRAMENTO</td>\n",
              "      <td>95823</td>\n",
              "      <td>CA</td>\n",
              "      <td>3</td>\n",
              "      <td>2</td>\n",
              "      <td>1477</td>\n",
              "      <td>Residential</td>\n",
              "      <td>Thu May 15 00:00:00 EDT 2008</td>\n",
              "      <td>234000</td>\n",
              "      <td>38.499893</td>\n",
              "      <td>-121.458890</td>\n",
              "    </tr>\n",
              "    <tr>\n",
              "      <th>982</th>\n",
              "      <td>7933 DAFFODIL WAY</td>\n",
              "      <td>CITRUS HEIGHTS</td>\n",
              "      <td>95610</td>\n",
              "      <td>CA</td>\n",
              "      <td>3</td>\n",
              "      <td>2</td>\n",
              "      <td>1216</td>\n",
              "      <td>Residential</td>\n",
              "      <td>Thu May 15 00:00:00 EDT 2008</td>\n",
              "      <td>235000</td>\n",
              "      <td>38.708824</td>\n",
              "      <td>-121.256803</td>\n",
              "    </tr>\n",
              "    <tr>\n",
              "      <th>983</th>\n",
              "      <td>8304 RED FOX WAY</td>\n",
              "      <td>ELK GROVE</td>\n",
              "      <td>95758</td>\n",
              "      <td>CA</td>\n",
              "      <td>4</td>\n",
              "      <td>2</td>\n",
              "      <td>1685</td>\n",
              "      <td>Residential</td>\n",
              "      <td>Thu May 15 00:00:00 EDT 2008</td>\n",
              "      <td>235301</td>\n",
              "      <td>38.417000</td>\n",
              "      <td>-121.397424</td>\n",
              "    </tr>\n",
              "    <tr>\n",
              "      <th>984</th>\n",
              "      <td>3882 YELLOWSTONE LN</td>\n",
              "      <td>EL DORADO HILLS</td>\n",
              "      <td>95762</td>\n",
              "      <td>CA</td>\n",
              "      <td>3</td>\n",
              "      <td>2</td>\n",
              "      <td>1362</td>\n",
              "      <td>Residential</td>\n",
              "      <td>Thu May 15 00:00:00 EDT 2008</td>\n",
              "      <td>235738</td>\n",
              "      <td>38.655245</td>\n",
              "      <td>-121.075915</td>\n",
              "    </tr>\n",
              "  </tbody>\n",
              "</table>\n",
              "<p>985 rows × 12 columns</p>\n",
              "</div>"
            ],
            "text/plain": [
              "                  street             city    zip  ...   price   latitude   longitude\n",
              "0           3526 HIGH ST       SACRAMENTO  95838  ...   59222  38.631913 -121.434879\n",
              "1            51 OMAHA CT       SACRAMENTO  95823  ...   68212  38.478902 -121.431028\n",
              "2         2796 BRANCH ST       SACRAMENTO  95815  ...   68880  38.618305 -121.443839\n",
              "3       2805 JANETTE WAY       SACRAMENTO  95815  ...   69307  38.616835 -121.439146\n",
              "4        6001 MCMAHON DR       SACRAMENTO  95824  ...   81900  38.519470 -121.435768\n",
              "..                   ...              ...    ...  ...     ...        ...         ...\n",
              "980   9169 GARLINGTON CT       SACRAMENTO  95829  ...  232425  38.457679 -121.359620\n",
              "981      6932 RUSKUT WAY       SACRAMENTO  95823  ...  234000  38.499893 -121.458890\n",
              "982    7933 DAFFODIL WAY   CITRUS HEIGHTS  95610  ...  235000  38.708824 -121.256803\n",
              "983     8304 RED FOX WAY        ELK GROVE  95758  ...  235301  38.417000 -121.397424\n",
              "984  3882 YELLOWSTONE LN  EL DORADO HILLS  95762  ...  235738  38.655245 -121.075915\n",
              "\n",
              "[985 rows x 12 columns]"
            ]
          },
          "metadata": {
            "tags": []
          },
          "execution_count": 4
        }
      ]
    },
    {
      "cell_type": "code",
      "metadata": {
        "id": "gAKu29Vg8kZg",
        "colab_type": "code",
        "outputId": "98558fc0-0a3c-40c6-c294-52de731cc24d",
        "colab": {
          "base_uri": "https://localhost:8080/",
          "height": 256
        }
      },
      "source": [
        "df.isnull().sum()"
      ],
      "execution_count": 0,
      "outputs": [
        {
          "output_type": "execute_result",
          "data": {
            "text/plain": [
              "street       0\n",
              "city         0\n",
              "zip          0\n",
              "state        0\n",
              "beds         0\n",
              "baths        0\n",
              "sq__ft       0\n",
              "type         0\n",
              "sale_date    0\n",
              "price        0\n",
              "latitude     0\n",
              "longitude    0\n",
              "dtype: int64"
            ]
          },
          "metadata": {
            "tags": []
          },
          "execution_count": 5
        }
      ]
    },
    {
      "cell_type": "code",
      "metadata": {
        "id": "AO10o5GN8oJ9",
        "colab_type": "code",
        "outputId": "3cf43d25-099f-4249-f79a-69d94ec37f63",
        "colab": {
          "base_uri": "https://localhost:8080/",
          "height": 256
        }
      },
      "source": [
        "df.isna().sum()"
      ],
      "execution_count": 0,
      "outputs": [
        {
          "output_type": "execute_result",
          "data": {
            "text/plain": [
              "street       0\n",
              "city         0\n",
              "zip          0\n",
              "state        0\n",
              "beds         0\n",
              "baths        0\n",
              "sq__ft       0\n",
              "type         0\n",
              "sale_date    0\n",
              "price        0\n",
              "latitude     0\n",
              "longitude    0\n",
              "dtype: int64"
            ]
          },
          "metadata": {
            "tags": []
          },
          "execution_count": 6
        }
      ]
    },
    {
      "cell_type": "code",
      "metadata": {
        "id": "w5Hf4m0J8rxp",
        "colab_type": "code",
        "outputId": "304430fc-578f-4250-927a-ebce32219f2c",
        "colab": {
          "base_uri": "https://localhost:8080/",
          "height": 35
        }
      },
      "source": [
        "df.isnull().values.any()"
      ],
      "execution_count": 0,
      "outputs": [
        {
          "output_type": "execute_result",
          "data": {
            "text/plain": [
              "False"
            ]
          },
          "metadata": {
            "tags": []
          },
          "execution_count": 7
        }
      ]
    },
    {
      "cell_type": "code",
      "metadata": {
        "id": "8pmciaok86ta",
        "colab_type": "code",
        "outputId": "00f8936a-810d-48b8-86cd-8f98ade9956c",
        "colab": {
          "base_uri": "https://localhost:8080/",
          "height": 35
        }
      },
      "source": [
        "(df['beds'] == 0).sum(), (df['baths'] == 0).sum(), (df['sq__ft'] == 0).sum(), (df['price'] == 0).sum()"
      ],
      "execution_count": 0,
      "outputs": [
        {
          "output_type": "execute_result",
          "data": {
            "text/plain": [
              "(108, 108, 171, 0)"
            ]
          },
          "metadata": {
            "tags": []
          },
          "execution_count": 8
        }
      ]
    },
    {
      "cell_type": "code",
      "metadata": {
        "id": "g12zN1ox9F-W",
        "colab_type": "code",
        "outputId": "f88e9ada-40a9-46b9-8a68-41eada15139f",
        "colab": {
          "base_uri": "https://localhost:8080/",
          "height": 74
        }
      },
      "source": [
        "z_field = ['beds', 'baths', 'sq__ft']\n",
        "df.non_zero = df.copy()\n",
        "df[z_field] = df[z_field].replace(0, np.nan)"
      ],
      "execution_count": 0,
      "outputs": [
        {
          "output_type": "stream",
          "text": [
            "/usr/local/lib/python3.6/dist-packages/ipykernel_launcher.py:2: UserWarning: Pandas doesn't allow columns to be created via a new attribute name - see https://pandas.pydata.org/pandas-docs/stable/indexing.html#attribute-access\n",
            "  \n"
          ],
          "name": "stderr"
        }
      ]
    },
    {
      "cell_type": "code",
      "metadata": {
        "id": "nOI8deg7_EEG",
        "colab_type": "code",
        "colab": {}
      },
      "source": [
        "df[z_field] = df[z_field].fillna(df.non_zero.mean())"
      ],
      "execution_count": 0,
      "outputs": []
    },
    {
      "cell_type": "code",
      "metadata": {
        "id": "cr4CwcxuBkGH",
        "colab_type": "code",
        "outputId": "08afd9e1-5135-486d-8833-f8551c0e1c74",
        "colab": {
          "base_uri": "https://localhost:8080/",
          "height": 35
        }
      },
      "source": [
        "(df['beds'] == 0).sum(), (df['baths'] == 0).sum(), (df['sq__ft'] == 0).sum(), (df['price'] == 0).sum()"
      ],
      "execution_count": 0,
      "outputs": [
        {
          "output_type": "execute_result",
          "data": {
            "text/plain": [
              "(0, 0, 0, 0)"
            ]
          },
          "metadata": {
            "tags": []
          },
          "execution_count": 11
        }
      ]
    },
    {
      "cell_type": "code",
      "metadata": {
        "id": "Xu153JJ3Ss7G",
        "colab_type": "code",
        "outputId": "3e488519-3cc5-4737-d056-54cdc5f4d26d",
        "colab": {
          "base_uri": "https://localhost:8080/",
          "height": 35
        }
      },
      "source": [
        "df['street'].nunique()"
      ],
      "execution_count": 0,
      "outputs": [
        {
          "output_type": "execute_result",
          "data": {
            "text/plain": [
              "981"
            ]
          },
          "metadata": {
            "tags": []
          },
          "execution_count": 23
        }
      ]
    },
    {
      "cell_type": "code",
      "metadata": {
        "id": "wGITTkBlTgIG",
        "colab_type": "code",
        "outputId": "872d364b-1124-49db-e012-76f20d99c765",
        "colab": {
          "base_uri": "https://localhost:8080/",
          "height": 35
        }
      },
      "source": [
        "df['city'].nunique()"
      ],
      "execution_count": 0,
      "outputs": [
        {
          "output_type": "execute_result",
          "data": {
            "text/plain": [
              "39"
            ]
          },
          "metadata": {
            "tags": []
          },
          "execution_count": 24
        }
      ]
    },
    {
      "cell_type": "code",
      "metadata": {
        "id": "vCjUCRNkTpB_",
        "colab_type": "code",
        "colab": {}
      },
      "source": [
        "maxPrice = df.groupby('city')['price'].max()"
      ],
      "execution_count": 0,
      "outputs": []
    },
    {
      "cell_type": "code",
      "metadata": {
        "id": "3i16MDZhT62C",
        "colab_type": "code",
        "colab": {}
      },
      "source": [
        "minPrice = df.groupby('city')['price'].min()"
      ],
      "execution_count": 0,
      "outputs": []
    },
    {
      "cell_type": "code",
      "metadata": {
        "id": "Ky6Wzd9rUCW4",
        "colab_type": "code",
        "outputId": "22951af9-df4f-4719-a16d-7f1b4bc346f8",
        "colab": {
          "base_uri": "https://localhost:8080/",
          "height": 1000
        }
      },
      "source": [
        "print(minPrice, maxPrice)"
      ],
      "execution_count": 0,
      "outputs": [
        {
          "output_type": "stream",
          "text": [
            "city\n",
            "ANTELOPE           115000\n",
            "AUBURN             260000\n",
            "CAMERON PARK       119000\n",
            "CARMICHAEL         139500\n",
            "CITRUS HEIGHTS      30000\n",
            "COOL               300000\n",
            "DIAMOND SPRINGS    216033\n",
            "EL DORADO          205000\n",
            "EL DORADO HILLS    235738\n",
            "ELK GROVE           71000\n",
            "ELVERTA            126000\n",
            "FAIR OAKS          142500\n",
            "FOLSOM             200000\n",
            "FORESTHILL         194818\n",
            "GALT               106716\n",
            "GARDEN VALLEY      490000\n",
            "GOLD RIVER         299000\n",
            "GRANITE BAY        600000\n",
            "GREENWOOD          395000\n",
            "LINCOLN              1551\n",
            "LOOMIS             295000\n",
            "MATHER             237800\n",
            "MEADOW VISTA       230000\n",
            "NORTH HIGHLANDS     63000\n",
            "ORANGEVALE         183200\n",
            "PENRYN             506688\n",
            "PLACERVILLE        205000\n",
            "POLLOCK PINES      175000\n",
            "RANCHO CORDOVA      94905\n",
            "RANCHO MURIETA      97750\n",
            "RIO LINDA           30000\n",
            "ROCKLIN            230095\n",
            "ROSEVILLE          115000\n",
            "SACRAMENTO          40000\n",
            "SHINGLE SPRINGS    275000\n",
            "SLOUGHHOUSE          2000\n",
            "WALNUT GROVE       380000\n",
            "WEST SACRAMENTO    147000\n",
            "WILTON             372000\n",
            "Name: price, dtype: int64 city\n",
            "ANTELOPE           408431\n",
            "AUBURN             560000\n",
            "CAMERON PARK       425000\n",
            "CARMICHAEL         668365\n",
            "CITRUS HEIGHTS     305000\n",
            "COOL               300000\n",
            "DIAMOND SPRINGS    216033\n",
            "EL DORADO          289000\n",
            "EL DORADO HILLS    879000\n",
            "ELK GROVE          510000\n",
            "ELVERTA            140000\n",
            "FAIR OAKS          680000\n",
            "FOLSOM             636000\n",
            "FORESTHILL         194818\n",
            "GALT               420000\n",
            "GARDEN VALLEY      490000\n",
            "GOLD RIVER         528000\n",
            "GRANITE BAY        760000\n",
            "GREENWOOD          395000\n",
            "LINCOLN            512000\n",
            "LOOMIS             839000\n",
            "MATHER             237800\n",
            "MEADOW VISTA       230000\n",
            "NORTH HIGHLANDS    224252\n",
            "ORANGEVALE         475000\n",
            "PENRYN             506688\n",
            "PLACERVILLE        677048\n",
            "POLLOCK PINES      280908\n",
            "RANCHO CORDOVA     430000\n",
            "RANCHO MURIETA     425000\n",
            "RIO LINDA          300000\n",
            "ROCKLIN            600000\n",
            "ROSEVILLE          614000\n",
            "SACRAMENTO         699000\n",
            "SHINGLE SPRINGS    275000\n",
            "SLOUGHHOUSE          2000\n",
            "WALNUT GROVE       380000\n",
            "WEST SACRAMENTO    200100\n",
            "WILTON             884790\n",
            "Name: price, dtype: int64\n"
          ],
          "name": "stdout"
        }
      ]
    },
    {
      "cell_type": "code",
      "metadata": {
        "id": "i1KBfk6tUQfW",
        "colab_type": "code",
        "colab": {}
      },
      "source": [
        "import seaborn as sns"
      ],
      "execution_count": 0,
      "outputs": []
    },
    {
      "cell_type": "code",
      "metadata": {
        "id": "ymxkiAbTVGIO",
        "colab_type": "code",
        "outputId": "5237250b-7568-4852-c4db-c38cfbcda1c3",
        "colab": {
          "base_uri": "https://localhost:8080/",
          "height": 1000
        }
      },
      "source": [
        "sns.lmplot(x='sq__ft', y='price', data=df)\n",
        "plt.show()\n",
        "sns.lmplot(x='beds', y='price', data=df)\n",
        "plt.show()\n",
        "sns.lmplot(x='baths', y='price', data=df)\n",
        "plt.show()"
      ],
      "execution_count": 0,
      "outputs": [
        {
          "output_type": "display_data",
          "data": {
            "image/png": "[encoded data removed]",
            "text/plain": [
              "<Figure size 360x360 with 1 Axes>"
            ]
          },
          "metadata": {
            "tags": []
          }
        },
        {
          "output_type": "display_data",
          "data": {
            "image/png": "[encoded data removed]",
            "text/plain": [
              "<Figure size 360x360 with 1 Axes>"
            ]
          },
          "metadata": {
            "tags": []
          }
        },
        {
          "output_type": "display_data",
          "data": {
            "image/png": "[encoded data removed]",
            "text/plain": [
              "<Figure size 360x360 with 1 Axes>"
            ]
          },
          "metadata": {
            "tags": []
          }
        }
      ]
    },
    {
      "cell_type": "code",
      "metadata": {
        "id": "o0K5PriZVY72",
        "colab_type": "code",
        "outputId": "81e01e57-7162-49e7-ed42-f5da55e1cb9c",
        "colab": {
          "base_uri": "https://localhost:8080/",
          "height": 269
        }
      },
      "source": [
        "df.corr(method ='kendall')"
      ],
      "execution_count": 0,
      "outputs": [
        {
          "output_type": "execute_result",
          "data": {
            "text/html": [
              "<div>\n",
              "<style scoped>\n",
              "    .dataframe tbody tr th:only-of-type {\n",
              "        vertical-align: middle;\n",
              "    }\n",
              "\n",
              "    .dataframe tbody tr th {\n",
              "        vertical-align: top;\n",
              "    }\n",
              "\n",
              "    .dataframe thead th {\n",
              "        text-align: right;\n",
              "    }\n",
              "</style>\n",
              "<table border=\"1\" class=\"dataframe\">\n",
              "  <thead>\n",
              "    <tr style=\"text-align: right;\">\n",
              "      <th></th>\n",
              "      <th>zip</th>\n",
              "      <th>beds</th>\n",
              "      <th>baths</th>\n",
              "      <th>sq__ft</th>\n",
              "      <th>price</th>\n",
              "      <th>latitude</th>\n",
              "      <th>longitude</th>\n",
              "    </tr>\n",
              "  </thead>\n",
              "  <tbody>\n",
              "    <tr>\n",
              "      <th>zip</th>\n",
              "      <td>1.000000</td>\n",
              "      <td>0.018953</td>\n",
              "      <td>-0.005025</td>\n",
              "      <td>-0.016095</td>\n",
              "      <td>-0.067694</td>\n",
              "      <td>-0.080830</td>\n",
              "      <td>-0.364485</td>\n",
              "    </tr>\n",
              "    <tr>\n",
              "      <th>beds</th>\n",
              "      <td>0.018953</td>\n",
              "      <td>1.000000</td>\n",
              "      <td>0.615725</td>\n",
              "      <td>0.528635</td>\n",
              "      <td>0.322866</td>\n",
              "      <td>-0.115128</td>\n",
              "      <td>0.018372</td>\n",
              "    </tr>\n",
              "    <tr>\n",
              "      <th>baths</th>\n",
              "      <td>-0.005025</td>\n",
              "      <td>0.615725</td>\n",
              "      <td>1.000000</td>\n",
              "      <td>0.535217</td>\n",
              "      <td>0.366823</td>\n",
              "      <td>-0.073400</td>\n",
              "      <td>0.068689</td>\n",
              "    </tr>\n",
              "    <tr>\n",
              "      <th>sq__ft</th>\n",
              "      <td>-0.016095</td>\n",
              "      <td>0.528635</td>\n",
              "      <td>0.535217</td>\n",
              "      <td>1.000000</td>\n",
              "      <td>0.415124</td>\n",
              "      <td>-0.083057</td>\n",
              "      <td>0.051609</td>\n",
              "    </tr>\n",
              "    <tr>\n",
              "      <th>price</th>\n",
              "      <td>-0.067694</td>\n",
              "      <td>0.322866</td>\n",
              "      <td>0.366823</td>\n",
              "      <td>0.415124</td>\n",
              "      <td>1.000000</td>\n",
              "      <td>-0.018218</td>\n",
              "      <td>0.129167</td>\n",
              "    </tr>\n",
              "    <tr>\n",
              "      <th>latitude</th>\n",
              "      <td>-0.080830</td>\n",
              "      <td>-0.115128</td>\n",
              "      <td>-0.073400</td>\n",
              "      <td>-0.083057</td>\n",
              "      <td>-0.018218</td>\n",
              "      <td>1.000000</td>\n",
              "      <td>0.281511</td>\n",
              "    </tr>\n",
              "    <tr>\n",
              "      <th>longitude</th>\n",
              "      <td>-0.364485</td>\n",
              "      <td>0.018372</td>\n",
              "      <td>0.068689</td>\n",
              "      <td>0.051609</td>\n",
              "      <td>0.129167</td>\n",
              "      <td>0.281511</td>\n",
              "      <td>1.000000</td>\n",
              "    </tr>\n",
              "  </tbody>\n",
              "</table>\n",
              "</div>"
            ],
            "text/plain": [
              "                zip      beds     baths  ...     price  latitude  longitude\n",
              "zip        1.000000  0.018953 -0.005025  ... -0.067694 -0.080830  -0.364485\n",
              "beds       0.018953  1.000000  0.615725  ...  0.322866 -0.115128   0.018372\n",
              "baths     -0.005025  0.615725  1.000000  ...  0.366823 -0.073400   0.068689\n",
              "sq__ft    -0.016095  0.528635  0.535217  ...  0.415124 -0.083057   0.051609\n",
              "price     -0.067694  0.322866  0.366823  ...  1.000000 -0.018218   0.129167\n",
              "latitude  -0.080830 -0.115128 -0.073400  ... -0.018218  1.000000   0.281511\n",
              "longitude -0.364485  0.018372  0.068689  ...  0.129167  0.281511   1.000000\n",
              "\n",
              "[7 rows x 7 columns]"
            ]
          },
          "metadata": {
            "tags": []
          },
          "execution_count": 32
        }
      ]
    },
    {
      "cell_type": "code",
      "metadata": {
        "id": "B1-NPEkHWEWd",
        "colab_type": "code",
        "outputId": "d0df43c7-6e2e-455a-af34-d9f787fa530c",
        "colab": {
          "base_uri": "https://localhost:8080/",
          "height": 439
        }
      },
      "source": [
        "df.corr().unstack().sort_values(ascending = False).drop_duplicates()"
      ],
      "execution_count": 0,
      "outputs": [
        {
          "output_type": "execute_result",
          "data": {
            "text/plain": [
              "longitude  longitude    1.000000\n",
              "sq__ft     baths        0.666713\n",
              "beds       baths        0.664115\n",
              "sq__ft     beds         0.650869\n",
              "price      sq__ft       0.525367\n",
              "baths      price        0.475334\n",
              "price      beds         0.412636\n",
              "latitude   longitude    0.387925\n",
              "price      longitude    0.284485\n",
              "baths      longitude    0.132186\n",
              "beds       longitude    0.054626\n",
              "longitude  sq__ft       0.044055\n",
              "beds       zip         -0.038355\n",
              "baths      latitude    -0.039411\n",
              "price      latitude    -0.039573\n",
              "zip        sq__ft      -0.043852\n",
              "baths      zip         -0.088795\n",
              "beds       latitude    -0.093180\n",
              "price      zip         -0.093353\n",
              "sq__ft     latitude    -0.159076\n",
              "latitude   zip         -0.290389\n",
              "zip        longitude   -0.539904\n",
              "dtype: float64"
            ]
          },
          "metadata": {
            "tags": []
          },
          "execution_count": 36
        }
      ]
    },
    {
      "cell_type": "code",
      "metadata": {
        "id": "l7x-9q-SW6sP",
        "colab_type": "code",
        "outputId": "5a5a1be6-5d6d-4fbc-905d-4b20a5ca1b73",
        "colab": {
          "base_uri": "https://localhost:8080/",
          "height": 54
        }
      },
      "source": [
        "covariance = np.cov(df['sq__ft'], df['price'])\n",
        "print(covariance)"
      ],
      "execution_count": 0,
      "outputs": [
        {
          "output_type": "stream",
          "text": [
            "[[3.75061406e+05 4.45187121e+07]\n",
            " [4.45187121e+07 1.91451054e+10]]\n"
          ],
          "name": "stdout"
        }
      ]
    },
    {
      "cell_type": "code",
      "metadata": {
        "id": "UKK5G7ccYAlb",
        "colab_type": "code",
        "colab": {}
      },
      "source": [
        "X = df['sq__ft'].values.reshape(-1,1)'\n",
        "Y = df['price']"
      ],
      "execution_count": 0,
      "outputs": []
    },
    {
      "cell_type": "code",
      "metadata": {
        "id": "L_POgPjlYWIP",
        "colab_type": "code",
        "colab": {}
      },
      "source": [
        "from sklearn.model_selection import train_test_split\n",
        "x_train, x_test, y_train, y_test = train_test_split(x, y, test_size = 1/3, random_state = 0)"
      ],
      "execution_count": 0,
      "outputs": []
    },
    {
      "cell_type": "code",
      "metadata": {
        "id": "Aq98rKwgY0dS",
        "colab_type": "code",
        "outputId": "ad53bde9-fa02-4917-e236-10e98c36ff3b",
        "colab": {
          "base_uri": "https://localhost:8080/",
          "height": 35
        }
      },
      "source": [
        "from sklearn.linear_model import LinearRegression\n",
        "regressor = LinearRegression()\n",
        "regressor.fit(x_train, y_train)"
      ],
      "execution_count": 0,
      "outputs": [
        {
          "output_type": "execute_result",
          "data": {
            "text/plain": [
              "LinearRegression(copy_X=True, fit_intercept=True, n_jobs=None, normalize=False)"
            ]
          },
          "metadata": {
            "tags": []
          },
          "execution_count": 113
        }
      ]
    },
    {
      "cell_type": "code",
      "metadata": {
        "id": "SQCh0UeIe2I3",
        "colab_type": "code",
        "outputId": "c08db59c-0489-4d11-8c9d-cef400c7e337",
        "colab": {
          "base_uri": "https://localhost:8080/",
          "height": 295
        }
      },
      "source": [
        "train = plt\n",
        "train.scatter(x_train[:,0], y_train, color = 'red')\n",
        "train.title('Price vs Area (Training Set)')\n",
        "train.xlabel('Area in sq. ft.')\n",
        "train.ylabel('Price')\n",
        "train.show()"
      ],
      "execution_count": 0,
      "outputs": [
        {
          "output_type": "display_data",
          "data": {
            "image/png": "[encoded data removed]",
            "text/plain": [
              "<Figure size 432x288 with 1 Axes>"
            ]
          },
          "metadata": {
            "tags": []
          }
        }
      ]
    },
    {
      "cell_type": "code",
      "metadata": {
        "id": "4pVoCQ7ViMOn",
        "colab_type": "code",
        "outputId": "bf20e0df-d1b0-4220-bfad-3521bbae9231",
        "colab": {
          "base_uri": "https://localhost:8080/",
          "height": 1000
        }
      },
      "source": [
        "y_pred = regressor.predict(x_test)\n",
        "print('Actual values' + '\\tPredicted Values' +'\\tError')\n",
        "err = y_test - y_pred\n",
        "for i in zip(y_test, y_pred, err):\n",
        "  print(i)"
      ],
      "execution_count": 0,
      "outputs": [
        {
          "output_type": "stream",
          "text": [
            "Actual values\tPredicted Values\tError\n",
            "(211500, 277965.8547430709, -66465.8547430709)\n",
            "(395100, 461220.98000498116, -66120.98000498116)\n",
            "(129000, 176574.71872787923, -47574.718727879226)\n",
            "(124000, 214901.57854366302, -90901.57854366302)\n",
            "(176850, 229270.45445470512, -52420.45445470512)\n",
            "(480000, 283787.9416678846, 196212.0583321154)\n",
            "(220000, 114040.36592538655, 105959.63407461345)\n",
            "(610000, 433173.47398969904, 176826.52601030096)\n",
            "(362305, 210345.8336963728, 151959.1663036272)\n",
            "(325000, 354846.1900641769, -29846.190064176917)\n",
            "(130000, 183708.0011077039, -53708.001107703894)\n",
            "(215000, 198580.84727532417, 16419.152724675834)\n",
            "(339000, 299549.7818142846, 39450.21818571538)\n",
            "(270000, 278234.5796999261, -8234.579699926078)\n",
            "(300567, 253124.43466816097, 47442.565331839025)\n",
            "(108750, 191347.77522680908, -82597.77522680908)\n",
            "(145846, 244939.9522729069, -99093.9522729069)\n",
            "(4897, 193356.8773895651, -188459.8773895651)\n",
            "(460000, 471428.752281487, -11428.752281486988)\n",
            "(339000, 149439.7550536506, 189560.2449463494)\n",
            "(271742, 127612.91997076198, 144129.08002923802)\n",
            "(137721, 288193.81057529896, -150472.81057529896)\n",
            "(164000, 140407.89713845402, 23592.10286154598)\n",
            "(257200, 277040.1036134437, -19840.103613443673)\n",
            "(134555, 181468.92176309228, -46913.92176309228)\n",
            "(220000, 130669.58446658403, 89330.41553341597)\n",
            "(115000, 194339.6486562416, -79339.6486562416)\n",
            "(261800, 209368.33726269752, 52431.66273730248)\n",
            "(306000, 202741.58960206807, 103258.41039793193)\n",
            "(225000, 178621.21177333593, 46378.788226664066)\n",
            "(218000, 252721.31841117144, -34721.318411171436)\n",
            "(371086, 397593.1709182933, -26507.170918293297)\n",
            "(276500, 235995.9800343141, 40504.019965685904)\n",
            "(334000, 283632.93461164087, 50367.06538835913)\n",
            "(210000, 306253.90104879066, -96253.90104879066)\n",
            "(221000, 167828.60647348315, 53171.393526516855)\n",
            "(178760, 253244.03982272, -74484.03982271999)\n",
            "(97500, 149205.72976985574, -51705.72976985574)\n",
            "(116100, 153309.13195830584, -37209.131958305836)\n",
            "(471750, 418686.72940359265, 53063.270596407354)\n",
            "(361745, 254721.45232674852, 107023.54767325148)\n",
            "(185000, 167991.2465199083, 17008.75348009169)\n",
            "(181000, 236780.41616588458, -55780.416165884584)\n",
            "(282400, 520532.13196022063, -238132.13196022063)\n",
            "(330000, 202980.96575346962, 127019.03424653038)\n",
            "(115620, 204145.4021210596, -88525.4021210596)\n",
            "(120000, 355359.9923925102, -235359.99239251018)\n",
            "(156000, 188032.8070210591, -32032.807021059096)\n",
            "(236250, 147890.92734191567, 88359.07265808433)\n",
            "(85500, 177704.68706919998, -92204.68706919998)\n",
            "(4897, 193343.0690273121, -188446.0690273121)\n",
            "(247480, 165601.44374991953, 81878.55625008047)\n",
            "(127059, 181157.4480168596, -54098.44801685959)\n",
            "(4897, 193451.01343200356, -188554.01343200356)\n",
            "(61500, 126450.66220953688, -64950.66220953688)\n",
            "(180000, 241371.658889696, -61371.658889696)\n",
            "(65000, 132158.00658421963, -67158.00658421963)\n",
            "(380000, 179576.81423509493, 200423.18576490507)\n",
            "(250000, 158131.53829208016, 91868.46170791984)\n",
            "(258000, 372790.4774186164, -114790.47741861641)\n",
            "(680000, 476152.5667552501, 203847.4332447499)\n",
            "(234000, 214004.77062888816, 19995.22937111184)\n",
            "(225000, 229253.32320019603, -4253.323200196028)\n",
            "(4897, 193447.980236426, -188550.980236426)\n",
            "(75000, 128716.43760059774, -53716.43760059774)\n",
            "(205878, 215811.80326469243, -9933.803264692426)\n",
            "(236000, 406204.8638023734, -170204.8638023734)\n",
            "(668365, 397742.23623573035, 270622.76376426965)\n",
            "(92000, 105621.58088523895, -13621.580885238945)\n",
            "(114800, 184979.36678219587, -70179.36678219587)\n",
            "(151087, 200518.58900333568, -49431.589003335685)\n",
            "(150000, 215149.00454185903, -65149.00454185903)\n",
            "(311328, 240105.58475555852, 71222.41524444148)\n",
            "(511000, 186158.4898264557, 324841.5101735443)\n",
            "(150000, 231676.90369459987, -81676.90369459987)\n",
            "(230522, 135376.59450170398, 95145.40549829602)\n",
            "(164000, 209179.0316351205, -45179.03163512051)\n",
            "(68000, 117555.19439914078, -49555.194399140775)\n",
            "(297500, 282530.27196761966, 14969.728032380342)\n",
            "(122000, 216130.53434967995, -94130.53434967995)\n",
            "(275336, 241273.38900946826, 34062.61099053174)\n",
            "(188335, 184837.71891721338, 3497.2810827866197)\n",
            "(200345, 201718.20559718832, -1373.2055971883237)\n",
            "(300000, 226129.1391984634, 73870.86080153659)\n",
            "(193500, 220521.23578285053, -27021.235782850534)\n",
            "(255000, 189721.8133035414, 65278.18669645861)\n",
            "(192067, 220582.53088308126, -28515.530883081257)\n",
            "(229500, 218466.6266368404, 11033.373363159597)\n",
            "(286013, 247114.55476092547, 38898.44523907453)\n",
            "(165000, 247646.17311039567, -82646.17311039567)\n",
            "(220000, 229210.85784367472, -9210.85784367472)\n",
            "(200000, 162096.12294936925, 37903.87705063075)\n",
            "(167293, 201516.25873322785, -34223.25873322785)\n",
            "(207744, 281126.72984264046, -73382.72984264046)\n",
            "(395000, 431968.4641158059, -36968.464115805924)\n",
            "(116000, 205334.0743799582, -89334.07437995821)\n",
            "(207000, 273088.92778894305, -66088.92778894305)\n",
            "(275000, 257863.15647501498, 17136.843524985015)\n",
            "(170000, 208348.95291913673, -38348.95291913673)\n",
            "(288000, 226914.6770441383, 61085.32295586169)\n",
            "(277980, 314065.79170199484, -36085.791701994836)\n",
            "(182716, 215088.10999455303, -32372.10999455303)\n",
            "(412500, 256636.64868739247, 155863.35131260753)\n",
            "(4897, 193629.80457024276, -188732.80457024276)\n",
            "(280000, 353605.0393885523, -73605.03938855231)\n",
            "(148750, 137414.06987001747, 11335.930129982531)\n",
            "(4897, 193719.78633213788, -188822.78633213788)\n",
            "(328360, 318477.9150688052, 9882.084931194782)\n",
            "(109000, 182658.14963249862, -73658.14963249862)\n",
            "(146000, 193854.0573006235, -47854.057300623506)\n",
            "(247000, 236372.86648477986, 10627.133515220135)\n",
            "(613401, 472729.00523700565, 140671.99476299435)\n",
            "(394470, 418472.3363666311, -24002.33636663109)\n",
            "(111000, 147614.7394829914, -36614.7394829914)\n",
            "(4897, 193647.47995036095, -188750.47995036095)\n",
            "(228000, 261070.8872165531, -33070.88721655309)\n",
            "(156000, 193237.1694317013, -37237.1694317013)\n",
            "(190000, 136383.10816992074, 53616.89183007926)\n",
            "(174250, 176082.2425470315, -1832.242547031492)\n",
            "(266000, 195099.96528650075, 70900.03471349925)\n",
            "(94905, 195719.3407959342, -100814.3407959342)\n",
            "(368500, 203493.91017208993, 165006.08982791007)\n",
            "(170000, 201305.91286648437, -31305.912866484374)\n",
            "(265000, 191318.56436793506, 73681.43563206494)\n",
            "(115000, 172493.04134757072, -57493.04134757072)\n",
            "(4897, 193558.7064314261, -188661.7064314261)\n",
            "(131750, 173119.36233866587, -41369.36233866587)\n",
            "(4897, 193412.57527457178, -188515.57527457178)\n",
            "(204750, 239107.96025439724, -34357.96025439724)\n",
            "(225000, 208412.5276458636, 16587.472354136407)\n",
            "(245000, 142615.35398390144, 102384.64601609856)\n",
            "(159900, 412843.5305108428, -252943.5305108428)\n",
            "(274500, 213410.61646734178, 61089.38353265822)\n",
            "(178480, 202424.3196189776, -23944.319618977606)\n",
            "(141000, 174736.5322427526, -33736.53224275261)\n",
            "(127000, 136206.45352383703, -9206.45352383703)\n",
            "(133000, 174736.5322427526, -41736.53224275261)\n",
            "(360000, 174079.86706937477, 185920.13293062523)\n",
            "(250000, 213413.69137590379, 36586.308624096215)\n",
            "(120000, 106874.88319347799, 13125.116806522012)\n",
            "(250000, 237017.00417996943, 12982.99582003057)\n",
            "(201528, 179209.32960040122, 22318.670399598777)\n",
            "(170725, 207097.45908597112, -36372.45908597112)\n",
            "(315000, 313106.0061000511, 1893.993899948895)\n",
            "(4897, 193428.34192620963, -188531.34192620963)\n",
            "(460000, 305747.397693865, 154252.602306135)\n",
            "(142000, 204981.5045396909, -62981.50453969091)\n",
            "(200000, 217309.18165368214, -17309.181653682142)\n",
            "(450000, 284029.11042466015, 165970.88957533985)\n",
            "(102750, 185683.94799318165, -82933.94799318165)\n",
            "(438700, 370474.04321663827, 68225.95678336173)\n",
            "(475000, 409354.4795580432, 65645.52044195682)\n",
            "(180400, 242424.8636288941, -62024.86362889409)\n",
            "(378000, 195388.47725996003, 182611.52274003997)\n",
            "(303000, 361856.65948556364, -58856.659485563636)\n",
            "(425000, 428950.5466086194, -3950.546608619392)\n",
            "(423000, 321851.27767315507, 101148.72232684493)\n",
            "(129500, 187548.87563381344, -58048.87563381344)\n",
            "(4897, 193470.20417319238, -188573.20417319238)\n",
            "(261000, 246360.9553273581, 14639.044672641903)\n",
            "(228750, 348335.95421120524, -119585.95421120524)\n",
            "(170000, 256647.7977919802, -86647.7977919802)\n",
            "(415000, 269994.2023189403, 145005.7976810597)\n",
            "(267750, 208300.13191949576, 59449.86808050424)\n",
            "(238000, 194409.1577902101, 43590.8422097899)\n",
            "(433500, 152625.69443327934, 280874.30556672066)\n",
            "(356000, 251714.72717637196, 104285.27282362804)\n",
            "(265000, 301487.3292527124, -36487.32925271243)\n",
            "(170000, 192912.39089159667, -22912.390891596675)\n",
            "(212500, 213929.040596392, -1429.0405963920057)\n",
            "(614000, 213269.84233623743, 400730.15766376257)\n",
            "(294173, 250203.32136192545, 43969.67863807455)\n",
            "(160000, 196916.98314763606, -36916.983147636056)\n",
            "(140000, 183459.5408910364, -43459.54089103639)\n",
            "(223000, 255243.38122312352, -32243.38122312352)\n",
            "(89921, 179858.26298250258, -89937.26298250258)\n",
            "(331200, 340630.77945561334, -9430.779455613345)\n",
            "(178000, 200565.488793388, -22565.48879338801)\n",
            "(255000, 222517.55063162, 32482.44936838001)\n",
            "(185074, 210611.73090581596, -25537.73090581596)\n",
            "(145000, 196766.97384069115, -51766.97384069115)\n",
            "(489332, 419208.40475033224, 70123.59524966776)\n",
            "(350000, 202261.4929307066, 147738.5070692934)\n",
            "(295000, 376765.75785046816, -81765.75785046816)\n",
            "(305000, 318744.05665197223, -13744.056651972234)\n",
            "(192700, 203364.45816481858, -10664.458164818585)\n",
            "(122000, 227436.94360006973, -105436.94360006973)\n",
            "(436746, 245469.30687259138, 191276.69312740862)\n",
            "(180000, 187500.60687733442, -7500.606877334416)\n",
            "(105000, 134884.09901545942, -29884.09901545942)\n",
            "(4897, 193420.6169095114, -188523.6169095114)\n",
            "(110000, 147968.627253253, -37968.62725325301)\n",
            "(297000, 395211.70342440903, -98211.70342440903)\n",
            "(224000, 158393.46912014484, 65606.53087985516)\n",
            "(148750, 222629.7333982885, -73879.73339828849)\n",
            "(158000, 233631.12205170095, -75631.12205170095)\n",
            "(107666, 107844.64938073605, -178.649380736053)\n",
            "(128687, 150451.06507579982, -21764.065075799823)\n",
            "(69000, 121664.35640150309, -52664.356401503086)\n",
            "(600000, 357097.9905908033, 242902.00940919667)\n",
            "(152000, 154788.04723465443, -2788.0472346544266)\n",
            "(315000, 230639.6229208, 84360.3770792)\n",
            "(294000, 371815.05825066566, -77815.05825066566)\n",
            "(225000, 201656.66685850546, 23343.333141494542)\n",
            "(245000, 364754.08385377005, -119754.08385377005)\n",
            "(145000, 179395.4484282434, -34395.4484282434)\n",
            "(289000, 326477.62450140715, -37477.62450140715)\n",
            "(55422, 128553.0597827211, -73131.0597827211)\n",
            "(120000, 89239.2123099938, 30760.787690006196)\n",
            "(284686, 268605.0875559673, 16080.912444032729)\n",
            "(346375, 382940.55142979696, -36565.551429796964)\n",
            "(400000, 300918.2364175543, 99081.76358244568)\n",
            "(241000, 256630.57630573213, -15630.576305732131)\n",
            "(242000, 199483.9624799788, 42516.0375200212)\n",
            "(183200, 275369.4586888775, -92169.45868887752)\n",
            "(227887, 240558.11440998688, -12671.114409986883)\n",
            "(179000, 252824.4825827554, -73824.48258275539)\n",
            "(145000, 103374.37576723844, 41625.62423276156)\n",
            "(125000, 125485.42546414211, -485.4254641421139)\n",
            "(406026, 359977.67791255563, 46048.322087444365)\n",
            "(195000, 257604.67946956307, -62604.67946956307)\n",
            "(150000, 214492.96061951295, -64492.960619512945)\n",
            "(167293, 216237.1778241247, -48944.177824124694)\n",
            "(229027, 194060.37150134146, 34966.62849865854)\n",
            "(210944, 95075.15446858108, 115868.84553141892)\n",
            "(425000, 251426.86574978754, 173573.13425021246)\n",
            "(68880, 110074.98757808656, -41194.987578086555)\n",
            "(240000, 282751.9291638881, -42751.9291638881)\n",
            "(197654, 208441.12268269807, -10787.122682698071)\n",
            "(220000, 239835.15876512975, -19835.158765129745)\n",
            "(441000, 424734.73558053374, 16265.264419466257)\n",
            "(237800, 291673.39229606465, -53873.392296064645)\n",
            "(452000, 446715.91967372596, 5284.080326274037)\n",
            "(212864, 241093.51937878132, -28229.51937878132)\n",
            "(298000, 267965.96967815235, 30034.030321847647)\n",
            "(188700, 192500.9540606737, -3800.9540606737137)\n",
            "(233641, 135054.3202009052, 98586.6797990948)\n",
            "(285000, 236935.0549293831, 48064.9450706169)\n",
            "(236073, 271820.92263658345, -35747.92263658345)\n",
            "(300500, 231431.1236833185, 69068.8763166815)\n",
            "(68212, 162767.38800362498, -94555.38800362498)\n",
            "(190000, 150802.11276188493, 39197.88723811507)\n",
            "(180000, 204439.3242117986, -24439.32421179861)\n",
            "(4897, 193515.20220714062, -188618.20220714062)\n",
            "(174000, 212284.1183616519, -38284.1183616519)\n",
            "(220000, 118181.32034378499, 101818.67965621501)\n",
            "(250000, 251536.76435417682, -1536.7643541768193)\n",
            "(228327, 205663.609193556, 22663.39080644399)\n",
            "(391000, 246988.62197167426, 144011.37802832574)\n",
            "(70000, 125274.78643168509, -55274.78643168509)\n",
            "(284893, 206278.78993522376, 78614.21006477624)\n",
            "(150000, 228561.10909654573, -78561.10909654573)\n",
            "(399000, 366677.1777071431, 32322.822292856872)\n",
            "(520000, 261716.66499871016, 258283.33500128984)\n",
            "(30000, 157149.13390962034, -127149.13390962034)\n",
            "(307000, 190764.03686872125, 116235.96313127875)\n",
            "(158000, 214847.38064418733, -56847.38064418733)\n",
            "(224252, 126621.69846295565, 97630.30153704435)\n",
            "(91000, 159991.4269117415, -68991.4269117415)\n",
            "(170000, 201800.63274459168, -31800.632744591683)\n",
            "(78400, 115459.46274819225, -37059.46274819225)\n",
            "(208000, 316703.9156008586, -108703.91560085863)\n",
            "(270000, 184266.3007445149, 85733.69925548509)\n",
            "(95000, 138505.44983145595, -43505.449831455946)\n",
            "(575000, 438256.52855659276, 136743.47144340724)\n",
            "(61000, 132362.94584828615, -71362.94584828615)\n",
            "(99000, 213084.50265281647, -114084.50265281647)\n",
            "(156142, 239194.3261589706, -83052.3261589706)\n",
            "(276000, 313752.7871670127, -37752.78716701269)\n",
            "(221000, 292554.9928010553, -71554.99280105531)\n",
            "(350000, 282736.28436167166, 67263.71563832834)\n",
            "(266510, 226318.40453276038, 40191.59546723962)\n",
            "(150000, 115154.06905578822, 34845.93094421178)\n",
            "(113000, 145305.08251325786, -32305.08251325786)\n",
            "(660000, 341974.2838608697, 318025.7161391303)\n",
            "(200000, 225053.32986560464, -25053.32986560464)\n",
            "(169000, 208119.77261142805, -39119.77261142805)\n",
            "(242000, 229924.818705149, 12075.181294851005)\n",
            "(200000, 194952.75814544037, 5047.24185455963)\n",
            "(92000, 147316.02008110657, -55316.02008110657)\n",
            "(528000, 376734.21669633687, 151265.78330366313)\n",
            "(326951, 210962.5676691793, 115988.43233082071)\n",
            "(30000, 193772.91030052304, -163772.91030052304)\n",
            "(100309, 164756.82240724564, -64447.822407245636)\n",
            "(275086, 201269.5535074398, 73816.44649256021)\n",
            "(195000, 367165.80324853957, -172165.80324853957)\n",
            "(240000, 364369.8541908525, -124369.8541908525)\n",
            "(545000, 191030.97198925167, 353969.0280107483)\n",
            "(180000, 262770.07243187726, -82770.07243187726)\n",
            "(256054, 371707.2400615737, -115653.24006157368)\n",
            "(760000, 501647.54174452275, 258352.45825547725)\n",
            "(140800, 196540.4294243157, -55740.42942431569)\n",
            "(195500, 243939.27954916656, -48439.27954916656)\n",
            "(170000, 268249.05138567835, -98249.05138567835)\n",
            "(190000, 241643.6480524838, -51643.6480524838)\n",
            "(313138, 227931.73053666204, 85206.26946333796)\n",
            "(122000, 188886.83488427848, -66886.83488427848)\n",
            "(123675, 195537.3712787181, -71862.37127871811)\n",
            "(400000, 231396.7830588594, 168603.2169411406)\n",
            "(164000, 185799.50393325835, -21799.503933258355)\n",
            "(306500, 191114.99631045014, 115385.00368954986)\n",
            "(200000, 291661.8249965161, -91661.82499651611)\n",
            "(168000, 215399.72864779457, -47399.728647794574)\n",
            "(172000, 200698.08947148547, -28698.089471485466)\n",
            "(198000, 149960.35085423663, 48039.64914576337)\n",
            "(423000, 365414.4102335535, 57585.5897664465)\n",
            "(299000, 241377.60872773826, 57622.39127226174)\n",
            "(336000, 346705.27671762183, -10705.276717621833)\n",
            "(221000, 240236.26399652287, -19236.263996522874)\n",
            "(166357, 238962.51770760864, -72605.51770760864)\n",
            "(328578, 203800.03976108506, 124777.96023891494)\n",
            "(264469, 194073.84234217554, 70395.15765782446)\n",
            "(315000, 240470.22576420754, 74529.77423579246)\n",
            "(194818, 328925.4387875721, -134107.4387875721)\n",
            "(254172, 263528.1206665151, -9356.120666515082)\n",
            "(189000, 223793.65495089442, -34793.654950894415)\n",
            "(310000, 221373.75116042048, 88626.24883957952)\n",
            "(174250, 227199.81650269032, -52949.816502690315)\n",
            "(258000, 251702.91711476818, 6297.082885231823)\n",
            "(335750, 348501.37130567804, -12751.37130567804)\n",
            "(247000, 169906.24759119004, 77093.75240880996)\n",
            "(160000, 215567.60067983717, -55567.60067983717)\n",
            "(4897, 193667.14995837212, -188770.14995837212)\n",
            "(189000, 212026.0815574713, -23026.081557471305)\n",
            "(4897, 193466.97733103484, -188569.97733103484)\n",
            "(311000, 286516.28385162354, 24483.716148376465)\n",
            "(106852, 109407.86606626213, -2555.866066262126)\n",
            "(830000, 448919.51817093417, 381080.48182906583)\n",
            "(344250, 326192.16672400385, 18057.83327599615)\n"
          ],
          "name": "stdout"
        }
      ]
    },
    {
      "cell_type": "code",
      "metadata": {
        "id": "fcSkE1qWnirb",
        "colab_type": "code",
        "outputId": "62b7be94-e711-47c0-9790-f156929a0b4d",
        "colab": {
          "base_uri": "https://localhost:8080/",
          "height": 35
        }
      },
      "source": [
        "regressor.score(x_test,y_test)"
      ],
      "execution_count": 0,
      "outputs": [
        {
          "output_type": "execute_result",
          "data": {
            "text/plain": [
              "0.41449565136251293"
            ]
          },
          "metadata": {
            "tags": []
          },
          "execution_count": 117
        }
      ]
    }
  ]
}
