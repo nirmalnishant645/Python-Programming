{
  "nbformat": 4,
  "nbformat_minor": 0,
  "metadata": {
    "colab": {
      "name": "Real-Estate-Pricing.ipynb",
      "provenance": [],
      "collapsed_sections": []
    },
    "kernelspec": {
      "name": "python3",
      "display_name": "Python 3"
    }
  },
  "cells": [
    {
      "cell_type": "code",
      "metadata": {
        "id": "XVZF9F3F5Z94",
        "colab_type": "code",
        "outputId": "371e1d88-f3d7-44a8-eba8-d96808426943",
        "colab": {
          "base_uri": "https://localhost:8080/",
          "height": 136
        }
      },
      "source": [
        "from google.colab import drive \n",
        "drive.mount('/mntDrive') \n",
        "!ls \"/mntDrive/My Drive/Colab Notebooks\""
      ],
      "execution_count": 20,
      "outputs": [
        {
          "output_type": "stream",
          "text": [
            "Drive already mounted at /mntDrive; to attempt to forcibly remount, call drive.mount(\"/mntDrive\", force_remount=True).\n",
            " ApacheSpark\t\t\t\t    Linear-Regression.ipynb\n",
            " Apriori-Algorithm.ipynb\t\t    Mean-Square-Method.ipynb\n",
            " Apriori-ARM-Assignment.ipynb\t\t    pima1.csv\n",
            "'car data.csv'\t\t\t\t    Real-Estate-Pricing.ipynb\n",
            " Cosmetics.xlsx\t\t\t\t    real.xlsx\n",
            " Introduction-To-Data-PreProcessing.ipynb   salary_data.csv\n"
          ],
          "name": "stdout"
        }
      ]
    },
    {
      "cell_type": "code",
      "metadata": {
        "id": "1en5gzxT6143",
        "colab_type": "code",
        "colab": {}
      },
      "source": [
        "import pandas as pd\n",
        "import numpy as np\n",
        "import matplotlib.pyplot as plt"
      ],
      "execution_count": 0,
      "outputs": []
    },
    {
      "cell_type": "code",
      "metadata": {
        "id": "LY9UF1o-7PWI",
        "colab_type": "code",
        "colab": {}
      },
      "source": [
        "df = pd.read_excel('/mntDrive/My Drive/Colab Notebooks/real.xlsx')"
      ],
      "execution_count": 0,
      "outputs": []
    },
    {
      "cell_type": "code",
      "metadata": {
        "id": "h_UT3VMf7cUJ",
        "colab_type": "code",
        "outputId": "bdf55424-a888-43fb-d29c-be9306e3f26f",
        "colab": {
          "base_uri": "https://localhost:8080/",
          "height": 419
        }
      },
      "source": [
        "df"
      ],
      "execution_count": 23,
      "outputs": [
        {
          "output_type": "execute_result",
          "data": {
            "text/html": [
              "<div>\n",
              "<style scoped>\n",
              "    .dataframe tbody tr th:only-of-type {\n",
              "        vertical-align: middle;\n",
              "    }\n",
              "\n",
              "    .dataframe tbody tr th {\n",
              "        vertical-align: top;\n",
              "    }\n",
              "\n",
              "    .dataframe thead th {\n",
              "        text-align: right;\n",
              "    }\n",
              "</style>\n",
              "<table border=\"1\" class=\"dataframe\">\n",
              "  <thead>\n",
              "    <tr style=\"text-align: right;\">\n",
              "      <th></th>\n",
              "      <th>street</th>\n",
              "      <th>city</th>\n",
              "      <th>zip</th>\n",
              "      <th>state</th>\n",
              "      <th>beds</th>\n",
              "      <th>baths</th>\n",
              "      <th>sq__ft</th>\n",
              "      <th>type</th>\n",
              "      <th>sale_date</th>\n",
              "      <th>price</th>\n",
              "      <th>latitude</th>\n",
              "      <th>longitude</th>\n",
              "    </tr>\n",
              "  </thead>\n",
              "  <tbody>\n",
              "    <tr>\n",
              "      <th>0</th>\n",
              "      <td>3526 HIGH ST</td>\n",
              "      <td>SACRAMENTO</td>\n",
              "      <td>95838</td>\n",
              "      <td>CA</td>\n",
              "      <td>2</td>\n",
              "      <td>1</td>\n",
              "      <td>836</td>\n",
              "      <td>Residential</td>\n",
              "      <td>Wed May 21 00:00:00 EDT 2008</td>\n",
              "      <td>59222</td>\n",
              "      <td>38.631913</td>\n",
              "      <td>-121.434879</td>\n",
              "    </tr>\n",
              "    <tr>\n",
              "      <th>1</th>\n",
              "      <td>51 OMAHA CT</td>\n",
              "      <td>SACRAMENTO</td>\n",
              "      <td>95823</td>\n",
              "      <td>CA</td>\n",
              "      <td>3</td>\n",
              "      <td>1</td>\n",
              "      <td>1167</td>\n",
              "      <td>Residential</td>\n",
              "      <td>Wed May 21 00:00:00 EDT 2008</td>\n",
              "      <td>68212</td>\n",
              "      <td>38.478902</td>\n",
              "      <td>-121.431028</td>\n",
              "    </tr>\n",
              "    <tr>\n",
              "      <th>2</th>\n",
              "      <td>2796 BRANCH ST</td>\n",
              "      <td>SACRAMENTO</td>\n",
              "      <td>95815</td>\n",
              "      <td>CA</td>\n",
              "      <td>2</td>\n",
              "      <td>1</td>\n",
              "      <td>796</td>\n",
              "      <td>Residential</td>\n",
              "      <td>Wed May 21 00:00:00 EDT 2008</td>\n",
              "      <td>68880</td>\n",
              "      <td>38.618305</td>\n",
              "      <td>-121.443839</td>\n",
              "    </tr>\n",
              "    <tr>\n",
              "      <th>3</th>\n",
              "      <td>2805 JANETTE WAY</td>\n",
              "      <td>SACRAMENTO</td>\n",
              "      <td>95815</td>\n",
              "      <td>CA</td>\n",
              "      <td>2</td>\n",
              "      <td>1</td>\n",
              "      <td>852</td>\n",
              "      <td>Residential</td>\n",
              "      <td>Wed May 21 00:00:00 EDT 2008</td>\n",
              "      <td>69307</td>\n",
              "      <td>38.616835</td>\n",
              "      <td>-121.439146</td>\n",
              "    </tr>\n",
              "    <tr>\n",
              "      <th>4</th>\n",
              "      <td>6001 MCMAHON DR</td>\n",
              "      <td>SACRAMENTO</td>\n",
              "      <td>95824</td>\n",
              "      <td>CA</td>\n",
              "      <td>2</td>\n",
              "      <td>1</td>\n",
              "      <td>797</td>\n",
              "      <td>Residential</td>\n",
              "      <td>Wed May 21 00:00:00 EDT 2008</td>\n",
              "      <td>81900</td>\n",
              "      <td>38.519470</td>\n",
              "      <td>-121.435768</td>\n",
              "    </tr>\n",
              "    <tr>\n",
              "      <th>...</th>\n",
              "      <td>...</td>\n",
              "      <td>...</td>\n",
              "      <td>...</td>\n",
              "      <td>...</td>\n",
              "      <td>...</td>\n",
              "      <td>...</td>\n",
              "      <td>...</td>\n",
              "      <td>...</td>\n",
              "      <td>...</td>\n",
              "      <td>...</td>\n",
              "      <td>...</td>\n",
              "      <td>...</td>\n",
              "    </tr>\n",
              "    <tr>\n",
              "      <th>980</th>\n",
              "      <td>9169 GARLINGTON CT</td>\n",
              "      <td>SACRAMENTO</td>\n",
              "      <td>95829</td>\n",
              "      <td>CA</td>\n",
              "      <td>4</td>\n",
              "      <td>3</td>\n",
              "      <td>2280</td>\n",
              "      <td>Residential</td>\n",
              "      <td>Thu May 15 00:00:00 EDT 2008</td>\n",
              "      <td>232425</td>\n",
              "      <td>38.457679</td>\n",
              "      <td>-121.359620</td>\n",
              "    </tr>\n",
              "    <tr>\n",
              "      <th>981</th>\n",
              "      <td>6932 RUSKUT WAY</td>\n",
              "      <td>SACRAMENTO</td>\n",
              "      <td>95823</td>\n",
              "      <td>CA</td>\n",
              "      <td>3</td>\n",
              "      <td>2</td>\n",
              "      <td>1477</td>\n",
              "      <td>Residential</td>\n",
              "      <td>Thu May 15 00:00:00 EDT 2008</td>\n",
              "      <td>234000</td>\n",
              "      <td>38.499893</td>\n",
              "      <td>-121.458890</td>\n",
              "    </tr>\n",
              "    <tr>\n",
              "      <th>982</th>\n",
              "      <td>7933 DAFFODIL WAY</td>\n",
              "      <td>CITRUS HEIGHTS</td>\n",
              "      <td>95610</td>\n",
              "      <td>CA</td>\n",
              "      <td>3</td>\n",
              "      <td>2</td>\n",
              "      <td>1216</td>\n",
              "      <td>Residential</td>\n",
              "      <td>Thu May 15 00:00:00 EDT 2008</td>\n",
              "      <td>235000</td>\n",
              "      <td>38.708824</td>\n",
              "      <td>-121.256803</td>\n",
              "    </tr>\n",
              "    <tr>\n",
              "      <th>983</th>\n",
              "      <td>8304 RED FOX WAY</td>\n",
              "      <td>ELK GROVE</td>\n",
              "      <td>95758</td>\n",
              "      <td>CA</td>\n",
              "      <td>4</td>\n",
              "      <td>2</td>\n",
              "      <td>1685</td>\n",
              "      <td>Residential</td>\n",
              "      <td>Thu May 15 00:00:00 EDT 2008</td>\n",
              "      <td>235301</td>\n",
              "      <td>38.417000</td>\n",
              "      <td>-121.397424</td>\n",
              "    </tr>\n",
              "    <tr>\n",
              "      <th>984</th>\n",
              "      <td>3882 YELLOWSTONE LN</td>\n",
              "      <td>EL DORADO HILLS</td>\n",
              "      <td>95762</td>\n",
              "      <td>CA</td>\n",
              "      <td>3</td>\n",
              "      <td>2</td>\n",
              "      <td>1362</td>\n",
              "      <td>Residential</td>\n",
              "      <td>Thu May 15 00:00:00 EDT 2008</td>\n",
              "      <td>235738</td>\n",
              "      <td>38.655245</td>\n",
              "      <td>-121.075915</td>\n",
              "    </tr>\n",
              "  </tbody>\n",
              "</table>\n",
              "<p>985 rows × 12 columns</p>\n",
              "</div>"
            ],
            "text/plain": [
              "                  street             city    zip  ...   price   latitude   longitude\n",
              "0           3526 HIGH ST       SACRAMENTO  95838  ...   59222  38.631913 -121.434879\n",
              "1            51 OMAHA CT       SACRAMENTO  95823  ...   68212  38.478902 -121.431028\n",
              "2         2796 BRANCH ST       SACRAMENTO  95815  ...   68880  38.618305 -121.443839\n",
              "3       2805 JANETTE WAY       SACRAMENTO  95815  ...   69307  38.616835 -121.439146\n",
              "4        6001 MCMAHON DR       SACRAMENTO  95824  ...   81900  38.519470 -121.435768\n",
              "..                   ...              ...    ...  ...     ...        ...         ...\n",
              "980   9169 GARLINGTON CT       SACRAMENTO  95829  ...  232425  38.457679 -121.359620\n",
              "981      6932 RUSKUT WAY       SACRAMENTO  95823  ...  234000  38.499893 -121.458890\n",
              "982    7933 DAFFODIL WAY   CITRUS HEIGHTS  95610  ...  235000  38.708824 -121.256803\n",
              "983     8304 RED FOX WAY        ELK GROVE  95758  ...  235301  38.417000 -121.397424\n",
              "984  3882 YELLOWSTONE LN  EL DORADO HILLS  95762  ...  235738  38.655245 -121.075915\n",
              "\n",
              "[985 rows x 12 columns]"
            ]
          },
          "metadata": {
            "tags": []
          },
          "execution_count": 23
        }
      ]
    },
    {
      "cell_type": "code",
      "metadata": {
        "id": "gAKu29Vg8kZg",
        "colab_type": "code",
        "outputId": "f7b14118-7cb1-440f-8d6d-424fab850316",
        "colab": {
          "base_uri": "https://localhost:8080/",
          "height": 238
        }
      },
      "source": [
        "df.isnull().sum()"
      ],
      "execution_count": 24,
      "outputs": [
        {
          "output_type": "execute_result",
          "data": {
            "text/plain": [
              "street       0\n",
              "city         0\n",
              "zip          0\n",
              "state        0\n",
              "beds         0\n",
              "baths        0\n",
              "sq__ft       0\n",
              "type         0\n",
              "sale_date    0\n",
              "price        0\n",
              "latitude     0\n",
              "longitude    0\n",
              "dtype: int64"
            ]
          },
          "metadata": {
            "tags": []
          },
          "execution_count": 24
        }
      ]
    },
    {
      "cell_type": "code",
      "metadata": {
        "id": "AO10o5GN8oJ9",
        "colab_type": "code",
        "outputId": "990921e7-0779-4ec1-a91f-b5ce4c57217a",
        "colab": {
          "base_uri": "https://localhost:8080/",
          "height": 238
        }
      },
      "source": [
        "df.isna().sum()"
      ],
      "execution_count": 25,
      "outputs": [
        {
          "output_type": "execute_result",
          "data": {
            "text/plain": [
              "street       0\n",
              "city         0\n",
              "zip          0\n",
              "state        0\n",
              "beds         0\n",
              "baths        0\n",
              "sq__ft       0\n",
              "type         0\n",
              "sale_date    0\n",
              "price        0\n",
              "latitude     0\n",
              "longitude    0\n",
              "dtype: int64"
            ]
          },
          "metadata": {
            "tags": []
          },
          "execution_count": 25
        }
      ]
    },
    {
      "cell_type": "code",
      "metadata": {
        "id": "w5Hf4m0J8rxp",
        "colab_type": "code",
        "outputId": "ef32341b-8752-46b8-c28e-c77253bbb7b6",
        "colab": {
          "base_uri": "https://localhost:8080/",
          "height": 34
        }
      },
      "source": [
        "df.isnull().values.any()"
      ],
      "execution_count": 26,
      "outputs": [
        {
          "output_type": "execute_result",
          "data": {
            "text/plain": [
              "False"
            ]
          },
          "metadata": {
            "tags": []
          },
          "execution_count": 26
        }
      ]
    },
    {
      "cell_type": "code",
      "metadata": {
        "id": "8pmciaok86ta",
        "colab_type": "code",
        "outputId": "a49eab15-9f7c-496a-acb4-6ee27da9e23d",
        "colab": {
          "base_uri": "https://localhost:8080/",
          "height": 34
        }
      },
      "source": [
        "(df['beds'] == 0).sum(), (df['baths'] == 0).sum(), (df['sq__ft'] == 0).sum(), (df['price'] == 0).sum()"
      ],
      "execution_count": 27,
      "outputs": [
        {
          "output_type": "execute_result",
          "data": {
            "text/plain": [
              "(108, 108, 171, 0)"
            ]
          },
          "metadata": {
            "tags": []
          },
          "execution_count": 27
        }
      ]
    },
    {
      "cell_type": "code",
      "metadata": {
        "id": "g12zN1ox9F-W",
        "colab_type": "code",
        "outputId": "ca19a7aa-b1ef-407b-909c-33d6e1e35ecc",
        "colab": {
          "base_uri": "https://localhost:8080/",
          "height": 71
        }
      },
      "source": [
        "z_field = ['beds', 'baths', 'sq__ft']\n",
        "df.non_zero = df.copy()\n",
        "df[z_field] = df[z_field].replace(0, np.nan)"
      ],
      "execution_count": 28,
      "outputs": [
        {
          "output_type": "stream",
          "text": [
            "/usr/local/lib/python3.6/dist-packages/ipykernel_launcher.py:2: UserWarning: Pandas doesn't allow columns to be created via a new attribute name - see https://pandas.pydata.org/pandas-docs/stable/indexing.html#attribute-access\n",
            "  \n"
          ],
          "name": "stderr"
        }
      ]
    },
    {
      "cell_type": "code",
      "metadata": {
        "id": "nOI8deg7_EEG",
        "colab_type": "code",
        "colab": {}
      },
      "source": [
        "df[z_field] = df[z_field].fillna(df.non_zero.mean())"
      ],
      "execution_count": 0,
      "outputs": []
    },
    {
      "cell_type": "code",
      "metadata": {
        "id": "cr4CwcxuBkGH",
        "colab_type": "code",
        "outputId": "5f2153b6-3268-4457-b313-9983d10b7dc8",
        "colab": {
          "base_uri": "https://localhost:8080/",
          "height": 34
        }
      },
      "source": [
        "(df['beds'] == 0).sum(), (df['baths'] == 0).sum(), (df['sq__ft'] == 0).sum(), (df['price'] == 0).sum()"
      ],
      "execution_count": 30,
      "outputs": [
        {
          "output_type": "execute_result",
          "data": {
            "text/plain": [
              "(0, 0, 0, 0)"
            ]
          },
          "metadata": {
            "tags": []
          },
          "execution_count": 30
        }
      ]
    },
    {
      "cell_type": "code",
      "metadata": {
        "id": "Xu153JJ3Ss7G",
        "colab_type": "code",
        "outputId": "2ae17f8c-fe4f-4460-bb83-e6dad897ad18",
        "colab": {
          "base_uri": "https://localhost:8080/",
          "height": 34
        }
      },
      "source": [
        "df['street'].nunique()"
      ],
      "execution_count": 31,
      "outputs": [
        {
          "output_type": "execute_result",
          "data": {
            "text/plain": [
              "981"
            ]
          },
          "metadata": {
            "tags": []
          },
          "execution_count": 31
        }
      ]
    },
    {
      "cell_type": "code",
      "metadata": {
        "id": "wGITTkBlTgIG",
        "colab_type": "code",
        "outputId": "76c3f523-fa96-4cc8-c142-2068ef450939",
        "colab": {
          "base_uri": "https://localhost:8080/",
          "height": 34
        }
      },
      "source": [
        "df['city'].nunique()"
      ],
      "execution_count": 32,
      "outputs": [
        {
          "output_type": "execute_result",
          "data": {
            "text/plain": [
              "39"
            ]
          },
          "metadata": {
            "tags": []
          },
          "execution_count": 32
        }
      ]
    },
    {
      "cell_type": "code",
      "metadata": {
        "id": "vCjUCRNkTpB_",
        "colab_type": "code",
        "colab": {}
      },
      "source": [
        "maxMin = df.groupby(['city']).agg({'price': [np.min,np.max]})"
      ],
      "execution_count": 0,
      "outputs": []
    },
    {
      "cell_type": "code",
      "metadata": {
        "id": "Ky6Wzd9rUCW4",
        "colab_type": "code",
        "outputId": "9e3c9254-e189-4903-99c3-e7b16cc20b4c",
        "colab": {
          "base_uri": "https://localhost:8080/",
          "height": 731
        }
      },
      "source": [
        "print(maxMin)"
      ],
      "execution_count": 36,
      "outputs": [
        {
          "output_type": "stream",
          "text": [
            "                  price        \n",
            "                   amin    amax\n",
            "city                           \n",
            "ANTELOPE         115000  408431\n",
            "AUBURN           260000  560000\n",
            "CAMERON PARK     119000  425000\n",
            "CARMICHAEL       139500  668365\n",
            "CITRUS HEIGHTS    30000  305000\n",
            "COOL             300000  300000\n",
            "DIAMOND SPRINGS  216033  216033\n",
            "EL DORADO        205000  289000\n",
            "EL DORADO HILLS  235738  879000\n",
            "ELK GROVE         71000  510000\n",
            "ELVERTA          126000  140000\n",
            "FAIR OAKS        142500  680000\n",
            "FOLSOM           200000  636000\n",
            "FORESTHILL       194818  194818\n",
            "GALT             106716  420000\n",
            "GARDEN VALLEY    490000  490000\n",
            "GOLD RIVER       299000  528000\n",
            "GRANITE BAY      600000  760000\n",
            "GREENWOOD        395000  395000\n",
            "LINCOLN            1551  512000\n",
            "LOOMIS           295000  839000\n",
            "MATHER           237800  237800\n",
            "MEADOW VISTA     230000  230000\n",
            "NORTH HIGHLANDS   63000  224252\n",
            "ORANGEVALE       183200  475000\n",
            "PENRYN           506688  506688\n",
            "PLACERVILLE      205000  677048\n",
            "POLLOCK PINES    175000  280908\n",
            "RANCHO CORDOVA    94905  430000\n",
            "RANCHO MURIETA    97750  425000\n",
            "RIO LINDA         30000  300000\n",
            "ROCKLIN          230095  600000\n",
            "ROSEVILLE        115000  614000\n",
            "SACRAMENTO        40000  699000\n",
            "SHINGLE SPRINGS  275000  275000\n",
            "SLOUGHHOUSE        2000    2000\n",
            "WALNUT GROVE     380000  380000\n",
            "WEST SACRAMENTO  147000  200100\n",
            "WILTON           372000  884790\n"
          ],
          "name": "stdout"
        }
      ]
    },
    {
      "cell_type": "code",
      "metadata": {
        "id": "i1KBfk6tUQfW",
        "colab_type": "code",
        "colab": {}
      },
      "source": [
        "import seaborn as sns"
      ],
      "execution_count": 0,
      "outputs": []
    },
    {
      "cell_type": "code",
      "metadata": {
        "id": "ymxkiAbTVGIO",
        "colab_type": "code",
        "outputId": "f1c28ae7-7d0a-42da-c159-61ad1c329777",
        "colab": {
          "base_uri": "https://localhost:8080/",
          "height": 1000
        }
      },
      "source": [
        "sns.lmplot(x='sq__ft', y='price', data=df)\n",
        "plt.show()\n",
        "sns.lmplot(x='beds', y='price', data=df)\n",
        "plt.show()\n",
        "sns.lmplot(x='baths', y='price', data=df)\n",
        "plt.show()"
      ],
      "execution_count": 38,
      "outputs": [
        {
          "output_type": "display_data",
          "data": {
            "image/png": "[encoded data removed]",
            "text/plain": [
              "<Figure size 360x360 with 1 Axes>"
            ]
          },
          "metadata": {
            "tags": []
          }
        },
        {
          "output_type": "display_data",
          "data": {
            "image/png": "[encoded data removed]",
            "text/plain": [
              "<Figure size 360x360 with 1 Axes>"
            ]
          },
          "metadata": {
            "tags": []
          }
        },
        {
          "output_type": "display_data",
          "data": {
            "image/png": "[encoded data removed]",
            "text/plain": [
              "<Figure size 360x360 with 1 Axes>"
            ]
          },
          "metadata": {
            "tags": []
          }
        }
      ]
    },
    {
      "cell_type": "code",
      "metadata": {
        "id": "o0K5PriZVY72",
        "colab_type": "code",
        "outputId": "e63f7a95-2eac-4e84-9c85-9252a9c972e1",
        "colab": {
          "base_uri": "https://localhost:8080/",
          "height": 266
        }
      },
      "source": [
        "df.corr(method ='kendall')"
      ],
      "execution_count": 39,
      "outputs": [
        {
          "output_type": "execute_result",
          "data": {
            "text/html": [
              "<div>\n",
              "<style scoped>\n",
              "    .dataframe tbody tr th:only-of-type {\n",
              "        vertical-align: middle;\n",
              "    }\n",
              "\n",
              "    .dataframe tbody tr th {\n",
              "        vertical-align: top;\n",
              "    }\n",
              "\n",
              "    .dataframe thead th {\n",
              "        text-align: right;\n",
              "    }\n",
              "</style>\n",
              "<table border=\"1\" class=\"dataframe\">\n",
              "  <thead>\n",
              "    <tr style=\"text-align: right;\">\n",
              "      <th></th>\n",
              "      <th>zip</th>\n",
              "      <th>beds</th>\n",
              "      <th>baths</th>\n",
              "      <th>sq__ft</th>\n",
              "      <th>price</th>\n",
              "      <th>latitude</th>\n",
              "      <th>longitude</th>\n",
              "    </tr>\n",
              "  </thead>\n",
              "  <tbody>\n",
              "    <tr>\n",
              "      <th>zip</th>\n",
              "      <td>1.000000</td>\n",
              "      <td>0.018953</td>\n",
              "      <td>-0.005025</td>\n",
              "      <td>-0.016095</td>\n",
              "      <td>-0.067694</td>\n",
              "      <td>-0.080830</td>\n",
              "      <td>-0.364485</td>\n",
              "    </tr>\n",
              "    <tr>\n",
              "      <th>beds</th>\n",
              "      <td>0.018953</td>\n",
              "      <td>1.000000</td>\n",
              "      <td>0.615725</td>\n",
              "      <td>0.528635</td>\n",
              "      <td>0.322866</td>\n",
              "      <td>-0.115128</td>\n",
              "      <td>0.018372</td>\n",
              "    </tr>\n",
              "    <tr>\n",
              "      <th>baths</th>\n",
              "      <td>-0.005025</td>\n",
              "      <td>0.615725</td>\n",
              "      <td>1.000000</td>\n",
              "      <td>0.535217</td>\n",
              "      <td>0.366823</td>\n",
              "      <td>-0.073400</td>\n",
              "      <td>0.068689</td>\n",
              "    </tr>\n",
              "    <tr>\n",
              "      <th>sq__ft</th>\n",
              "      <td>-0.016095</td>\n",
              "      <td>0.528635</td>\n",
              "      <td>0.535217</td>\n",
              "      <td>1.000000</td>\n",
              "      <td>0.415124</td>\n",
              "      <td>-0.083057</td>\n",
              "      <td>0.051609</td>\n",
              "    </tr>\n",
              "    <tr>\n",
              "      <th>price</th>\n",
              "      <td>-0.067694</td>\n",
              "      <td>0.322866</td>\n",
              "      <td>0.366823</td>\n",
              "      <td>0.415124</td>\n",
              "      <td>1.000000</td>\n",
              "      <td>-0.018218</td>\n",
              "      <td>0.129167</td>\n",
              "    </tr>\n",
              "    <tr>\n",
              "      <th>latitude</th>\n",
              "      <td>-0.080830</td>\n",
              "      <td>-0.115128</td>\n",
              "      <td>-0.073400</td>\n",
              "      <td>-0.083057</td>\n",
              "      <td>-0.018218</td>\n",
              "      <td>1.000000</td>\n",
              "      <td>0.281511</td>\n",
              "    </tr>\n",
              "    <tr>\n",
              "      <th>longitude</th>\n",
              "      <td>-0.364485</td>\n",
              "      <td>0.018372</td>\n",
              "      <td>0.068689</td>\n",
              "      <td>0.051609</td>\n",
              "      <td>0.129167</td>\n",
              "      <td>0.281511</td>\n",
              "      <td>1.000000</td>\n",
              "    </tr>\n",
              "  </tbody>\n",
              "</table>\n",
              "</div>"
            ],
            "text/plain": [
              "                zip      beds     baths  ...     price  latitude  longitude\n",
              "zip        1.000000  0.018953 -0.005025  ... -0.067694 -0.080830  -0.364485\n",
              "beds       0.018953  1.000000  0.615725  ...  0.322866 -0.115128   0.018372\n",
              "baths     -0.005025  0.615725  1.000000  ...  0.366823 -0.073400   0.068689\n",
              "sq__ft    -0.016095  0.528635  0.535217  ...  0.415124 -0.083057   0.051609\n",
              "price     -0.067694  0.322866  0.366823  ...  1.000000 -0.018218   0.129167\n",
              "latitude  -0.080830 -0.115128 -0.073400  ... -0.018218  1.000000   0.281511\n",
              "longitude -0.364485  0.018372  0.068689  ...  0.129167  0.281511   1.000000\n",
              "\n",
              "[7 rows x 7 columns]"
            ]
          },
          "metadata": {
            "tags": []
          },
          "execution_count": 39
        }
      ]
    },
    {
      "cell_type": "code",
      "metadata": {
        "id": "B1-NPEkHWEWd",
        "colab_type": "code",
        "outputId": "c7f7ebe9-2c8b-4745-b37f-d4995dfd707f",
        "colab": {
          "base_uri": "https://localhost:8080/",
          "height": 408
        }
      },
      "source": [
        "df.corr().unstack().sort_values(ascending = False).drop_duplicates()"
      ],
      "execution_count": 40,
      "outputs": [
        {
          "output_type": "execute_result",
          "data": {
            "text/plain": [
              "longitude  longitude    1.000000\n",
              "sq__ft     baths        0.666713\n",
              "beds       baths        0.664115\n",
              "sq__ft     beds         0.650869\n",
              "price      sq__ft       0.525367\n",
              "baths      price        0.475334\n",
              "price      beds         0.412636\n",
              "latitude   longitude    0.387925\n",
              "price      longitude    0.284485\n",
              "baths      longitude    0.132186\n",
              "beds       longitude    0.054626\n",
              "longitude  sq__ft       0.044055\n",
              "beds       zip         -0.038355\n",
              "baths      latitude    -0.039411\n",
              "price      latitude    -0.039573\n",
              "zip        sq__ft      -0.043852\n",
              "baths      zip         -0.088795\n",
              "beds       latitude    -0.093180\n",
              "price      zip         -0.093353\n",
              "sq__ft     latitude    -0.159076\n",
              "latitude   zip         -0.290389\n",
              "zip        longitude   -0.539904\n",
              "dtype: float64"
            ]
          },
          "metadata": {
            "tags": []
          },
          "execution_count": 40
        }
      ]
    },
    {
      "cell_type": "code",
      "metadata": {
        "id": "l7x-9q-SW6sP",
        "colab_type": "code",
        "outputId": "33c6fdd9-b0cb-463b-c82c-947922f801fb",
        "colab": {
          "base_uri": "https://localhost:8080/",
          "height": 51
        }
      },
      "source": [
        "covariance = np.cov(df['sq__ft'], df['price'])\n",
        "print(covariance)"
      ],
      "execution_count": 41,
      "outputs": [
        {
          "output_type": "stream",
          "text": [
            "[[3.75061406e+05 4.45187121e+07]\n",
            " [4.45187121e+07 1.91451054e+10]]\n"
          ],
          "name": "stdout"
        }
      ]
    },
    {
      "cell_type": "code",
      "metadata": {
        "id": "UKK5G7ccYAlb",
        "colab_type": "code",
        "colab": {}
      },
      "source": [
        "X = df['sq__ft'].values.reshape(-1,1)\n",
        "Y = df['price']"
      ],
      "execution_count": 0,
      "outputs": []
    },
    {
      "cell_type": "code",
      "metadata": {
        "id": "L_POgPjlYWIP",
        "colab_type": "code",
        "colab": {}
      },
      "source": [
        "from sklearn.model_selection import train_test_split\n",
        "x_train, x_test, y_train, y_test = train_test_split(X, Y, test_size = 1/3, random_state = 0)"
      ],
      "execution_count": 0,
      "outputs": []
    },
    {
      "cell_type": "code",
      "metadata": {
        "id": "Aq98rKwgY0dS",
        "colab_type": "code",
        "outputId": "2026abff-7aa2-4c91-ceab-67d7bb962896",
        "colab": {
          "base_uri": "https://localhost:8080/",
          "height": 34
        }
      },
      "source": [
        "from sklearn.linear_model import LinearRegression\n",
        "regressor = LinearRegression()\n",
        "regressor.fit(x_train, y_train)"
      ],
      "execution_count": 44,
      "outputs": [
        {
          "output_type": "execute_result",
          "data": {
            "text/plain": [
              "LinearRegression(copy_X=True, fit_intercept=True, n_jobs=None, normalize=False)"
            ]
          },
          "metadata": {
            "tags": []
          },
          "execution_count": 44
        }
      ]
    },
    {
      "cell_type": "code",
      "metadata": {
        "id": "SQCh0UeIe2I3",
        "colab_type": "code",
        "outputId": "83ef3579-6ce2-4238-f828-3a4b174c5a6c",
        "colab": {
          "base_uri": "https://localhost:8080/",
          "height": 295
        }
      },
      "source": [
        "train = plt\n",
        "train.scatter(x_train, y_train, color = 'red')\n",
        "train.plot(x_train, regressor.predict(x_train), color = 'blue')\n",
        "train.title('Price vs Area (Training Set)')\n",
        "train.xlabel('Area in sq. ft.')\n",
        "train.ylabel('Price')\n",
        "train.show()"
      ],
      "execution_count": 45,
      "outputs": [
        {
          "output_type": "display_data",
          "data": {
            "image/png": "[encoded data removed]",
            "text/plain": [
              "<Figure size 432x288 with 1 Axes>"
            ]
          },
          "metadata": {
            "tags": []
          }
        }
      ]
    },
    {
      "cell_type": "code",
      "metadata": {
        "id": "Xl0X_8SNoi_3",
        "colab_type": "code",
        "outputId": "be4d8aa1-96a1-43d4-9aa1-6adaeb933e6a",
        "colab": {
          "base_uri": "https://localhost:8080/",
          "height": 295
        }
      },
      "source": [
        "test = plt\n",
        "test.scatter(x_test, y_test, color = 'red')\n",
        "test.plot(x_test, regressor.predict(x_test), color = 'green')\n",
        "test.title('Price vs Area (Testing Set)')\n",
        "test.xlabel('Area in sq. ft.')\n",
        "test.ylabel('Price')\n",
        "test.show()"
      ],
      "execution_count": 46,
      "outputs": [
        {
          "output_type": "display_data",
          "data": {
            "image/png": "[encoded data removed]",
            "text/plain": [
              "<Figure size 432x288 with 1 Axes>"
            ]
          },
          "metadata": {
            "tags": []
          }
        }
      ]
    },
    {
      "cell_type": "code",
      "metadata": {
        "id": "4pVoCQ7ViMOn",
        "colab_type": "code",
        "outputId": "1e569637-8daa-4fac-d10f-97d5d61b7fcc",
        "colab": {
          "base_uri": "https://localhost:8080/",
          "height": 1000
        }
      },
      "source": [
        "y_pred = regressor.predict(x_test)\n",
        "print('Actual values' + '\\tPredicted Values' +'\\tError')\n",
        "err = y_test - y_pred\n",
        "for i in zip(y_test, y_pred, err):\n",
        "  print(i)"
      ],
      "execution_count": 47,
      "outputs": [
        {
          "output_type": "stream",
          "text": [
            "Actual values\tPredicted Values\tError\n",
            "(211500, 166719.38113072014, 44780.61886927986)\n",
            "(395100, 436144.0921005355, -41044.09210053552)\n",
            "(129000, 186467.18463515153, -57467.18463515153)\n",
            "(124000, 187391.05848331208, -63391.05848331208)\n",
            "(176850, 227810.53934033538, -50960.53934033538)\n",
            "(480000, 209092.47999940577, 270907.5200005942)\n",
            "(220000, 166950.34959276026, 53049.65040723974)\n",
            "(610000, 470558.3929445154, 139441.6070554846)\n",
            "(362305, 265111.9459598169, 97193.05404018308)\n",
            "(325000, 328281.8203277933, -3281.820327793306)\n",
            "(130000, 196860.7654269575, -66860.76542695751)\n",
            "(215000, 216146.63200730865, -1146.6320073086536)\n",
            "(339000, 241437.67860070322, 97562.32139929678)\n",
            "(270000, 291673.31909443217, -21673.31909443217)\n",
            "(300567, 239358.96244234202, 61208.03755765798)\n",
            "(108750, 175265.21422620508, -66515.21422620508)\n",
            "(145846, 235432.49858765976, -89586.49858765976)\n",
            "(4897, 209092.47999940577, -204195.47999940577)\n",
            "(460000, 518253.3803558029, -58253.38035580289)\n",
            "(339000, 185196.85809393082, 153803.14190606918)\n",
            "(271742, 169837.45536826193, 101904.54463173807)\n",
            "(137721, 275505.5267516229, -137784.5267516229)\n",
            "(164000, 186582.6688661716, -22582.66886617159)\n",
            "(257200, 358076.7519309705, -100876.75193097052)\n",
            "(134555, 190278.16425881372, -55723.16425881372)\n",
            "(220000, 186005.24771107128, 33994.75228892872)\n",
            "(115000, 184272.98424577026, -69272.98424577026)\n",
            "(261800, 209092.47999940577, 52707.52000059423)\n",
            "(306000, 209092.47999940577, 96907.52000059423)\n",
            "(225000, 223653.10702361297, 1346.8929763870256)\n",
            "(218000, 304607.5529686797, -86607.5529686797)\n",
            "(371086, 209092.47999940577, 161993.52000059423)\n",
            "(276500, 247789.3113068069, 28710.688693193108)\n",
            "(334000, 312691.4491400843, 21308.550859915675)\n",
            "(210000, 209092.47999940577, 907.5200005942315)\n",
            "(221000, 212104.6839216063, 8895.316078393691)\n",
            "(178760, 219611.15893791063, -40851.15893791063)\n",
            "(97500, 168567.1288270412, -71067.12882704119)\n",
            "(116100, 192818.8173412552, -76718.8173412552)\n",
            "(471750, 505434.63071257545, -33684.630712575454)\n",
            "(361745, 276660.3690618236, 85084.63093817641)\n",
            "(185000, 168105.19190296094, 16894.80809703906)\n",
            "(181000, 241206.7101386631, -60206.7101386631)\n",
            "(282400, 474369.3725681776, -191969.37256817758)\n",
            "(330000, 209092.47999940577, 120907.52000059423)\n",
            "(115620, 220073.0958619909, -104453.0958619909)\n",
            "(120000, 287631.3710087299, -167631.3710087299)\n",
            "(156000, 186929.12155923177, -30929.121559231775)\n",
            "(236250, 206330.47237060298, 29919.527629397024)\n",
            "(85500, 183349.11039760974, -97849.11039760974)\n",
            "(4897, 209092.47999940577, -204195.47999940577)\n",
            "(247480, 193742.69118941572, 53737.308810584276)\n",
            "(127059, 183464.5946286298, -56405.5946286298)\n",
            "(4897, 209092.47999940577, -204195.47999940577)\n",
            "(61500, 169260.03421316162, -107760.03421316162)\n",
            "(180000, 224807.94933381365, -44807.94933381365)\n",
            "(65000, 181963.29962536893, -116963.29962536893)\n",
            "(380000, 256681.59709535202, 123318.40290464798)\n",
            "(250000, 209092.47999940577, 40907.52000059423)\n",
            "(258000, 379441.33466968284, -121441.33466968284)\n",
            "(680000, 385908.45160680654, 294091.54839319346)\n",
            "(234000, 227810.53934033538, 6189.460659664619)\n",
            "(225000, 226424.72856809458, -1424.7285680945788)\n",
            "(4897, 209092.47999940577, -204195.47999940577)\n",
            "(75000, 156672.25303197434, -81672.25303197434)\n",
            "(205878, 222382.78048239223, -16504.780482392234)\n",
            "(236000, 332323.7684134956, -96323.76841349562)\n",
            "(668365, 444920.8936580606, 223444.10634193942)\n",
            "(92000, 167643.25497888066, -75643.25497888066)\n",
            "(114800, 191317.52233799433, -76517.52233799433)\n",
            "(151087, 197784.63927511807, -46697.63927511807)\n",
            "(150000, 226540.21279911464, -76540.21279911464)\n",
            "(311328, 313384.35452620476, -2056.3545262047555)\n",
            "(511000, 209092.47999940577, 301907.5200005942)\n",
            "(150000, 217994.3797036297, -67994.3797036297)\n",
            "(230522, 144546.40877486736, 85975.59122513264)\n",
            "(164000, 203327.88236408125, -39327.88236408125)\n",
            "(68000, 153554.17879443255, -85554.17879443255)\n",
            "(297500, 209092.47999940577, 88407.52000059423)\n",
            "(122000, 203789.81928816153, -81789.81928816153)\n",
            "(275336, 226771.18126115476, 48564.818738845235)\n",
            "(188335, 210603.38891834544, -22268.388918345445)\n",
            "(200345, 189354.2904106532, 10990.709589346807)\n",
            "(300000, 209092.47999940577, 90907.52000059423)\n",
            "(193500, 231967.97165705776, -38467.97165705776)\n",
            "(255000, 232776.36127419822, 22223.63872580178)\n",
            "(192067, 205060.14582938224, -12993.145829382236)\n",
            "(229500, 210718.8731493655, 18781.126850634493)\n",
            "(286013, 224692.46510279356, 61320.53489720644)\n",
            "(165000, 236125.40397378016, -71125.40397378016)\n",
            "(220000, 221112.4539411715, -1112.453941171494)\n",
            "(200000, 189354.2904106532, 10645.709589346807)\n",
            "(167293, 200440.77658857958, -33147.77658857958)\n",
            "(207744, 282781.0333058871, -75037.03330588707)\n",
            "(395000, 385908.45160680654, 9091.548393193458)\n",
            "(116000, 186005.24771107128, -70005.24771107128)\n",
            "(207000, 261185.4821051346, -54185.48210513461)\n",
            "(275000, 294675.90910095396, -19675.909100953955)\n",
            "(170000, 191086.55387595418, -21086.55387595418)\n",
            "(288000, 257605.47094351254, 30394.52905648746)\n",
            "(277980, 351725.11922486685, -73745.11922486685)\n",
            "(182716, 197553.67081307792, -14837.670813077915)\n",
            "(412500, 209092.47999940577, 203407.52000059423)\n",
            "(4897, 209092.47999940577, -204195.47999940577)\n",
            "(280000, 345258.0022877431, -65258.00228774309)\n",
            "(148750, 174918.76153314486, -26168.76153314486)\n",
            "(4897, 209092.47999940577, -204195.47999940577)\n",
            "(328360, 278277.1482961045, 50082.85170389549)\n",
            "(109000, 180115.55192904786, -71115.55192904786)\n",
            "(146000, 193858.1754204358, -47858.175420435786)\n",
            "(247000, 250791.90131332862, -3791.9013133286207)\n",
            "(613401, 500468.80877871264, 112932.19122128736)\n",
            "(394470, 454506.0848327261, -60036.084832726105)\n",
            "(111000, 177228.44615354622, -66228.44615354622)\n",
            "(4897, 209092.47999940577, -204195.47999940577)\n",
            "(228000, 242592.5209109039, -14592.520910903899)\n",
            "(156000, 184734.9211698505, -28734.92116985051)\n",
            "(190000, 182194.26808740906, 7805.731912590942)\n",
            "(174250, 196283.34427185718, -22033.344271857175)\n",
            "(266000, 255064.8178610711, 10935.18213892891)\n",
            "(94905, 165910.99151357968, -71005.99151357968)\n",
            "(368500, 209092.47999940577, 159407.52000059423)\n",
            "(170000, 209092.47999940577, -39092.47999940577)\n",
            "(265000, 250329.96438924837, 14670.035610751627)\n",
            "(115000, 153785.14725647267, -38785.14725647267)\n",
            "(4897, 209092.47999940577, -204195.47999940577)\n",
            "(131750, 186351.70040413146, -54601.700404131465)\n",
            "(4897, 209092.47999940577, -204195.47999940577)\n",
            "(204750, 243054.45783498418, -38304.457834984176)\n",
            "(225000, 225385.37048891396, -385.3704889139626)\n",
            "(245000, 203789.81928816153, 41210.180711838475)\n",
            "(159900, 343063.8018983618, -183163.80189836182)\n",
            "(274500, 209092.47999940577, 65407.52000059423)\n",
            "(178480, 194089.1438824759, -15609.14388247591)\n",
            "(141000, 177228.44615354622, -36228.44615354622)\n",
            "(127000, 147318.03031934897, -20318.030319348967)\n",
            "(133000, 177228.44615354622, -44228.44615354622)\n",
            "(360000, 209092.47999940577, 150907.52000059423)\n",
            "(250000, 209092.47999940577, 40907.52000059423)\n",
            "(120000, 150089.65186383054, -30089.651863830542)\n",
            "(250000, 246172.53207252597, 3827.467927474034)\n",
            "(201528, 214067.91584894745, -12539.91584894745)\n",
            "(170725, 246403.5005345661, -75678.50053456609)\n",
            "(315000, 288670.7290879105, 26329.2709120895)\n",
            "(4897, 209092.47999940577, -204195.47999940577)\n",
            "(460000, 209092.47999940577, 250907.52000059423)\n",
            "(142000, 196514.31273389733, -54514.31273389733)\n",
            "(200000, 220766.0012481113, -20766.001248111308)\n",
            "(450000, 294329.45640789374, 155670.54359210626)\n",
            "(102750, 186582.6688661716, -83832.66886617159)\n",
            "(438700, 209092.47999940577, 229607.52000059423)\n",
            "(475000, 209092.47999940577, 265907.5200005942)\n",
            "(180400, 255411.27055413128, -75011.27055413128)\n",
            "(378000, 193396.23849635554, 184603.76150364446)\n",
            "(303000, 356575.45692770963, -53575.45692770963)\n",
            "(425000, 453697.69521558564, -28697.69521558564)\n",
            "(423000, 209092.47999940577, 213907.52000059423)\n",
            "(129500, 183002.65770454955, -53502.65770454955)\n",
            "(4897, 209092.47999940577, -204195.47999940577)\n",
            "(261000, 238204.12013214137, 22795.87986785863)\n",
            "(228750, 302759.8052723586, -74009.80527235859)\n",
            "(170000, 232776.36127419822, -62776.36127419822)\n",
            "(415000, 294213.9721768737, 120786.0278231263)\n",
            "(267750, 209092.47999940577, 58657.52000059423)\n",
            "(238000, 251022.86977536874, -13022.869775368745)\n",
            "(433500, 209092.47999940577, 224407.52000059423)\n",
            "(356000, 269500.34673857945, 86499.65326142055)\n",
            "(265000, 261416.45056717476, 3583.549432825239)\n",
            "(170000, 199516.90274041906, -29516.902740419056)\n",
            "(212500, 209092.47999940577, 3407.5200005942315)\n",
            "(614000, 209092.47999940577, 404907.5200005942)\n",
            "(294173, 255988.6917092316, 38184.308290768386)\n",
            "(160000, 215800.17931424844, -55800.17931424844)\n",
            "(140000, 220766.0012481113, -80766.00124811131)\n",
            "(223000, 245133.17399334535, -22133.17399334535)\n",
            "(89921, 186813.63732821174, -96892.63732821174)\n",
            "(331200, 344103.1599775424, -12903.159977542411)\n",
            "(178000, 195705.92311675687, -17705.923116756865)\n",
            "(255000, 231159.5820399173, 23840.417960082705)\n",
            "(185074, 223075.68586851264, -38001.685868512635)\n",
            "(145000, 187968.4796384124, -42968.47963841239)\n",
            "(489332, 454506.0848327261, 34825.915167273895)\n",
            "(350000, 209092.47999940577, 140907.52000059423)\n",
            "(295000, 402769.1493357363, -107769.14933573629)\n",
            "(305000, 271001.6417418403, 33998.358258159715)\n",
            "(192700, 210718.8731493655, -18018.873149365507)\n",
            "(122000, 181963.29962536893, -59963.299625368934)\n",
            "(436746, 209092.47999940577, 227653.52000059423)\n",
            "(180000, 173532.95076090406, 6467.049239095941)\n",
            "(105000, 178614.25692578702, -73614.25692578702)\n",
            "(4897, 209092.47999940577, -204195.47999940577)\n",
            "(110000, 199170.45004735884, -89170.45004735884)\n",
            "(297000, 312806.9333711044, -15806.933371104416)\n",
            "(224000, 177343.93038456625, 46656.06961543375)\n",
            "(148750, 227233.11818523504, -78483.11818523504)\n",
            "(158000, 214067.91584894745, -56067.91584894745)\n",
            "(107666, 136000.57567938243, -28334.575679382426)\n",
            "(128687, 168336.16036500107, -39649.160365001066)\n",
            "(69000, 149050.29378464996, -80050.29378464996)\n",
            "(600000, 209092.47999940577, 390907.5200005942)\n",
            "(152000, 207831.76737386384, -55831.76737386384)\n",
            "(315000, 214298.88431098757, 100701.11568901243)\n",
            "(294000, 209092.47999940577, 84907.52000059423)\n",
            "(225000, 209092.47999940577, 15907.520000594232)\n",
            "(245000, 344911.54959468293, -99911.54959468293)\n",
            "(145000, 186582.6688661716, -41582.66886617159)\n",
            "(289000, 299295.2783417566, -10295.27834175661)\n",
            "(55422, 154016.1157185128, -98594.1157185128)\n",
            "(120000, 125145.05796349616, -5145.057963496161)\n",
            "(284686, 279201.022144265, 5484.977855734993)\n",
            "(346375, 358192.23616199056, -11817.236161990557)\n",
            "(400000, 209092.47999940577, 190907.52000059423)\n",
            "(241000, 270193.2521246998, -29193.252124699822)\n",
            "(242000, 209092.47999940577, 32907.52000059423)\n",
            "(183200, 242361.55244886377, -59161.552448863775)\n",
            "(227887, 243862.84745212464, -15975.847452124639)\n",
            "(179000, 252986.1017027099, -73986.10170270989)\n",
            "(145000, 140619.94492018508, 4380.05507981492)\n",
            "(125000, 159790.32726951613, -34790.32726951613)\n",
            "(406026, 371819.3754223584, 34206.6245776416)\n",
            "(195000, 239474.4466733621, -44474.44667336211)\n",
            "(150000, 208524.67275998424, -58524.67275998424)\n",
            "(167293, 205060.14582938224, -37767.145829382236)\n",
            "(229027, 214067.91584894745, 14959.08415105255)\n",
            "(210944, 170876.81344744255, 40067.186552557454)\n",
            "(425000, 209092.47999940577, 215907.52000059423)\n",
            "(68880, 149165.77801567002, -80285.77801567002)\n",
            "(240000, 266959.6936561379, -26959.69365613791)\n",
            "(197654, 231044.09780889723, -33390.09780889723)\n",
            "(220000, 238088.6359011213, -18088.635901121306)\n",
            "(441000, 379094.8819766226, 61905.11802337738)\n",
            "(237800, 298948.8256486964, -61148.825648696395)\n",
            "(452000, 547586.3750348998, -95586.3750348998)\n",
            "(212864, 240860.2574456029, -27996.25744560291)\n",
            "(298000, 286130.076005469, 11869.923994530982)\n",
            "(188700, 222151.8120203521, -33451.81202035211)\n",
            "(233641, 179422.64654292748, 54218.35345707252)\n",
            "(285000, 237280.24628398084, 47719.75371601916)\n",
            "(236073, 222036.32778933205, 14036.672210667952)\n",
            "(300500, 277815.2113720242, 22684.788627975795)\n",
            "(68212, 192010.42772411474, -123798.42772411474)\n",
            "(190000, 149165.77801567002, 40834.22198432998)\n",
            "(180000, 220073.0958619909, -40073.09586199091)\n",
            "(4897, 209092.47999940577, -204195.47999940577)\n",
            "(174000, 211989.19969058625, -37989.19969058625)\n",
            "(220000, 176420.05653640575, 43579.943463594245)\n",
            "(250000, 225385.37048891396, 24614.629511086037)\n",
            "(228327, 197207.21812001773, 31119.78187998227)\n",
            "(391000, 245133.17399334535, 145866.82600665465)\n",
            "(70000, 173994.88768498434, -103994.88768498434)\n",
            "(284893, 212335.65238364643, 72557.34761635357)\n",
            "(150000, 232314.42435011797, -82314.42435011797)\n",
            "(399000, 290056.53986015124, 108943.46013984876)\n",
            "(520000, 209092.47999940577, 310907.5200005942)\n",
            "(30000, 209092.47999940577, -179092.47999940577)\n",
            "(307000, 209092.47999940577, 97907.52000059423)\n",
            "(158000, 213259.526231807, -55259.52623180699)\n",
            "(224252, 168105.19190296094, 56146.80809703906)\n",
            "(91000, 163254.85420011813, -72254.85420011813)\n",
            "(170000, 194435.59657553612, -24435.596575536125)\n",
            "(78400, 143391.56646466668, -64991.566464666685)\n",
            "(208000, 281279.7383026262, -73279.73830262618)\n",
            "(270000, 234046.68781541896, 35953.31218458104)\n",
            "(95000, 182194.26808740906, -87194.26808740906)\n",
            "(575000, 430138.91208749206, 144861.08791250794)\n",
            "(61000, 158404.51649727533, -97404.51649727533)\n",
            "(99000, 246980.92168966643, -147980.92168966643)\n",
            "(156142, 222151.8120203521, -66009.81202035211)\n",
            "(276000, 345258.0022877431, -69258.00228774309)\n",
            "(221000, 258067.40786759282, -37067.40786759282)\n",
            "(350000, 308072.07989928167, 41927.92010071833)\n",
            "(266510, 235086.04589459958, 31423.954105400422)\n",
            "(150000, 145008.3456989476, 4991.654301052389)\n",
            "(113000, 174341.34037804452, -61341.34037804452)\n",
            "(660000, 325741.1672453518, 334258.8327546482)\n",
            "(200000, 218109.86393464977, -18109.863934649766)\n",
            "(169000, 191086.55387595418, -22086.55387595418)\n",
            "(242000, 219611.15893791063, 22388.84106208937)\n",
            "(200000, 192934.30157227526, 7065.698427724739)\n",
            "(92000, 163947.75958623854, -71947.75958623854)\n",
            "(528000, 407965.9397316393, 120034.06026836071)\n",
            "(326951, 209092.47999940577, 117858.52000059423)\n",
            "(30000, 191894.94349309464, -161894.94349309464)\n",
            "(100309, 162215.49612093755, -61906.49612093755)\n",
            "(275086, 224230.5281787133, 50855.47182128669)\n",
            "(195000, 306917.237589081, -111917.23758908099)\n",
            "(240000, 412469.82474142185, -172469.82474142185)\n",
            "(545000, 212913.07353874677, 332086.9264612532)\n",
            "(180000, 246403.5005345661, -66403.50053456609)\n",
            "(256054, 298024.9518005359, -41970.9518005359)\n",
            "(760000, 481067.4579673414, 278932.5420326586)\n",
            "(140800, 207369.8304497836, -66569.83044978359)\n",
            "(195500, 250907.38554434868, -55407.38554434868)\n",
            "(170000, 271925.5155900008, -101925.51559000078)\n",
            "(190000, 275159.0740585627, -85159.07405856269)\n",
            "(313138, 218225.34816566986, 94912.65183433014)\n",
            "(122000, 186351.70040413146, -64351.700404131465)\n",
            "(123675, 194435.59657553612, -70760.59657553612)\n",
            "(400000, 253217.07016475, 146782.92983525)\n",
            "(164000, 191433.0065690144, -27433.006569014397)\n",
            "(306500, 209092.47999940577, 97407.52000059423)\n",
            "(200000, 267421.6305802182, -67421.63058021822)\n",
            "(168000, 227810.53934033538, -59810.53934033538)\n",
            "(172000, 239936.38359744236, -67936.38359744236)\n",
            "(198000, 181154.91000822847, 16845.08999177153)\n",
            "(423000, 281164.25407160615, 141835.74592839385)\n",
            "(299000, 232776.36127419822, 66223.63872580178)\n",
            "(336000, 312229.5122160041, 23770.487783995923)\n",
            "(221000, 241553.16283172328, -20553.162831723283)\n",
            "(166357, 248482.2166929273, -82125.2166929273)\n",
            "(328578, 248828.66938598748, 79749.33061401252)\n",
            "(264469, 201942.07159184045, 62526.928408159554)\n",
            "(315000, 209092.47999940577, 105907.52000059423)\n",
            "(194818, 209092.47999940577, -14274.479999405768)\n",
            "(254172, 268576.4728904189, -14404.472890418896)\n",
            "(189000, 221227.93817219159, -32227.938172191585)\n",
            "(310000, 230697.64511583705, 79302.35488416295)\n",
            "(174250, 226193.76010605443, -51943.760106054426)\n",
            "(258000, 256335.14440229183, 1664.8555977081705)\n",
            "(335750, 371934.8596533785, -36184.85965337849)\n",
            "(247000, 209092.47999940577, 37907.52000059423)\n",
            "(160000, 229080.8658815561, -69080.86588155609)\n",
            "(4897, 209092.47999940577, -204195.47999940577)\n",
            "(189000, 233815.71935337884, -44815.71935337884)\n",
            "(4897, 209092.47999940577, -204195.47999940577)\n",
            "(311000, 323893.4195490308, -12893.419549030776)\n",
            "(106852, 157827.09534217502, -50975.09534217502)\n",
            "(830000, 209092.47999940577, 620907.5200005942)\n",
            "(344250, 309573.37490254256, 34676.625097457436)\n"
          ],
          "name": "stdout"
        }
      ]
    },
    {
      "cell_type": "code",
      "metadata": {
        "id": "fcSkE1qWnirb",
        "colab_type": "code",
        "outputId": "17521997-87b6-4f11-d294-725e58eb8c14",
        "colab": {
          "base_uri": "https://localhost:8080/",
          "height": 34
        }
      },
      "source": [
        "regressor.score(x_test,y_test)"
      ],
      "execution_count": 48,
      "outputs": [
        {
          "output_type": "execute_result",
          "data": {
            "text/plain": [
              "0.32739641886802984"
            ]
          },
          "metadata": {
            "tags": []
          },
          "execution_count": 48
        }
      ]
    },
    {
      "cell_type": "code",
      "metadata": {
        "id": "Mcauqu7foypr",
        "colab_type": "code",
        "colab": {}
      },
      "source": [
        "xM = df[['sq__ft', 'beds', 'baths']]\n",
        "yM = df['price']"
      ],
      "execution_count": 0,
      "outputs": []
    },
    {
      "cell_type": "code",
      "metadata": {
        "id": "0gNSLgGfo_MM",
        "colab_type": "code",
        "colab": {}
      },
      "source": [
        "from sklearn.model_selection import train_test_split\n",
        "xM_train, xM_test, yM_train, yM_test = train_test_split(xM, yM, test_size = 1/3, random_state = 0)"
      ],
      "execution_count": 0,
      "outputs": []
    },
    {
      "cell_type": "code",
      "metadata": {
        "id": "fPD-iGj1qiSi",
        "colab_type": "code",
        "outputId": "7b5fa6d1-2b87-46b1-b35f-40d729367d67",
        "colab": {
          "base_uri": "https://localhost:8080/",
          "height": 34
        }
      },
      "source": [
        "from sklearn.linear_model import LinearRegression\n",
        "regressor = LinearRegression()\n",
        "regressor.fit(xM_train, yM_train)"
      ],
      "execution_count": 51,
      "outputs": [
        {
          "output_type": "execute_result",
          "data": {
            "text/plain": [
              "LinearRegression(copy_X=True, fit_intercept=True, n_jobs=None, normalize=False)"
            ]
          },
          "metadata": {
            "tags": []
          },
          "execution_count": 51
        }
      ]
    },
    {
      "cell_type": "code",
      "metadata": {
        "id": "xQ03BZjZt5Hu",
        "colab_type": "code",
        "outputId": "651e23a1-9d61-4055-987c-b7c489dc55dc",
        "colab": {
          "base_uri": "https://localhost:8080/",
          "height": 1000
        }
      },
      "source": [
        "yM_pred = regressor.predict(xM_test)\n",
        "print('Actual values' + '\\tPredicted Values' +'\\tError')\n",
        "errM = yM_test - yM_pred\n",
        "for i in zip(yM_test, yM_pred, errM):\n",
        "  print(i)"
      ],
      "execution_count": 52,
      "outputs": [
        {
          "output_type": "stream",
          "text": [
            "Actual values\tPredicted Values\tError\n",
            "(211500, 135354.45636553367, 76145.54363446633)\n",
            "(395100, 430460.3625492493, -35360.362549249316)\n",
            "(129000, 204109.8992577062, -75109.89925770619)\n",
            "(124000, 210920.30936645318, -86920.30936645318)\n",
            "(176850, 237533.83110206499, -60683.831102064985)\n",
            "(480000, 280962.0789088955, 199037.9210911045)\n",
            "(220000, 135506.5336325943, 84493.4663674057)\n",
            "(610000, 453119.87534128444, 156880.12465871556)\n",
            "(362305, 255892.20869185374, 106412.79130814626)\n",
            "(325000, 359440.27883193083, -34440.27883193083)\n",
            "(130000, 210953.37627543494, -80953.37627543494)\n",
            "(215000, 180303.19359751928, 34696.806402480725)\n",
            "(339000, 246506.3898586427, 92493.61014135729)\n",
            "(270000, 329133.9309623152, -59133.93096231518)\n",
            "(300567, 238935.5934145925, 61631.4065854075)\n",
            "(108750, 190532.05076476076, -81782.05076476076)\n",
            "(145846, 236350.27987456165, -90504.27987456165)\n",
            "(4897, 207392.17216829883, -202495.17216829883)\n",
            "(460000, 478321.72994880204, -18321.729948802036)\n",
            "(339000, 153722.7387708892, 185277.2612291108)\n",
            "(271742, 143609.6005113567, 128132.3994886433)\n",
            "(137721, 318488.5222680704, -180767.52226807037)\n",
            "(164000, 160837.30341375747, 3162.6965862425277)\n",
            "(257200, 323305.40972426534, -66105.40972426534)\n",
            "(134555, 206619.17416420672, -72064.17416420672)\n",
            "(220000, 148052.90816509703, 71947.09183490297)\n",
            "(115000, 196463.0641801257, -81463.06418012569)\n",
            "(261800, 225209.24235040756, 36590.757649592444)\n",
            "(306000, 225209.24235040756, 80790.75764959244)\n",
            "(225000, 228594.33925446906, -3594.339254469058)\n",
            "(218000, 281897.42135922296, -63897.421359222964)\n",
            "(371086, 225209.24235040756, 145876.75764959244)\n",
            "(276500, 244486.41366230583, 32013.58633769417)\n",
            "(334000, 336770.86122432887, -2770.8612243288662)\n",
            "(210000, 212805.04026939868, -2805.0402693986834)\n",
            "(221000, 214788.37486093267, 6211.625139067328)\n",
            "(178760, 225932.9870809079, -47172.987080907886)\n",
            "(97500, 136571.07450201878, -39071.074502018775)\n",
            "(116100, 158741.28858389027, -42641.28858389027)\n",
            "(471750, 476083.54266744095, -4333.542667440954)\n",
            "(361745, 269698.1730853901, 92046.82691460988)\n",
            "(185000, 142469.0210084019, 42530.978991598095)\n",
            "(181000, 240152.21155107763, -59152.211551077635)\n",
            "(282400, 523786.1888872818, -241386.1888872818)\n",
            "(330000, 212805.04026939868, 117194.95973060132)\n",
            "(115620, 226237.14161502916, -110617.14161502916)\n",
            "(120000, 376023.3143067374, -256023.3143067374)\n",
            "(156000, 198211.95275132303, -42211.95275132303)\n",
            "(236250, 167637.80870693768, 68612.19129306232)\n",
            "(85500, 202056.85615238754, -116556.85615238754)\n",
            "(4897, 207392.17216829883, -202495.17216829883)\n",
            "(247480, 215102.43421062073, 32377.565789379267)\n",
            "(127059, 202132.89478591786, -75073.89478591786)\n",
            "(4897, 207392.17216829883, -202495.17216829883)\n",
            "(61500, 143229.4073437051, -81729.4073437051)\n",
            "(180000, 229354.72558977225, -49354.72558977225)\n",
            "(65000, 145391.55599153583, -80391.55599153583)\n",
            "(380000, 200790.65292615697, 179209.34707384303)\n",
            "(250000, 207392.17216829883, 42607.82783170117)\n",
            "(258000, 393125.3934858624, -135125.3934858624)\n",
            "(680000, 496485.02799952717, 183514.97200047283)\n",
            "(234000, 231331.73006156055, 2668.269938439451)\n",
            "(225000, 230419.26645919672, -5419.266459196719)\n",
            "(4897, 207392.17216829883, -202495.17216829883)\n",
            "(75000, 128739.09524839585, -53739.09524839585)\n",
            "(205878, 227757.91428563555, -21879.914285635547)\n",
            "(236000, 411652.3665234755, -175652.3665234755)\n",
            "(668365, 430037.19765704917, 238327.80234295083)\n",
            "(92000, 135962.76543377622, -43962.76543377622)\n",
            "(114800, 207303.5218659796, -92503.5218659796)\n",
            "(151087, 211561.6853436775, -60474.6853436775)\n",
            "(150000, 230495.30509272704, -80495.30509272704)\n",
            "(311328, 293878.45854803175, 17449.541451968253)\n",
            "(511000, 207392.17216829883, 303607.82783170114)\n",
            "(150000, 231070.54725198782, -81070.54725198782)\n",
            "(230522, 120755.03872771231, 109766.96127228769)\n",
            "(164000, 215211.53975313282, -51211.53975313282)\n",
            "(68000, 126686.05214307724, -58686.052143077235)\n",
            "(297500, 324310.7133863744, -26810.71338637441)\n",
            "(122000, 215515.6942872541, -93515.6942872541)\n",
            "(275336, 230647.38235978768, 44688.617640212324)\n",
            "(188335, 220001.97366554296, -31666.97366554296)\n",
            "(200345, 206010.86509596417, -5665.865095964167)\n",
            "(300000, 207392.17216829883, 92607.82783170117)\n",
            "(193500, 234069.12086865207, -40569.12086865207)\n",
            "(255000, 185050.65578538083, 69949.34421461917)\n",
            "(192067, 216352.1192560876, -24285.119256087608)\n",
            "(229500, 226280.1133395777, 3219.886660422286)\n",
            "(286013, 229278.68695624193, 56734.31304375807)\n",
            "(165000, 243008.612716248, -78008.612716248)\n",
            "(220000, 233123.59035730647, -13123.590357306472)\n",
            "(200000, 156460.1295779807, 43539.8704220193)\n",
            "(167293, 213310.57391487484, -46017.57391487484)\n",
            "(207744, 273728.2206624971, -65984.2206624971)\n",
            "(395000, 335428.6193645679, 59571.380635432084)\n",
            "(116000, 203805.7447235849, -87805.74472358491)\n",
            "(207000, 259508.99619232732, -52508.99619232732)\n",
            "(275000, 281560.1999161199, -6560.19991611992)\n",
            "(170000, 207151.44459891896, -37151.444598918955)\n",
            "(288000, 250949.697512383, 37050.30248761701)\n",
            "(277980, 368674.0203980813, -90694.02039808128)\n",
            "(182716, 211409.60807661686, -28693.60807661686)\n",
            "(412500, 274759.97786839097, 137740.02213160903)\n",
            "(4897, 207392.17216829883, -202495.17216829883)\n",
            "(280000, 364415.8569203834, -84415.8569203834)\n",
            "(148750, 146955.3003866908, 1794.6996133092034)\n",
            "(4897, 207392.17216829883, -202495.17216829883)\n",
            "(328360, 320313.44947279803, 8046.550527201965)\n",
            "(109000, 206129.87545404304, -97129.87545404304)\n",
            "(146000, 215178.47284415105, -69178.47284415105)\n",
            "(247000, 246463.41813409413, 536.5818659058714)\n",
            "(613401, 466611.7803851329, 146789.21961486712)\n",
            "(394470, 436348.4042400656, -41878.4042400656)\n",
            "(111000, 148476.07305729718, -37476.07305729718)\n",
            "(4897, 207392.17216829883, -202495.17216829883)\n",
            "(228000, 247266.7761939459, -19266.7761939459)\n",
            "(156000, 202969.3197547514, -46969.3197547514)\n",
            "(190000, 151745.7342991009, 38254.265700899094)\n",
            "(174250, 210573.18310778335, -36323.18310778335)\n",
            "(266000, 199726.1120567325, 66273.8879432675)\n",
            "(94905, 184372.92144880487, -89467.92144880487)\n",
            "(368500, 207392.17216829883, 161107.82783170117)\n",
            "(170000, 212805.04026939868, -42805.04026939868)\n",
            "(265000, 246159.26359997285, 18840.73640002715)\n",
            "(115000, 176388.86492812133, -61388.86492812133)\n",
            "(4897, 207392.17216829883, -202495.17216829883)\n",
            "(131750, 197831.75958367143, -66081.75958367143)\n",
            "(4897, 207392.17216829883, -202495.17216829883)\n",
            "(204750, 247570.93072806718, -42820.93072806718)\n",
            "(225000, 180184.1832394404, 44815.816760559595)\n",
            "(245000, 159762.85772876622, 85237.14227123378)\n",
            "(159900, 424926.06048229965, -265026.06048229965)\n",
            "(274500, 207392.17216829883, 67107.82783170117)\n",
            "(178480, 209128.44907070725, -30648.449070707255)\n",
            "(141000, 191824.7075347762, -50824.707534776186)\n",
            "(127000, 122579.96593243998, 4420.034067560016)\n",
            "(133000, 191824.7075347762, -58824.707534776186)\n",
            "(360000, 207392.17216829883, 152607.82783170117)\n",
            "(250000, 207392.17216829883, 42607.82783170117)\n",
            "(120000, 124404.89313716766, -4404.893137167659)\n",
            "(250000, 243421.87279288136, 6578.1272071186395)\n",
            "(201528, 222283.13267145253, -20755.132671452535)\n",
            "(170725, 194023.21454195856, -23298.214541958558)\n",
            "(315000, 277606.1909725433, 37393.80902745668)\n",
            "(4897, 207392.17216829883, -202495.17216829883)\n",
            "(460000, 219007.14130990312, 240992.85869009688)\n",
            "(142000, 210725.260374844, -68725.26037484399)\n",
            "(200000, 226693.37341621108, -26693.373416211078)\n",
            "(450000, 281332.084015529, 168667.91598447098)\n",
            "(102750, 210388.03893174094, -107638.03893174094)\n",
            "(438700, 280962.0789088955, 157737.9210911045)\n",
            "(475000, 219007.14130990312, 255992.85869009688)\n",
            "(180400, 249504.96347530693, -69104.96347530693)\n",
            "(378000, 208672.21726952534, 169327.78273047466)\n",
            "(303000, 378069.7440468591, -75069.7440468591)\n",
            "(425000, 442018.23484585783, -17018.234845857834)\n",
            "(423000, 225209.24235040756, 197790.75764959244)\n",
            "(129500, 201828.74025179658, -72328.74025179658)\n",
            "(4897, 207392.17216829883, -202495.17216829883)\n",
            "(261000, 238175.2070792893, 22824.792920710694)\n",
            "(228750, 336433.6397812258, -107683.63978122582)\n",
            "(170000, 234601.3913033643, -64601.391303364304)\n",
            "(415000, 324604.6798594777, 90395.32014052232)\n",
            "(267750, 225209.24235040756, 42540.757649592444)\n",
            "(238000, 246615.49540115477, -8615.495401154767)\n",
            "(433500, 207392.17216829883, 226107.82783170117)\n",
            "(356000, 258781.6767660059, 97218.3232339941)\n",
            "(265000, 309211.80897737143, -44211.80897737143)\n",
            "(170000, 212702.2648466323, -42702.264846632286)\n",
            "(212500, 219007.14130990312, -6507.14130990312)\n",
            "(614000, 225209.24235040756, 388790.7576495925)\n",
            "(294173, 256087.25768346293, 38085.74231653707)\n",
            "(160000, 223423.71217440732, -63423.71217440732)\n",
            "(140000, 226693.37341621108, -86693.37341621108)\n",
            "(223000, 248939.62613161292, -25939.626131612924)\n",
            "(89921, 154787.27964031367, -64866.279640313674)\n",
            "(331200, 314104.73506709666, 17095.264932903345)\n",
            "(178000, 210192.98994013175, -32192.989940131753)\n",
            "(255000, 233536.85043393984, 21463.149566060165)\n",
            "(185074, 234416.2471273219, -49342.2471273219)\n",
            "(145000, 198896.3004530959, -53896.3004530959)\n",
            "(489332, 436348.4042400656, 52983.5957599344)\n",
            "(350000, 212805.04026939868, 137194.95973060132)\n",
            "(295000, 408485.1974589869, -113485.19745898689)\n",
            "(305000, 315523.015560388, -10523.015560387983)\n",
            "(192700, 220078.01229907328, -27378.012299073278)\n",
            "(122000, 201144.3925500237, -79144.39255002371)\n",
            "(436746, 274759.97786839097, 161986.02213160903)\n",
            "(180000, 189391.47126180597, -9391.471261805971)\n",
            "(105000, 149388.536659661, -44388.53665966101)\n",
            "(4897, 207392.17216829883, -202495.17216829883)\n",
            "(110000, 162923.4134280579, -52923.41342805789)\n",
            "(297000, 392599.7364163471, -95599.73641634709)\n",
            "(224000, 148552.1116908275, 75447.8883091725)\n",
            "(148750, 237153.6379344134, -88403.63793441339)\n",
            "(158000, 228485.23371195697, -70485.23371195697)\n",
            "(107666, 108926.07880596424, -1260.0788059642364)\n",
            "(128687, 142621.09827546254, -13934.098275462544)\n",
            "(69000, 123720.54543539479, -54720.545435394786)\n",
            "(600000, 274759.97786839097, 325240.02213160903)\n",
            "(152000, 211974.94542031086, -59974.94542031086)\n",
            "(315000, 222435.20993851317, 92564.79006148683)\n",
            "(294000, 219007.14130990312, 74992.85869009688)\n",
            "(225000, 207392.17216829883, 17607.82783170117)\n",
            "(245000, 364187.7410197924, -119187.74101979239)\n",
            "(145000, 204185.9378912365, -59185.93789123651)\n",
            "(289000, 334152.48077531625, -45152.480775316246)\n",
            "(55422, 126990.20667719851, -71568.20667719851)\n",
            "(120000, 107980.54829461864, 12019.451705381362)\n",
            "(284686, 314719.6575005362, -30033.65750053618)\n",
            "(346375, 379134.28491628356, -32759.284916283563)\n",
            "(400000, 219007.14130990312, 180992.85869009688)\n",
            "(241000, 265440.00960769225, -24440.00960769225)\n",
            "(242000, 207392.17216829883, 34607.82783170117)\n",
            "(183200, 247114.69892688526, -63914.69892688526)\n",
            "(227887, 248103.2011627794, -20216.201162779413)\n",
            "(179000, 254110.25321167463, -75110.25321167463)\n",
            "(145000, 118169.72518768146, 26830.274812318545)\n",
            "(125000, 136994.23939421892, -11994.239394218923)\n",
            "(406026, 381904.7426323568, 24121.25736764318)\n",
            "(195000, 245213.73308862725, -50213.733088627254)\n",
            "(150000, 224835.37930250165, -74835.37930250165)\n",
            "(167293, 222554.22029659204, -55261.220296592044)\n",
            "(229027, 222283.13267145253, 6743.867328547465)\n",
            "(210944, 131889.74613212072, 79054.25386787928)\n",
            "(425000, 207392.17216829883, 217607.82783170117)\n",
            "(68880, 123796.5840689251, -54916.584068925105)\n",
            "(240000, 263310.9278688433, -23310.92786884331)\n",
            "(197654, 233460.81180040952, -35806.811800409516)\n",
            "(220000, 244301.26948626342, -24301.269486263423)\n",
            "(441000, 392897.2775852714, 48102.7224147286)\n",
            "(237800, 278171.5283162374, -40371.52831623738)\n",
            "(452000, 503837.64390600764, -51837.64390600764)\n",
            "(212864, 246126.1966909911, -33262.19669099111)\n",
            "(298000, 275933.3410348763, 22066.6589651237)\n",
            "(188700, 227605.8370185749, -38905.83701857491)\n",
            "(233641, 149920.80709437325, 83720.19290562675)\n",
            "(285000, 243768.9990515512, 41231.00094844881)\n",
            "(236073, 227529.7983850446, 8543.201614955411)\n",
            "(300500, 270458.5594206933, 30041.440579306684)\n",
            "(68212, 158209.01814917804, -89997.01814917804)\n",
            "(190000, 123796.5840689251, 66203.4159310749)\n",
            "(180000, 226237.14161502916, -46237.14161502916)\n",
            "(4897, 207392.17216829883, -202495.17216829883)\n",
            "(174000, 220914.4372679068, -46914.43726790679)\n",
            "(220000, 141741.70158208048, 78258.29841791952)\n",
            "(250000, 235937.01979792828, 14062.980202071718)\n",
            "(228327, 211181.4921760259, 17145.507823974098)\n",
            "(391000, 292288.26060909196, 98711.73939090804)\n",
            "(70000, 140144.89027794378, -70144.89027794378)\n",
            "(284893, 221142.55316849775, 63750.44683150225)\n",
            "(150000, 246701.43885025187, -96701.43885025187)\n",
            "(399000, 272316.55353440274, 126683.44646559726)\n",
            "(520000, 280962.0789088955, 239037.9210911045)\n",
            "(30000, 207392.17216829883, -177392.17216829883)\n",
            "(307000, 207392.17216829883, 99607.82783170117)\n",
            "(158000, 227952.96327724474, -69952.96327724474)\n",
            "(224252, 142469.0210084019, 81782.9789915981)\n",
            "(91000, 182624.03287760753, -91624.03287760753)\n",
            "(170000, 209356.5649712982, -39356.56497129821)\n",
            "(78400, 119994.65239240912, -41594.652392409116)\n",
            "(208000, 322290.45394458633, -114290.45394458633)\n",
            "(270000, 235437.81627219782, 34562.183727802185)\n",
            "(95000, 151745.7342991009, -56745.734299100906)\n",
            "(575000, 420304.2525651682, 154695.7474348318)\n",
            "(61000, 129879.67475135066, -68879.67475135066)\n",
            "(99000, 194403.40770961015, -95403.40770961015)\n",
            "(156142, 227605.8370185749, -71463.83701857491)\n",
            "(276000, 370617.9579608878, -94617.95796088781)\n",
            "(221000, 307006.6886049921, -86006.68860499212)\n",
            "(350000, 284178.58036513254, 65821.41963486746)\n",
            "(266510, 236122.1639739707, 30387.836026029312)\n",
            "(150000, 114857.09222132916, 35142.90777867084)\n",
            "(113000, 146575.1072190392, -33575.1072190392)\n",
            "(660000, 345363.226813255, 314636.773186745)\n",
            "(200000, 224944.48484501374, -24944.484845013736)\n",
            "(169000, 207151.44459891896, -38151.444598918955)\n",
            "(242000, 219730.88604040345, 22269.11395959655)\n",
            "(200000, 208368.06273540406, -8368.062735404063)\n",
            "(92000, 139731.6302013104, -47731.630201310414)\n",
            "(528000, 356154.09940936335, 171845.90059063665)\n",
            "(326951, 219007.14130990312, 107943.85869009688)\n",
            "(30000, 207683.7150336312, -177683.7150336312)\n",
            "(100309, 188141.7862163391, -87832.7862163391)\n",
            "(275086, 228974.53242212065, 46111.467577879346)\n",
            "(195000, 388721.76610630075, -193721.76610630075)\n",
            "(240000, 414872.4426755338, -174872.44267553382)\n",
            "(545000, 171972.01081816587, 373027.98918183416)\n",
            "(180000, 249776.05110044644, -69776.05110044644)\n",
            "(256054, 389068.8923649705, -133014.89236497052)\n",
            "(760000, 460039.39099254354, 299960.60900745646)\n",
            "(140800, 217872.89192669402, -77072.89192669402)\n",
            "(195500, 246539.45676762445, -51039.45676762445)\n",
            "(170000, 266580.589110647, -96580.58911064698)\n",
            "(190000, 268709.6708494959, -78709.67084949592)\n",
            "(313138, 225020.52347854406, 88117.47652145594)\n",
            "(122000, 204033.86062417587, -82033.86062417587)\n",
            "(123675, 203154.46393079378, -79479.46393079378)\n",
            "(400000, 248060.22943823086, 151939.77056176914)\n",
            "(164000, 201177.45945900548, -37177.45945900548)\n",
            "(306500, 207392.17216829883, 99107.82783170117)\n",
            "(200000, 257412.98136246015, -57412.98136246015)\n",
            "(168000, 231331.73006156055, -63331.73006156055)\n",
            "(172000, 239315.7865822441, -67315.7865822441)\n",
            "(198000, 151061.38659732803, 46938.61340267197)\n",
            "(423000, 322214.4153110561, 100785.58468894393)\n",
            "(299000, 228399.29026285987, 70600.70973714013)\n",
            "(336000, 342668.807730712, -6668.807730711997)\n",
            "(221000, 246582.42849217303, -25582.42849217303)\n",
            "(166357, 251144.74650399218, -84787.74650399218)\n",
            "(328578, 251372.86240458314, 77205.13759541686)\n",
            "(264469, 220501.17719127343, 43967.822808726574)\n",
            "(315000, 225209.24235040756, 89790.75764959244)\n",
            "(194818, 207392.17216829883, -12574.172168298828)\n",
            "(254172, 258173.36769776334, -4001.367697763344)\n",
            "(189000, 226997.52795033235, -37997.527950332355)\n",
            "(310000, 233232.69589981856, 76767.30410018144)\n",
            "(174250, 230267.18919213608, -56017.18919213608)\n",
            "(258000, 256315.37358405392, 1684.6264159460843)\n",
            "(335750, 375778.6802253828, -40028.68022538279)\n",
            "(247000, 207392.17216829883, 39607.82783170117)\n",
            "(160000, 232168.1550303941, -72168.15503039409)\n",
            "(4897, 207392.17216829883, -202495.17216829883)\n",
            "(189000, 185735.0034871537, 3264.9965128462936)\n",
            "(4897, 207392.17216829883, -202495.17216829883)\n",
            "(311000, 300797.97419929085, 10202.025800709147)\n",
            "(106852, 123297.38054319464, -16445.38054319464)\n",
            "(830000, 386265.6509853668, 443734.3490146332)\n",
            "(344250, 285167.08260102675, 59082.91739897325)\n"
          ],
          "name": "stdout"
        }
      ]
    },
    {
      "cell_type": "code",
      "metadata": {
        "id": "ZYloO8s7uLPy",
        "colab_type": "code",
        "outputId": "5f800845-32b5-444f-d569-a48f67073e6e",
        "colab": {
          "base_uri": "https://localhost:8080/",
          "height": 34
        }
      },
      "source": [
        "regressor.score(xM_test,yM_test)"
      ],
      "execution_count": 53,
      "outputs": [
        {
          "output_type": "execute_result",
          "data": {
            "text/plain": [
              "0.3532101742163726"
            ]
          },
          "metadata": {
            "tags": []
          },
          "execution_count": 53
        }
      ]
    }
  ]
}
