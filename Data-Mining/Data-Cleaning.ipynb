{
  "nbformat": 4,
  "nbformat_minor": 0,
  "metadata": {
    "colab": {
      "name": "Introduction-To-Data-PreProcessing.ipynb",
      "provenance": []
    },
    "kernelspec": {
      "name": "python3",
      "display_name": "Python 3"
    }
  },
  "cells": [
    {
      "cell_type": "code",
      "metadata": {
        "id": "n5SffVH7WyKD",
        "colab_type": "code",
        "colab": {}
      },
      "source": [
        "%matplotlib inline\n",
        "import pandas as pd\n",
        "import numpy as np\n",
        "import matplotlib.pyplot as plt\n"
      ],
      "execution_count": 0,
      "outputs": []
    },
    {
      "cell_type": "code",
      "metadata": {
        "id": "hTx7f0phZFIR",
        "colab_type": "code",
        "colab": {}
      },
      "source": [
        "from google.colab import drive \n",
        "drive.mount('/mntDrive') \n",
        "!ls \"/mntDrive/My Drive/Colab Notebooks\"\n"
      ],
      "execution_count": 0,
      "outputs": []
    },
    {
      "cell_type": "markdown",
      "metadata": {
        "id": "02ESSs6qZqXn",
        "colab_type": "text"
      },
      "source": [
        ""
      ]
    },
    {
      "cell_type": "code",
      "metadata": {
        "id": "H9cAjsktYGkV",
        "colab_type": "code",
        "colab": {}
      },
      "source": [
        "df=pd.read_csv('/mntDrive/My Drive/Colab Notebooks/pima1.csv')"
      ],
      "execution_count": 0,
      "outputs": []
    },
    {
      "cell_type": "code",
      "metadata": {
        "id": "2MUSOJOrZPmW",
        "colab_type": "code",
        "colab": {}
      },
      "source": [
        "df"
      ],
      "execution_count": 0,
      "outputs": []
    },
    {
      "cell_type": "code",
      "metadata": {
        "id": "9GryFGuFZ0kt",
        "colab_type": "code",
        "colab": {}
      },
      "source": [
        "df.at[0, 'pregnancy'] = 200 #Changing the value in a particular cell"
      ],
      "execution_count": 0,
      "outputs": []
    },
    {
      "cell_type": "code",
      "metadata": {
        "id": "RJX9BEBFcgh7",
        "colab_type": "code",
        "colab": {}
      },
      "source": [
        "df.head()"
      ],
      "execution_count": 0,
      "outputs": []
    },
    {
      "cell_type": "code",
      "metadata": {
        "id": "gwZmEHtJebme",
        "colab_type": "code",
        "colab": {}
      },
      "source": [
        "#Checking for outliers (Method 1)\n",
        "plt.boxplot(df['pregnancy'])\n",
        "plt.show"
      ],
      "execution_count": 0,
      "outputs": []
    },
    {
      "cell_type": "code",
      "metadata": {
        "id": "2-8jcSDcg49x",
        "colab_type": "code",
        "colab": {}
      },
      "source": [
        "#Method 2\n",
        "Q1, Q3 = df.quantile(0.25), df.quantile(0.75)\n",
        "IQR = Q3 - Q1\n",
        "print(Q1)\n",
        "print(Q3)\n",
        "print(IQR)"
      ],
      "execution_count": 0,
      "outputs": []
    },
    {
      "cell_type": "code",
      "metadata": {
        "id": "rYOgxaKuidx0",
        "colab_type": "code",
        "colab": {}
      },
      "source": [
        "lower, upper = Q1 - (1.5*IQR), Q3 + (1.5*IQR)\n",
        "print((df<lower) | (df>upper))"
      ],
      "execution_count": 0,
      "outputs": []
    },
    {
      "cell_type": "code",
      "metadata": {
        "id": "F8Yp4E8_ixNt",
        "colab_type": "code",
        "colab": {}
      },
      "source": [
        ""
      ],
      "execution_count": 0,
      "outputs": []
    }
  ]
}
