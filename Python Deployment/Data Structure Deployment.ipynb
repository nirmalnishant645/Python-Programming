{
 "cells": [
  {
   "cell_type": "markdown",
   "metadata": {},
   "source": [
    "# Python Data Structure Introduction"
   ]
  },
  {
   "cell_type": "code",
   "execution_count": 4,
   "metadata": {},
   "outputs": [
    {
     "name": "stdout",
     "output_type": "stream",
     "text": [
      "This is my first code\n"
     ]
    }
   ],
   "source": [
    "# Remove the leading spaces from the string  input_str = '         This is my first code'\n",
    "\n",
    "import ast, sys\n",
    "input_str = '         This is my first code'\n",
    "\n",
    "final_str = input_str.lstrip()\n",
    "print(final_str)"
   ]
  },
  {
   "cell_type": "code",
   "execution_count": 6,
   "metadata": {},
   "outputs": [
    {
     "name": "stdout",
     "output_type": "stream",
     "text": [
      "Ravi\n",
      "Kumar\n",
      "003\n"
     ]
    }
   ],
   "source": [
    "'''\n",
    "Split the string input_str = 'Kumar_Ravi_003' to the person's second name, first name and unique customer code. In this example, second_name= 'Kumar', first_name= 'Ravi', customer_code = '003'.\n",
    "\n",
    "A sample output of the input 'Kumar_Ravi_003' is:\n",
    "Ravi\n",
    "Kumar\n",
    "003\n",
    "'''\n",
    "# Note that you need to print in the order first name, last name and customer code.\n",
    "\n",
    "import ast,sys\n",
    "input_str = 'Kumar_Ravi_003'\n",
    "first_name = input_str[6:10]\n",
    "second_name = input_str[:5]\n",
    "customer_code = input_str[-3:]\n",
    "print(first_name)\n",
    "print(second_name)\n",
    "print(customer_code)"
   ]
  },
  {
   "cell_type": "code",
   "execution_count": 11,
   "metadata": {},
   "outputs": [
    {
     "name": "stdout",
     "output_type": "stream",
     "text": [
      "['SAS', 'R', 'PYTHON', 'SPARK']\n"
     ]
    }
   ],
   "source": [
    "'''\n",
    "List_remove_append\n",
    "\n",
    "Description\n",
    "Remove SPSS from input_list=['SAS', 'R', 'PYTHON', 'SPSS'] and add 'SPARK' in its place.\n",
    "'''\n",
    "\n",
    "import ast,sys\n",
    "input_list = ['SAS','R','PYTHON','SPSS']\n",
    "input_list.remove('SPSS')\n",
    "input_list.append('SPARK')\n",
    "print(input_list)\n"
   ]
  },
  {
   "cell_type": "code",
   "execution_count": 12,
   "metadata": {},
   "outputs": [
    {
     "name": "stdout",
     "output_type": "stream",
     "text": [
      "['I love Data Science ', ' Python']\n"
     ]
    }
   ],
   "source": [
    "'''\n",
    "string to list conversion\n",
    "\n",
    "Description\n",
    "\n",
    "Convert a string input_str = 'I love Data Science & Python' to a list by splitting it on ‘&’. The sample output for this string will be:\n",
    "['I love Data Science ', ' Python']\n",
    "'''\n",
    "\n",
    "import ast,sys\n",
    "input_str = 'I love Data Science & Python'\n",
    "\n",
    "output_list = input_str.split('&')\n",
    "print(output_list)"
   ]
  },
  {
   "cell_type": "code",
   "execution_count": 13,
   "metadata": {},
   "outputs": [
    {
     "name": "stdout",
     "output_type": "stream",
     "text": [
      "Pythons syntax is easy to learn & Pythons syntax is very clear\n"
     ]
    }
   ],
   "source": [
    "'''\n",
    "List to String\n",
    "\n",
    "Description\n",
    "\n",
    "Convert a list ['Pythons syntax is easy to learn', 'Pythons syntax is very clear'] to a string using ‘&’. The sample output of this string will be:\n",
    "Pythons syntax is easy to learn & Pythons syntax is very clear\n",
    "\n",
    "Note that there is a space on both sides of '&' (as usual in English sentences).\n",
    "'''\n",
    "\n",
    "import ast,sys\n",
    "input_str = ['Pythons syntax is easy to learn', 'Pythons syntax is very clear']\n",
    "\n",
    "string_1 = \" & \".join(input_str)\n",
    "print(string_1)"
   ]
  },
  {
   "cell_type": "code",
   "execution_count": 15,
   "metadata": {},
   "outputs": [
    {
     "name": "stdout",
     "output_type": "stream",
     "text": [
      "('Monty Python', 'British', 1969, 'Python')\n"
     ]
    }
   ],
   "source": [
    "'''\n",
    "Tuple\n",
    "\n",
    "Description\n",
    "\n",
    "Add the element ‘Python’ to a tuple input_tuple = ('Monty Python', 'British', 1969). Since tuples are immutable, one way to do this is to convert the tuple to a list, add the element, and convert it back to a tuple.\n",
    "\n",
    "To learn how to convert a list to a tuple, search for it on Google / Stack Overflow etc.\n",
    "'''\n",
    "\n",
    "import ast,sys\n",
    "input_tuple = ('Monty Python', 'British', 1969)\n",
    "\n",
    "a = list(input_tuple)\n",
    "a.append('Python')\n",
    "tuple_2 = tuple(a)\n",
    "print(tuple_2)"
   ]
  },
  {
   "cell_type": "code",
   "execution_count": 1,
   "metadata": {},
   "outputs": [
    {
     "name": "stdout",
     "output_type": "stream",
     "text": [
      "NA\n"
     ]
    }
   ],
   "source": [
    "'''\n",
    "Dict_Error\n",
    "\n",
    "Description\n",
    "\n",
    "From a Dictionary input_dict={'Name': 'Monty', 'Profession': 'Singer' }, get the value of a key ‘Label’ which is not a part of the dictionary, in such a way that Python doesn't hit an error. If the key does not exist in the dictionary, Python should return 'NA'.\n",
    "'''\n",
    "\n",
    "import ast,sys\n",
    "input_dict = {'Name' : 'Monty' , 'Profession' : 'Singer' }\n",
    "\n",
    "answer = input_dict.get('Label' , 'NA')\n",
    "print(answer)"
   ]
  },
  {
   "cell_type": "code",
   "execution_count": 3,
   "metadata": {},
   "outputs": [
    {
     "name": "stdout",
     "output_type": "stream",
     "text": [
      "Apple\n"
     ]
    }
   ],
   "source": [
    "'''\n",
    "Getting a Value from a Dictionary.\n",
    "\n",
    "Description\n",
    "\n",
    "Extract the company headed by Tim Cook from the dictionary {'Jack Dorsey': 'Twitter', 'Tim Cook': 'Apple','Jeff Bezos': 'Amazon','Mukesh Ambani': 'RJIO'}\n",
    "'''\n",
    "\n",
    "import ast,sys\n",
    "input_dict = {'Jack Dorsey' : 'Twitter' , 'Tim Cook' : 'Apple','Jeff Bezos' : 'Amazon' ,'Mukesh Ambani' : 'RJIO'}\n",
    "\n",
    "name = input_dict['Tim Cook']\n",
    "print(name)"
   ]
  },
  {
   "cell_type": "code",
   "execution_count": 4,
   "metadata": {},
   "outputs": [
    {
     "name": "stdout",
     "output_type": "stream",
     "text": [
      "['Amazon', 'Apple', 'RJIO', 'Twitter']\n"
     ]
    }
   ],
   "source": [
    "'''\n",
    "List of Values in a Dictionary.\n",
    "\n",
    "Description\n",
    "\n",
    "Create a SORTED list of all values from the dictionary input_dict = {'Jack Dorsey' : 'Twitter' , 'Tim Cook' : 'Apple','Jeff Bezos' : 'Amazon' ,'Mukesh Ambani' : 'RJIO'}\n",
    "'''\n",
    "\n",
    "import ast,sys\n",
    "input_dict = {'Jack Dorsey' : 'Twitter' , 'Tim Cook' : 'Apple','Jeff Bezos' : 'Amazon' ,'Mukesh Ambani' : 'RJIO'}\n",
    "\n",
    "value_list = list(input_dict.values())\n",
    "print(sorted(value_list))"
   ]
  },
  {
   "cell_type": "code",
   "execution_count": 18,
   "metadata": {},
   "outputs": [
    {
     "name": "stdout",
     "output_type": "stream",
     "text": [
      "[1]\n",
      "[1, 7, 8, 9]\n"
     ]
    }
   ],
   "source": [
    "'''\n",
    "Set_diff\n",
    "\n",
    "Description\n",
    "\n",
    "Find the difference, using difference and symmetric_difference, between two given lists - list1 and list2.\n",
    "\n",
    "First, convert the lists into sets and store them as set_1 and set_2. Then store the difference and symmetric difference in answer_1 and answer_2 respectively. Print both the answers as sorted lists, i.e. convert the final sets to lists, sort it and then return it.\n",
    "'''\n",
    "\n",
    "import ast,sys\n",
    "input_list = [[1,2,3,4,5,6],[2,3,4,5,6,7,8,9]]\n",
    "list_1 = input_list[0]\n",
    "list_2 = input_list[1]\n",
    "\n",
    "set_1 = set(list_1)\n",
    "set_2 = set(list_2)\n",
    "answer_1 = sorted(list(set_1.difference(set_2)))\n",
    "answer_2 = sorted(list(set_1.union(set_2).difference(set_1.intersection(set_2))))\n",
    "\n",
    "print(answer_1)\n",
    "print(answer_2)\n"
   ]
  },
  {
   "cell_type": "code",
   "execution_count": null,
   "metadata": {},
   "outputs": [],
   "source": []
  }
 ],
 "metadata": {
  "kernelspec": {
   "display_name": "Python 3",
   "language": "python",
   "name": "python3"
  },
  "language_info": {
   "codemirror_mode": {
    "name": "ipython",
    "version": 3
   },
   "file_extension": ".py",
   "mimetype": "text/x-python",
   "name": "python",
   "nbconvert_exporter": "python",
   "pygments_lexer": "ipython3",
   "version": "3.6.5"
  }
 },
 "nbformat": 4,
 "nbformat_minor": 2
}
