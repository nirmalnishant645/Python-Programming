{
 "cells": [
  {
   "cell_type": "code",
   "execution_count": 3,
   "metadata": {},
   "outputs": [
    {
     "data": {
      "text/plain": [
       "['.ipynb_checkpoints',\n",
       " 'Introduction-to-Pandas.ipynb',\n",
       " 'Loading-Data-in-Python.ipynb',\n",
       " 'supermarkets.json']"
      ]
     },
     "execution_count": 3,
     "metadata": {},
     "output_type": "execute_result"
    }
   ],
   "source": [
    "import os\n",
    "os.listdir()"
   ]
  },
  {
   "cell_type": "code",
   "execution_count": 2,
   "metadata": {},
   "outputs": [],
   "source": [
    "import pandas"
   ]
  },
  {
   "cell_type": "code",
   "execution_count": 6,
   "metadata": {},
   "outputs": [
    {
     "data": {
      "text/html": [
       "<div>\n",
       "<style scoped>\n",
       "    .dataframe tbody tr th:only-of-type {\n",
       "        vertical-align: middle;\n",
       "    }\n",
       "\n",
       "    .dataframe tbody tr th {\n",
       "        vertical-align: top;\n",
       "    }\n",
       "\n",
       "    .dataframe thead th {\n",
       "        text-align: right;\n",
       "    }\n",
       "</style>\n",
       "<table border=\"1\" class=\"dataframe\">\n",
       "  <thead>\n",
       "    <tr style=\"text-align: right;\">\n",
       "      <th></th>\n",
       "      <th>Address</th>\n",
       "      <th>City</th>\n",
       "      <th>Country</th>\n",
       "      <th>Employees</th>\n",
       "      <th>Name</th>\n",
       "      <th>State</th>\n",
       "    </tr>\n",
       "    <tr>\n",
       "      <th>ID</th>\n",
       "      <th></th>\n",
       "      <th></th>\n",
       "      <th></th>\n",
       "      <th></th>\n",
       "      <th></th>\n",
       "      <th></th>\n",
       "    </tr>\n",
       "  </thead>\n",
       "  <tbody>\n",
       "    <tr>\n",
       "      <th>1</th>\n",
       "      <td>3666 21st St</td>\n",
       "      <td>San Francisco</td>\n",
       "      <td>USA</td>\n",
       "      <td>8</td>\n",
       "      <td>Madeira</td>\n",
       "      <td>CA 94114</td>\n",
       "    </tr>\n",
       "    <tr>\n",
       "      <th>2</th>\n",
       "      <td>735 Dolores St</td>\n",
       "      <td>San Francisco</td>\n",
       "      <td>USA</td>\n",
       "      <td>15</td>\n",
       "      <td>Bready Shop</td>\n",
       "      <td>CA 94119</td>\n",
       "    </tr>\n",
       "    <tr>\n",
       "      <th>3</th>\n",
       "      <td>332 Hill St</td>\n",
       "      <td>San Francisco</td>\n",
       "      <td>USA</td>\n",
       "      <td>25</td>\n",
       "      <td>Super River</td>\n",
       "      <td>California 94114</td>\n",
       "    </tr>\n",
       "    <tr>\n",
       "      <th>4</th>\n",
       "      <td>3995 23rd St</td>\n",
       "      <td>San Francisco</td>\n",
       "      <td>USA</td>\n",
       "      <td>10</td>\n",
       "      <td>Ben's Shop</td>\n",
       "      <td>CA 94114</td>\n",
       "    </tr>\n",
       "    <tr>\n",
       "      <th>5</th>\n",
       "      <td>1056 Sanchez St</td>\n",
       "      <td>San Francisco</td>\n",
       "      <td>USA</td>\n",
       "      <td>12</td>\n",
       "      <td>Sanchez</td>\n",
       "      <td>California</td>\n",
       "    </tr>\n",
       "    <tr>\n",
       "      <th>6</th>\n",
       "      <td>551 Alvarado St</td>\n",
       "      <td>San Francisco</td>\n",
       "      <td>USA</td>\n",
       "      <td>20</td>\n",
       "      <td>Richvalley</td>\n",
       "      <td>CA 94114</td>\n",
       "    </tr>\n",
       "  </tbody>\n",
       "</table>\n",
       "</div>"
      ],
      "text/plain": [
       "            Address           City Country  Employees         Name  \\\n",
       "ID                                                                   \n",
       "1      3666 21st St  San Francisco     USA          8      Madeira   \n",
       "2    735 Dolores St  San Francisco     USA         15  Bready Shop   \n",
       "3       332 Hill St  San Francisco     USA         25  Super River   \n",
       "4      3995 23rd St  San Francisco     USA         10   Ben's Shop   \n",
       "5   1056 Sanchez St  San Francisco     USA         12      Sanchez   \n",
       "6   551 Alvarado St  San Francisco     USA         20   Richvalley   \n",
       "\n",
       "               State  \n",
       "ID                    \n",
       "1           CA 94114  \n",
       "2           CA 94119  \n",
       "3   California 94114  \n",
       "4           CA 94114  \n",
       "5         California  \n",
       "6           CA 94114  "
      ]
     },
     "execution_count": 6,
     "metadata": {},
     "output_type": "execute_result"
    }
   ],
   "source": [
    "df1=pandas.read_json(\"supermarkets.json\")\n",
    "df1.set_index(\"ID\")"
   ]
  }
 ],
 "metadata": {
  "kernelspec": {
   "display_name": "Python 3",
   "language": "python",
   "name": "python3"
  },
  "language_info": {
   "codemirror_mode": {
    "name": "ipython",
    "version": 3
   },
   "file_extension": ".py",
   "mimetype": "text/x-python",
   "name": "python",
   "nbconvert_exporter": "python",
   "pygments_lexer": "ipython3",
   "version": "3.6.5"
  }
 },
 "nbformat": 4,
 "nbformat_minor": 2
}
