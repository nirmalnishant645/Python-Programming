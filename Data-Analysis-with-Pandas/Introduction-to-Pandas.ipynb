{
 "cells": [
  {
   "cell_type": "markdown",
   "metadata": {},
   "source": [
    "Import pandas, initialise a dataframe and perform basic operations on it."
   ]
  },
  {
   "cell_type": "code",
   "execution_count": 5,
   "metadata": {},
   "outputs": [
    {
     "name": "stdout",
     "output_type": "stream",
     "text": [
      "DataFrame\n",
      "         Price  Age  Value\n",
      "First       2    4      6\n",
      "Second     10   20     30\n",
      "Mean of DataFrame individual columns:\n",
      " Price     6.0\n",
      "Age      12.0\n",
      "Value    18.0\n",
      "dtype: float64\n",
      "Mean of whole Dataframe:\n",
      " 12.0\n",
      "Mean of Price column:\n",
      " 6.0\n",
      "Maximum value in Price Column: 10\n"
     ]
    }
   ],
   "source": [
    "import pandas\n",
    "df1=pandas.DataFrame([[2,4,6],[10,20,30]],columns=[\"Price\", \"Age\", \"Value\"],index=[\"First\", \"Second\"])\n",
    "print(\"DataFrame:\\n\",df1)\n",
    "print(\"Mean of DataFrame individual columns:\\n\",df1.mean())\n",
    "print(\"Mean of whole Dataframe:\\n\",df1.mean().mean())\n",
    "print(\"Mean of Price column:\\n\",df1.Price.mean())\n",
    "print(\"Maximum value in Price Column:\",df1.Price.max())"
   ]
  }
 ],
 "metadata": {
  "kernelspec": {
   "display_name": "Python 3",
   "language": "python",
   "name": "python3"
  },
  "language_info": {
   "codemirror_mode": {
    "name": "ipython",
    "version": 3
   },
   "file_extension": ".py",
   "mimetype": "text/x-python",
   "name": "python",
   "nbconvert_exporter": "python",
   "pygments_lexer": "ipython3",
   "version": "3.6.5"
  }
 },
 "nbformat": 4,
 "nbformat_minor": 2
}
